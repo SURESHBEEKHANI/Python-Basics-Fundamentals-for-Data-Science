{
 "cells": [
  {
   "cell_type": "markdown",
   "id": "eff52ad8",
   "metadata": {},
   "source": [
    "#### Implementing OOP in Python\n",
    "\n",
    "For example:\n",
    "\n",
    "- A blueprint specifies that every house will have a **door**, **windows**, and **rooms**.\n",
    "- However, the blueprint itself is not a house—it is just a plan.\n",
    "\n",
    "Similarly, in Python, a **class** defines the structure and behavior (methods) that its objects will have, but it does not represent an actual object until you create one.\n",
    "\n",
    "Think of the class as the **template** for creating objects. Each object created from the class can have its own unique properties while following the same structure defined by the class.\n",
    "\n",
    "##### Example in Python:\n",
    "\n",
    "```python\n",
    "class House:\n",
    "    pass\n"
   ]
  },
  {
   "cell_type": "code",
   "execution_count": 1,
   "id": "c01fc70c",
   "metadata": {},
   "outputs": [],
   "source": [
    "class House:\n",
    "    pass"
   ]
  },
  {
   "cell_type": "markdown",
   "id": "2915d788",
   "metadata": {},
   "source": [
    "#### 🏡 Object = Instance of a Class\n",
    "\n",
    "An **object** is a specific instance of a class. When you create an object, you are essentially building something based on the blueprint (class).\n",
    "\n",
    "#### For example:\n",
    "- If the class is a blueprint for a house, the object is the actual house built from that blueprint.\n",
    "- Each object can have its own unique properties (e.g., color, size) while following the structure defined by the class.\n",
    "\n",
    "In Python, you create an object by calling the class as if it were a function. This process is called **instantiation**.\n"
   ]
  },
  {
   "cell_type": "code",
   "execution_count": 2,
   "id": "a1d73d37",
   "metadata": {},
   "outputs": [],
   "source": [
    "my_house = House()"
   ]
  },
  {
   "cell_type": "markdown",
   "id": "056be56d",
   "metadata": {},
   "source": [
    "#### 🧱 Attributes = Object’s Data\n",
    "\n",
    "Attributes are the data stored inside an object. They represent the state or properties of the object.\n",
    "\n",
    "##### For example:\n",
    "- If the object is a car, attributes could be its **color**, **brand**, or **year**.\n",
    "- Each object can have different values for these attributes.\n",
    "\n",
    "In Python, attributes are typically defined in the `__init__` method of a class.\n"
   ]
  },
  {
   "cell_type": "code",
   "execution_count": 5,
   "id": "76c5660d",
   "metadata": {},
   "outputs": [
    {
     "name": "stdout",
     "output_type": "stream",
     "text": [
      "1500\n",
      "blue\n",
      "large\n"
     ]
    }
   ],
   "source": [
    "# Define a class named House\n",
    "class House:\n",
    "    # The constructor (__init__) method initializes the attributes of the object\n",
    "    def __init__(self, color, size,area):\n",
    "        # Store the color of the house as an attribute\n",
    "        self.color = color   # Attribute to store the color of the house\n",
    "        # Store the size of the house as an attribute\n",
    "        self.size = size     # Attribute to store the size of the house\n",
    "        # Store the area of the house as an attribute\n",
    "        self.area = area     # Attribute to store the area of the house\n",
    "\n",
    "# Create an instance (object) of the House class with color \"blue\" and size \"large\"\n",
    "my_house = House(\"blue\", \"large\", 1500)\n",
    "# Print the area attribute of the my_house object\n",
    "print(my_house.area)  # Output: 1500\n",
    "\n",
    "# Print the color attribute of the my_house object\n",
    "print(my_house.color)  # Output: blue\n",
    "\n",
    "# Print the size attribute of the my_house object\n",
    "print(my_house.size)   # Output: large\n"
   ]
  },
  {
   "cell_type": "markdown",
   "id": "b48db0c7",
   "metadata": {},
   "source": [
    "#### Methods = Object's Behavior\n",
    "\n",
    "**Definition:**  \n",
    "Methods define what an object *can do*. They are functions written inside a class that act on the data within that object.\n",
    "\n",
    "**Key Points:**\n",
    "- Always take `self` as the first parameter in Python.\n",
    "- Allow objects to **interact with their data**.\n",
    "- Enable objects to **perform specific tasks**."
   ]
  },
  {
   "cell_type": "code",
   "execution_count": 5,
   "id": "9665790b",
   "metadata": {},
   "outputs": [
    {
     "name": "stdout",
     "output_type": "stream",
     "text": [
      "The house is blue and large.\n"
     ]
    },
    {
     "data": {
      "text/plain": [
       "'blue'"
      ]
     },
     "execution_count": 5,
     "metadata": {},
     "output_type": "execute_result"
    }
   ],
   "source": [
    "# Python Class Example with Comments: House\n",
    "# Define a class named House\n",
    "class House:\n",
    "    # Constructor method to initialize the attributes when a new object is created\n",
    "    def __init__(self, color, size):\n",
    "        self.color = color  # Set the color attribute of the object\n",
    "        self.size = size    # Set the size attribute of the object\n",
    "\n",
    "    # Method to describe the house using its attributes\n",
    "    def describe(self):\n",
    "        # Print a description using the color and size of the house\n",
    "        print(f\"The house is {self.color} and {self.size}.\")\n",
    "        \n",
    "# Create an object (instance) of the House class with specific color and size\n",
    "my_house = House(\"blue\", \"large\")\n",
    "\n",
    "# Call the describe method to output the house's details\n",
    "my_house.describe()\n",
    "my_house.color # cell one attribute"
   ]
  },
  {
   "cell_type": "markdown",
   "id": "525f3d44",
   "metadata": {},
   "source": [
    "#### The `__init__` Method in Python\n",
    "\n",
    "The `__init__` method is a **special method** in Python classes. It is called **automatically** when an object is created from a class.\n",
    "\n",
    "#### 🔧 Purpose:\n",
    "The `__init__` method is used to **initialize the attributes** of the object.\n",
    "\n"
   ]
  },
  {
   "cell_type": "code",
   "execution_count": 10,
   "id": "f2960777",
   "metadata": {},
   "outputs": [
    {
     "name": "stdout",
     "output_type": "stream",
     "text": [
      "color: blue, size: large, area: 1500\n"
     ]
    }
   ],
   "source": [
    "# Define a class named House\n",
    "class House:\n",
    "    # The constructor (__init__) method initializes the attributes of the object\n",
    "    def __init__(self, color, size, area):\n",
    "        # Store the color of the house as an attribute\n",
    "        self.color = color   # e.g., \"blue\"\n",
    "        \n",
    "        # Store the size of the house as an attribute\n",
    "        self.size = size     # e.g., \"large\"\n",
    "        \n",
    "        # Store the area of the house as an attribute (e.g., in square feet)\n",
    "        self.area = area     # e.g., 1500\n",
    "\n",
    "# Create an object (instance) of the House class with specific color, size, and area\n",
    "my_house = House(\"blue\", \"large\", 1500)\n",
    "\n",
    "# Print the attributes of the my_house object\n",
    "# Output: blue large 1500\n",
    "# Print the attributes of my_house using an f-string (corrected)\n",
    "print(f\"color: {my_house.color}, size: {my_house.size}, area: {my_house.area}\")\n",
    "\n"
   ]
  },
  {
   "cell_type": "code",
   "execution_count": 25,
   "id": "2dc33950",
   "metadata": {},
   "outputs": [],
   "source": [
    "class House:\n",
    "    def __init__(self, color, size, area):\n",
    "        self.color = color  # Color of the house\n",
    "        self.size = size    # Size of the house (e.g., small, medium, large)\n",
    "        self.area = area    # Area of the house in square feet\n",
    "\n",
    "    # Method 1: Describe the house's details\n",
    "    def describe(self):\n",
    "        print(f\"The house is {self.color}, {self.size}, and has an area of {self.area} sq ft.\")\n",
    "\n",
    "    # Method 2: Change the color of the house\n",
    "    def repaint(self, new_color):\n",
    "        print(f\"Repainting the house color  {new_color}.\")\n",
    "        self.color = new_color\n",
    "\n",
    "    # Method 3: Increase the area of the house\n",
    "    def expand(self, additional_area):\n",
    "        print(f\"Expanding the house by {additional_area} sq ft.\")\n",
    "        self.area += additional_area\n",
    "\n",
    "    # Method 4: Change the size of the house\n",
    "    def resize(self, new_size):\n",
    "        print(f\"Changing the house size from {self.size} to {new_size}.\")\n",
    "        self.size = new_size\n"
   ]
  },
  {
   "cell_type": "code",
   "execution_count": 26,
   "id": "d1e7858c",
   "metadata": {},
   "outputs": [
    {
     "name": "stdout",
     "output_type": "stream",
     "text": [
      "The house is blue, medium, and has an area of 1500 sq ft.\n",
      "Repainting the house color  green.\n",
      "Expanding the house by 300 sq ft.\n",
      "Changing the house size from medium to large.\n",
      "The house is green, large, and has an area of 1800 sq ft.\n"
     ]
    }
   ],
   "source": [
    "# Create an object (instance) of the House class\n",
    "my_house = House(\"blue\", \"medium\", 1500)\n",
    "\n",
    "# Call describe method to print details about the house\n",
    "my_house.describe()\n",
    "\n",
    "# Repaint the house to a new color\n",
    "my_house.repaint(\"green\")\n",
    "\n",
    "# Expand the house by 300 sq ft\n",
    "my_house.expand(300)\n",
    "\n",
    "# Resize the house from medium to large\n",
    "my_house.resize(\"large\")\n",
    "\n",
    "# Final description after changes\n",
    "my_house.describe()\n"
   ]
  }
 ],
 "metadata": {
  "kernelspec": {
   "display_name": "Python 3",
   "language": "python",
   "name": "python3"
  },
  "language_info": {
   "codemirror_mode": {
    "name": "ipython",
    "version": 3
   },
   "file_extension": ".py",
   "mimetype": "text/x-python",
   "name": "python",
   "nbconvert_exporter": "python",
   "pygments_lexer": "ipython3",
   "version": "3.10.16"
  }
 },
 "nbformat": 4,
 "nbformat_minor": 5
}
