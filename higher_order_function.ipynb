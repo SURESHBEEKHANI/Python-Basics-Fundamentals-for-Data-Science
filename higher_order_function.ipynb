{
 "cells": [
  {
   "cell_type": "markdown",
   "id": "376a53ab",
   "metadata": {},
   "source": [
    "### 📘 **Understanding Higher-Order Functions in Python**\n",
    "\n",
    "In Python, **higher-order functions** are functions that:\n",
    "\n",
    "- Accept other functions as arguments, or  \n",
    "- Return functions as their results.\n",
    "\n",
    "These functions are central to **functional programming** in Python, helping developers write code that is clean, concise, and expressive by abstracting common computational patterns.\n",
    "\n",
    "---\n",
    "\n",
    "### 🔁 **Key Higher-Order Functions**\n",
    "\n",
    "**1. `map()`**  \n",
    "Transforms each element in an iterable by applying a specified function, producing a new iterable of transformed elements.\n",
    "\n",
    "**2. `filter()`**  \n",
    "Selects elements from an iterable that meet a condition defined by a function returning `True` or `False`.\n",
    "\n",
    "**3. `reduce()`** *(from the `functools` module)*  \n",
    "Applies a cumulative function to the items of an iterable, reducing them to a single aggregated result.\n",
    "\n",
    "**4. `zip()`**  \n",
    "Combines multiple iterables by pairing their elements based on position, returning tuples.\n",
    "\n",
    "**5. `enumerate()`**  \n",
    "Attaches an index to each element in an iterable, returning pairs of `(index, element)`.\n",
    "\n",
    "---\n",
    "\n",
    "These higher-order functions promote functional programming principles and empower you to write more modular and expressive Python code.\n"
   ]
  },
  {
   "cell_type": "markdown",
   "id": "d44422b1",
   "metadata": {},
   "source": [
    "#### **🔢 2.1 Understanding `map()` Function**\n",
    "\n",
    "The `map()` function applies a specified function to each item in an iterable (such as a list or tuple), returning a new iterable with the transformed values.\n",
    "\n",
    "\n",
    "##### 📌 Syntax\n",
    "```python\n",
    "map(function, iterable)\n"
   ]
  },
  {
   "cell_type": "code",
   "execution_count": 1,
   "id": "9dd641da",
   "metadata": {},
   "outputs": [
    {
     "name": "stdout",
     "output_type": "stream",
     "text": [
      "[2, 4, 6, 8, 10]\n"
     ]
    }
   ],
   "source": [
    "# Function to double a number\n",
    "def double(x):\n",
    "    return x * 2\n",
    "\n",
    "# List of numbers\n",
    "numbers = [1, 2, 3, 4, 5]\n",
    "\n",
    "# Apply map to double each number\n",
    "result = map(double, numbers)\n",
    "\n",
    "# Convert the map object to a list to view results\n",
    "print(list(result))  # Output: [2, 4, 6, 8, 10]\n"
   ]
  },
  {
   "cell_type": "code",
   "execution_count": 8,
   "id": "0dd7a2db",
   "metadata": {},
   "outputs": [
    {
     "name": "stdout",
     "output_type": "stream",
     "text": [
      "['APPLE', 'BANANA', 'CHERRY']\n"
     ]
    }
   ],
   "source": [
    "#### 💡 Example: Converting a List of Strings to Uppercase\n",
    "\n",
    "\n",
    "# Function to convert a string to uppercase\n",
    "def to_uppercase(word):\n",
    "    return word.upper()\n",
    "\n",
    "# List of lowercase words\n",
    "words = ['apple', 'banana', 'cherry']\n",
    "\n",
    "# Apply map to convert each word to uppercase\n",
    "uppercase_words = map(to_uppercase, words)\n",
    "\n",
    "# Convert the map object to a list to view results\n",
    "print(list(uppercase_words))  # Output: ['APPLE', 'BANANA', 'CHERRY']\n"
   ]
  },
  {
   "cell_type": "markdown",
   "id": "3ab47530",
   "metadata": {},
   "source": [
    "#### **🔍 2.2. Understanding `filter()` Function**\n",
    "\n",
    "The `filter()` function filters elements in an iterable based on a given condition. It returns a new iterable containing only the elements that satisfy the condition (i.e., for which the function returns `True`).\n",
    "\n",
    "#### 📌 Syntax\n",
    "```python\n",
    "filter(function, iterable)\n"
   ]
  },
  {
   "cell_type": "code",
   "execution_count": 2,
   "id": "8a058211",
   "metadata": {},
   "outputs": [
    {
     "name": "stdout",
     "output_type": "stream",
     "text": [
      "[2, 4, 6]\n"
     ]
    }
   ],
   "source": [
    "# Function to check if a number is even\n",
    "def is_even(x):\n",
    "    return x % 2 == 0\n",
    "\n",
    "# List of numbers\n",
    "numbers = [1, 2, 3, 4, 5, 6]\n",
    "\n",
    "# Apply filter to get only even numbers\n",
    "even_numbers = filter(is_even, numbers)\n",
    "\n",
    "# Convert the filter object to a list to view results\n",
    "print(list(even_numbers))  # Output: [2, 4, 6]\n"
   ]
  },
  {
   "cell_type": "code",
   "execution_count": 7,
   "id": "3560a60f",
   "metadata": {},
   "outputs": [
    {
     "name": "stdout",
     "output_type": "stream",
     "text": [
      "['apple', 'fruit', 'banana', 'piel', 'grape']\n"
     ]
    }
   ],
   "source": [
    "#### 💡 Example: Filtering Words Longer Than 4 Characters\n",
    "# Function to check if the word length is greater than 4\n",
    "def long_word(word):\n",
    "    return len(word) >=4\n",
    "\n",
    "# List of words\n",
    "words = [\"apple\", \"is\", \"a\", \"fruit\", \"banana\", \"piel\", \"grape\"]\n",
    "\n",
    "# Apply filter to get words longer than 4 characters\n",
    "long_words = filter(long_word, words)\n",
    "\n",
    "# Convert the filter object to a list to view results\n",
    "print(list(long_words))  # Output: ['apple', 'fruit', 'banana', 'grape']\n"
   ]
  },
  {
   "cell_type": "markdown",
   "id": "a56cc073",
   "metadata": {},
   "source": [
    "#### **2.3. Understanding the `reduce()` Function**\n",
    "\n",
    "The `reduce()` function (from Python’s `functools` module) “reduces” an iterable into a single cumulative value by applying a provided binary function successively.\n",
    "\n",
    "---\n",
    "\n",
    "#### **Signature**\n",
    "\n",
    "```python\n",
    "from functools import reduce\n",
    "\n",
    "reduce(function, iterable[, initializer])\n"
   ]
  },
  {
   "cell_type": "code",
   "execution_count": 9,
   "id": "c6726e58",
   "metadata": {},
   "outputs": [
    {
     "name": "stdout",
     "output_type": "stream",
     "text": [
      "100\n"
     ]
    }
   ],
   "source": [
    "from functools import reduce\n",
    "\n",
    "# Function to add two numbers\n",
    "def add(x, y):\n",
    "    return x + y\n",
    "\n",
    "# List of numbers\n",
    "numbers = [10, 20, 30, 40]\n",
    "\n",
    "# Using reduce() to calculate the sum\n",
    "total = reduce(add, numbers)\n",
    "\n",
    "print(total)  # Output: 100\n"
   ]
  },
  {
   "cell_type": "code",
   "execution_count": 10,
   "id": "a1cd0d3c",
   "metadata": {},
   "outputs": [
    {
     "name": "stdout",
     "output_type": "stream",
     "text": [
      "strawberry\n"
     ]
    }
   ],
   "source": [
    "from functools import reduce\n",
    "\n",
    "# Function to return the longer of two strings\n",
    "def longer_word(a, b):\n",
    "    return a if len(a) > len(b) else b\n",
    "\n",
    "# List of words\n",
    "words = [\"apple\", \"banana\", \"kiwi\", \"strawberry\", \"pear\"]\n",
    "\n",
    "# Using reduce() to find the longest word\n",
    "longest = reduce(longer_word, words)\n",
    "\n",
    "print(longest)  # Output: strawberry\n"
   ]
  },
  {
   "cell_type": "markdown",
   "id": "35ae82c2",
   "metadata": {},
   "source": [
    "##### **2.4. Understanding `zip()` Function**\n",
    "\n",
    "The `zip()` function combines multiple iterables element-wise into tuples. Each tuple contains one element from each iterable, grouped by their positions (index).\n",
    "\n",
    "**Syntax:**\n",
    "```python\n",
    "zip(iterable1, iterable2, ...)\n"
   ]
  },
  {
   "cell_type": "code",
   "execution_count": 11,
   "id": "f9e505f8",
   "metadata": {},
   "outputs": [
    {
     "name": "stdout",
     "output_type": "stream",
     "text": [
      "[('Alice', 25), ('Bob', 30), ('Charlie', 35)]\n"
     ]
    }
   ],
   "source": [
    "# Using zip() to pair names and ages\n",
    "names = ['Alice', 'Bob', 'Charlie']\n",
    "ages = [25, 30, 35]\n",
    "\n",
    "# Pairing the lists\n",
    "paired = list(zip(names, ages))\n",
    "\n",
    "print(paired)  # Output: [('Alice', 25), ('Bob', 30), ('Charlie', 35)]\n"
   ]
  },
  {
   "cell_type": "markdown",
   "id": "82bccce2",
   "metadata": {},
   "source": [
    "##### **2.5 Understanding `enumerate()` Function**\n",
    "\n",
    "The `enumerate()` function adds an index to an iterable, making it easier to track the position of elements while looping.\n",
    "\n",
    "**Syntax:**\n",
    "```python\n",
    "enumerate(iterable, start=0)\n"
   ]
  },
  {
   "cell_type": "code",
   "execution_count": 12,
   "id": "6724be81",
   "metadata": {},
   "outputs": [
    {
     "name": "stdout",
     "output_type": "stream",
     "text": [
      "1: Apple\n",
      "2: Banana\n",
      "3: Cherry\n"
     ]
    }
   ],
   "source": [
    "# Using enumerate() to print index and value\n",
    "fruits = ['Apple', 'Banana', 'Cherry']\n",
    "\n",
    "for index, fruit in enumerate(fruits, start=1):\n",
    "    print(f'{index}: {fruit}')\n"
   ]
  },
  {
   "cell_type": "markdown",
   "id": "50aa3e36",
   "metadata": {},
   "source": [
    "#### **Best Practices**\n",
    "\n",
    "- **Map and Filter**  \n",
    "  Use `map` and `filter` functions for simple operations. However, consider using list comprehensions for better readability.\n",
    "\n",
    "- **Reduce**  \n",
    "  Only use `reduce` when absolutely necessary. In most cases, loops can be a more readable and efficient alternative.\n",
    "\n",
    "- **Zip**  \n",
    "  Use `zip` when you need to pair items from multiple iterables into tuples.\n",
    "\n",
    "- **Enumerate**  \n",
    "  Use `enumerate` when you need to manipulate or track the index of items in an iterable.\n"
   ]
  }
 ],
 "metadata": {
  "kernelspec": {
   "display_name": "Python 3",
   "language": "python",
   "name": "python3"
  },
  "language_info": {
   "codemirror_mode": {
    "name": "ipython",
    "version": 3
   },
   "file_extension": ".py",
   "mimetype": "text/x-python",
   "name": "python",
   "nbconvert_exporter": "python",
   "pygments_lexer": "ipython3",
   "version": "3.10.16"
  }
 },
 "nbformat": 4,
 "nbformat_minor": 5
}
