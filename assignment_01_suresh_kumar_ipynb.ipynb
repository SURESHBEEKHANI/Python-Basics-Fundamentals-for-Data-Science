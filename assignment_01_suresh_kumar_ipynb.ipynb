{
  "nbformat": 4,
  "nbformat_minor": 0,
  "metadata": {
    "colab": {
      "private_outputs": true,
      "provenance": [],
      "toc_visible": true,
      "gpuType": "T4",
      "authorship_tag": "ABX9TyNLjThfWl4H0CGah1porith",
      "include_colab_link": true
    },
    "kernelspec": {
      "name": "python3",
      "display_name": "Python 3"
    },
    "language_info": {
      "name": "python"
    },
    "accelerator": "GPU"
  },
  "cells": [
    {
      "cell_type": "markdown",
      "metadata": {
        "id": "view-in-github",
        "colab_type": "text"
      },
      "source": [
        "<a href=\"https://colab.research.google.com/github/SURESHBEEKHANI/Python-Basics-Fundamentals-for-Data-Science/blob/main/assignment_01_suresh_kumar_ipynb.ipynb\" target=\"_parent\"><img src=\"https://colab.research.google.com/assets/colab-badge.svg\" alt=\"Open In Colab\"/></a>"
      ]
    },
    {
      "cell_type": "markdown",
      "source": [
        "##                                                         Assignment #01\n",
        "                                                         Hope to Skills\n",
        "\n",
        "                                           Free Artificial Intelligence Advance Course\n",
        "                                           Submit By:Suresh Kumar From Umerkot Sindh tharparkar Pakistan"
      ],
      "metadata": {
        "id": "7HhFo4ff1PQu"
      }
    },
    {
      "cell_type": "markdown",
      "source": [
        "# Using the basic built in functions and apply the following."
      ],
      "metadata": {
        "id": "HnyYrI7xm8sT"
      }
    },
    {
      "cell_type": "markdown",
      "source": [
        "# Python built string  Function"
      ],
      "metadata": {
        "id": "mKDN_4GjnDmZ"
      }
    },
    {
      "cell_type": "code",
      "source": [
        "# Use the print method to display the following string\n",
        "print('Hello Pakistan! I am from Karachi')"
      ],
      "metadata": {
        "id": "i8QYX3OCm8hp"
      },
      "execution_count": null,
      "outputs": []
    },
    {
      "cell_type": "code",
      "source": [
        "# Assign a string value to a variable\n",
        "string = \"Pakistan is the Best Country\"\n",
        "\n",
        "# Use the print method and the upper method to display the elements in uppercase\n",
        "print(string.upper())\n"
      ],
      "metadata": {
        "id": "VhAJkBK0oioQ"
      },
      "execution_count": null,
      "outputs": []
    },
    {
      "cell_type": "code",
      "source": [
        "# Use the print method and the lower method to display the elements in lowercase\n",
        "print(string.lower())\n"
      ],
      "metadata": {
        "id": "QkbjjAGUphZ3"
      },
      "execution_count": null,
      "outputs": []
    },
    {
      "cell_type": "code",
      "source": [
        "# Use the print method and the capitalize method to display the string with the first character in uppercase\n",
        "print(string.capitalize())\n"
      ],
      "metadata": {
        "id": "sRhju8XKqB7l"
      },
      "execution_count": null,
      "outputs": []
    },
    {
      "cell_type": "code",
      "source": [
        "# Use the print method and the strip method to remove first and last white spaces from the string\n",
        "print(string.strip())\n"
      ],
      "metadata": {
        "id": "iyeCwVBKrBK6"
      },
      "execution_count": null,
      "outputs": []
    },
    {
      "cell_type": "code",
      "source": [
        "# Use the print method and the split method to convert the string into a list of elements\n",
        "print(string.split())"
      ],
      "metadata": {
        "id": "POD7Q7oAsAyx"
      },
      "execution_count": null,
      "outputs": []
    },
    {
      "cell_type": "markdown",
      "source": [
        "# Python built-in Sets Function"
      ],
      "metadata": {
        "id": "W3Uw3TvhtRN-"
      }
    },
    {
      "cell_type": "code",
      "source": [
        "# Define a set using curly brackets and assign values\n",
        "set_value = {'Karachi', 'Umerkot', 'Karachi', 12, 13, 12}\n",
        "\n",
        "# Use the print method to display the set\n",
        "print(set_value)\n"
      ],
      "metadata": {
        "id": "lcxLXS1GtB5m"
      },
      "execution_count": null,
      "outputs": []
    },
    {
      "cell_type": "code",
      "source": [
        "# Use the add method to add a new element to the set\n",
        "set_value.add('3')\n",
        "\n",
        "# Use the print method to display the updated set\n",
        "print(set_value)\n"
      ],
      "metadata": {
        "id": "TNL9rfeCuvQo"
      },
      "execution_count": null,
      "outputs": []
    },
    {
      "cell_type": "code",
      "source": [
        "# Use the remove method to remove the element 'Karachi' from the set\n",
        "set_value.remove('Karachi')\n",
        "\n",
        "# Use the print method to display the updated set\n",
        "print(set_value)\n"
      ],
      "metadata": {
        "id": "nT--Tqluv46h"
      },
      "execution_count": null,
      "outputs": []
    },
    {
      "cell_type": "markdown",
      "source": [],
      "metadata": {
        "id": "EessP24Vv4Y5"
      }
    },
    {
      "cell_type": "markdown",
      "source": [],
      "metadata": {
        "id": "5_SnrzdBohhZ"
      }
    },
    {
      "cell_type": "markdown",
      "source": [
        "# **Task : 1**\n",
        "\n",
        " Create a list named \"fruits\" containing three different fruits and display its items\n",
        " using for loop. (Marks 10)\n"
      ],
      "metadata": {
        "id": "ugtcTedDy5si"
      }
    },
    {
      "cell_type": "code",
      "execution_count": null,
      "metadata": {
        "id": "5Ky3qu1UyBA9"
      },
      "outputs": [],
      "source": [
        "# Create  a list of  fruits and assign  string values to the 'fruits_list'\n",
        "fruits_list = ['Apple', 'Orange', 'Banana']\n",
        "\n",
        "# Using a for loop to iterate item in the furits_list and display it\n",
        "for fruit in fruits_list:\n",
        "  #Use print and Lower methed  Display Results and Strings Show in Lower case\n",
        "    print(fruit.lower())"
      ]
    },
    {
      "cell_type": "markdown",
      "source": [
        "Create a tuple named \"numbers\" with five random numbers and display its item\n",
        "using for loop. (Marks 10)"
      ],
      "metadata": {
        "id": "PAj-BJR9MrGt"
      }
    },
    {
      "cell_type": "code",
      "source": [
        "# Create a tuple of numbers and assign five random integer values\n",
        "numbers_tuple = (1, 3, 10, 7, 10 ,9)\n",
        "\n",
        "# Using a for loop to iterate through each number in the tuple and display it\n",
        "for num in numbers_tuple:\n",
        "\n",
        "  #Use print Function and Disply Output\n",
        "    print(num)\n"
      ],
      "metadata": {
        "id": "VmIIOlq13RAR"
      },
      "execution_count": null,
      "outputs": []
    },
    {
      "cell_type": "markdown",
      "source": [
        "\n",
        " Create a set named \"colors\" with three different colors and display its items using\n",
        "for loop. (Marks 10)\n"
      ],
      "metadata": {
        "id": "GMYXiKZsM0Gf"
      }
    },
    {
      "cell_type": "code",
      "source": [
        "# Create  a set named set_of_color and Assing string Value\n",
        "set_of_color = {'Red', 'Black', 'Blue'}\n",
        "\n",
        "# Using a for loop to iterate through each item in the set and display Results\n",
        "for color in set_of_color:\n",
        "    # Using the print function to display  Result\n",
        "    #Use Upper methed show string in uppercase\n",
        "    print(color.upper())\n",
        "\n"
      ],
      "metadata": {
        "id": "GKxZQRaT5W-j"
      },
      "execution_count": null,
      "outputs": []
    },
    {
      "cell_type": "markdown",
      "source": [
        "Create a dictionary named \"student\" with the following key-value pairs: (Marks20)\n",
        "\n",
        "\"name\" as the key and the student's name as the value.\n",
        "\"age\" as the key and the student's age as the value.\n",
        "\"grade\" as the key and the student's grade as the value.\n",
        "\n",
        "Iterate over the dictionary using the for loop and display its keys"
      ],
      "metadata": {
        "id": "-0kun5tKM8Ir"
      }
    },
    {
      "cell_type": "code",
      "source": [
        "# Create  a dictionary named \"student\" with three key-value pairs\n",
        "student = {\n",
        "\n",
        "    'Name': 'Suresh',# Key: 'Name', Value: 'Suresh'\n",
        "    'Age': '21',     # Key: 'Age', Value: '21'\n",
        "    'Grade': 'A'     # Key: 'Grade', Value: 'A'\n",
        "}\n",
        "\n",
        "# Using a for loop to iterate over the keys of the \"student\" dictionary\n",
        "for key in student.keys():\n",
        "# Display each key of Student Dictionary\n",
        "   print(key)\n"
      ],
      "metadata": {
        "id": "ajRHTzkj-2HE"
      },
      "execution_count": null,
      "outputs": []
    },
    {
      "cell_type": "markdown",
      "source": [
        "Iterate over the dictionary using the for loop and display its values"
      ],
      "metadata": {
        "id": "RYrNzJSxNFiq"
      }
    },
    {
      "cell_type": "code",
      "source": [
        "# Using a for loop to iterate over the values of the \"student\" dictionary\n",
        "for value in student.values():\n",
        "    # Displaying each value of the \"student\" dictionary\n",
        "    print(value)\n"
      ],
      "metadata": {
        "id": "UhpvMJ6rIJL5"
      },
      "execution_count": null,
      "outputs": []
    },
    {
      "cell_type": "markdown",
      "source": [
        "Create a multi-line string named \"poem\" with a short poem of your choice."
      ],
      "metadata": {
        "id": "moxDHZzHNUjV"
      }
    },
    {
      "cell_type": "code",
      "source": [
        "#Create a muline string Name Is poem\n",
        "poem = \"\"\"\n",
        "          Beneath the silver moonlight's grace,\n",
        "          A quiet world in soft embrace.\n",
        "          Stars weave tales in the midnight sky,\n",
        "          Whispers of dreams as time drifts by.\n",
        "\"\"\"\n",
        "# Use Print Function display Result\n",
        "print(poem)"
      ],
      "metadata": {
        "id": "SIzhVxp9NWwh"
      },
      "execution_count": null,
      "outputs": []
    },
    {
      "cell_type": "markdown",
      "source": [
        " Write an if statement to check if the length of the \"fruits\" list is greater than 3. If it\n",
        "is, print \"You have many fruits!"
      ],
      "metadata": {
        "id": "7XJ3w_RaPDhM"
      }
    },
    {
      "cell_type": "code",
      "source": [
        "# Create a list of fruits and assign string values to the 'fruits_list'\n",
        "fruits = ['Apple', 'Mango', 'Banana', 'Strawberry']\n",
        "\n",
        "# Use 'if' condition and 'len' method\n",
        "# Check if the length of the fruits list is greater than 3\n",
        "# Display the result \"You Have Many Fruits\"\n",
        "if len(fruits) > 3:\n",
        "    # Use the 'print' method to display the message\n",
        "    print('You Have Many Fruits!')\n"
      ],
      "metadata": {
        "id": "xYEZGu8YPSvu"
      },
      "execution_count": null,
      "outputs": []
    },
    {
      "cell_type": "markdown",
      "source": [
        "\n",
        "\n",
        "Create a program that takes a student's numerical grade as input and prints a\n",
        "corresponding letter grade. Use if-else statements to classify the grade into\n",
        "categories such as \"A,\" \"B,\" \"C,\" \"D,\" or \"F.\" (Marks 20)\n",
        "\n",
        "If the numerical grade is 90 or higher, the corresponding letter grade is \"A.\"\n",
        "\n",
        "If the numerical grade is between 80 and 89 (inclusive), the corresponding\n",
        "letter grade is \"B.\"\n",
        "\n",
        "If the numerical grade is between 70 and 79 (inclusive), the corresponding\n",
        "letter grade is \"C.\"\n",
        "\n",
        "If the numerical grade is between 60 and 69 (inclusive), the corresponding\n",
        "letter grade is \"D.\"\n",
        "\n",
        "If the numerical grade is below 60, the corresponding letter grade is \"F.\""
      ],
      "metadata": {
        "id": "ol7UYlIZXW0C"
      }
    },
    {
      "cell_type": "code",
      "source": [
        "# Get the student numerical grade from user input\n",
        "student_grade = int(input(\"Enter your numerical grade or marks: \"))\n",
        "\n",
        "# Check if the student grade is greater than or equal to 90\n",
        "if student_grade >= 90:\n",
        "    # Display a message that the grade is 'A'\n",
        "    print('Your marks are', student_grade, 'and your grade is: (A)')\n",
        "\n",
        "# Check elif the student grade is between 80 and 89\n",
        "elif student_grade >= 80 and student_grade <= 89:\n",
        "\n",
        "    # Display a message that the grade is 'B'\n",
        "    print('Your marks are', student_grade, 'and your grade is: (B)')\n",
        "\n",
        "# Check elif the student grade is between 70 to 79\n",
        "elif student_grade >= 70 and student_grade <= 79:\n",
        "    # Display a message that the grade is 'C'\n",
        "\n",
        "    print('Your marks are', student_grade, 'and your grade is: (C)')\n",
        "\n",
        "# Check elif the student grade is between 60 to 69\n",
        "elif student_grade >= 60 and student_grade <= 69:\n",
        "    # Display a message that the grade is 'D'\n",
        "\n",
        "  print('Your marks are', student_grade, 'and your grade is: (D)')\n",
        "# Check elif the student grade is below 60\n",
        "\n",
        "elif student_grade < 60:\n",
        "    print('Your marks are', student_grade, 'and your grade is: (F)')\n"
      ],
      "metadata": {
        "id": "RfeMYCfuXWKX"
      },
      "execution_count": null,
      "outputs": []
    },
    {
      "cell_type": "markdown",
      "source": [
        "Create a program that takes a temperature in Celsius as input from user and\n",
        "classifies it into categories like \"Freezing,\" \"Cold,\" \"Moderate,\" \"Warm,\" or \"Hot.\"\n",
        "Use if-else statements to define the temperature ranges for each category. (Marks20)\n",
        "\n",
        "o If the temperature is below -10 degrees Celsius, it's classified as \"Freezing.\"\n",
        "\n",
        "o If the temperature is between -10 and 0 degrees Celsius (exclusive), it's\n",
        "\n",
        "classified as \"Cold.\"\n",
        "o If the temperature is between 0 and 20 degrees Celsius (exclusive), it's\n",
        "\n",
        "classified as \"Moderate.\"\n",
        "o If the temperature is between 20 and 30 degrees Celsius (exclusive), it's\n",
        "\n",
        "classified as \"Warm.\"\n",
        "o If the temperature is 30 degrees Celsius or above, it's classified as \"Hot.\""
      ],
      "metadata": {
        "id": "uM2Wdfd65i7S"
      }
    },
    {
      "cell_type": "code",
      "source": [
        "\n",
        "\n",
        "# Input temperature from user\n",
        "temperature_celsius = float(input(\"Enter the temperature in Celsius: \"))\n",
        "\n",
        "# checked if temperature_Celsius  less then -10\n",
        "if temperature_celsius < 10 :\n",
        "    category = \"Freezing\"  #temperature  category  is Freezing\n",
        "\n",
        "#Check if temperature_Celsius is less than equal to -10  or less then 0\n",
        "elif -10 <= temperature_celsius < 0:\n",
        "    category = \"Cold\"  # temperature category is  cold\n",
        "\n",
        "#Checked if temperature_celsius  is  less the or Equal  to 0 or less then 20\n",
        "elif 0 <= temperature_celsius < 20:\n",
        "    category = \"Moderate\"  # temperature category is Moderate\n",
        "\n",
        "#Check if temperature_clesius is less then equal to 20 or Less 30\n",
        "elif 20 <= temperature_celsius < 30:\n",
        "    category = \"Warm\"  #Temperature  category  is Warm\n",
        "\n",
        "#check if  temperature_clesius Greater then 30\n",
        "else:\n",
        "    category = \"Hot\"  # Temperature  category is Hot\n",
        "\n",
        "# Display the classification\n",
        "print(f\"The temperature {temperature_celsius} degrees Celsius is classified as {category}.\")  # Showing the result to the user\n"
      ],
      "metadata": {
        "id": "EuNnKTKsATaF"
      },
      "execution_count": null,
      "outputs": []
    }
  ]
}