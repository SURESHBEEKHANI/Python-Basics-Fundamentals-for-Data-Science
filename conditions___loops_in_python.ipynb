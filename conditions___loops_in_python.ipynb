{
  "nbformat": 4,
  "nbformat_minor": 0,
  "metadata": {
    "colab": {
      "private_outputs": true,
      "provenance": [],
      "toc_visible": true,
      "authorship_tag": "ABX9TyOU9hhePEFexg+MKKBLJ8Be",
      "include_colab_link": true
    },
    "kernelspec": {
      "name": "python3",
      "display_name": "Python 3"
    },
    "language_info": {
      "name": "python"
    }
  },
  "cells": [
    {
      "cell_type": "markdown",
      "metadata": {
        "id": "view-in-github",
        "colab_type": "text"
      },
      "source": [
        "<a href=\"https://colab.research.google.com/github/SURESHBEEKHANI/Python-Basics-Fundamentals-for-Data-Science/blob/main/conditions___loops_in_python.ipynb\" target=\"_parent\"><img src=\"https://colab.research.google.com/assets/colab-badge.svg\" alt=\"Open In Colab\"/></a>"
      ]
    },
    {
      "cell_type": "markdown",
      "source": [
        "**If Conditions & Loops in Python**\n",
        "\n",
        "Python Conditions and IF Statements\n",
        "Loops in python\n",
        "User defined Functions in python\n",
        "Python if statement\n",
        "In control statements, The if statement is the simplest form. It takes a condition and evaluates to either True or False.\n",
        "\n",
        "\n",
        "If the condition is True, then the True block of code will be executed, and if the condition is False, then the block of code is skipped, and The controller moves to the next line."
      ],
      "metadata": {
        "id": "5nApf0HyU1f1"
      }
    },
    {
      "cell_type": "markdown",
      "source": [
        "### Syntax:\n",
        "\n",
        "```python\n",
        "if(condition):\n",
        "    statement 1\n",
        "    statement 2\n",
        "    statement n\n",
        "```\n",
        "\n",
        "* An **`if`** statement should be preceded by the keyword **`if`** and ended with a colon **`:`**. The condition of an if statement can be written with or without round brackets **`()`**.\n",
        "\n",
        "* In Python, the body of the **`if`** statement is indicated by the indentation. The body starts with an indentation and the first unindented line marks the end.\n",
        "\n",
        "* Python interprets non-zero values as **`True`**. **`None`** and **`0`** are interpreted as **`False`**."
      ],
      "metadata": {
        "id": "UUJSwPTLVPxA"
      }
    },
    {
      "cell_type": "code",
      "execution_count": null,
      "metadata": {
        "id": "VYZyh6lnj7t7"
      },
      "outputs": [],
      "source": [
        "# Example 01: Using if Condition to Check Passing Marks\n",
        "\n",
        "# Taking input from the user for their exam marks\n",
        "user_input = int(input(\"Enter Your Marks: \"))\n",
        "\n",
        "# Using a single condition to check if the marks are greater than or equal to 40\n",
        "if user_input >= 40:\n",
        "    # Displaying a message indicating that the user has passed with a B grade\n",
        "    print(\"Congratulations! You scored\", user_input, \"marks and passed with a B grade.\")\n",
        "print(\"Code is Run\")\n"
      ]
    },
    {
      "cell_type": "code",
      "source": [
        "#Eammple 02  : Using If condition to check Paassing Marks\n",
        "#Taking input from the user for their exam marks\n",
        "user_input = int(input (\"Enter Your Marks: \"))\n",
        "\n",
        "#Using a single condition to Check if the marks are less then or equal to 39\n",
        "if user_input <=39:\n",
        "    print(\"Sorry Your Faile Try Next Your Marks is \",user_input)\n",
        "print(\"code is Run \")"
      ],
      "metadata": {
        "id": "5qiNXXW9XqFH"
      },
      "execution_count": null,
      "outputs": []
    },
    {
      "cell_type": "code",
      "source": [
        "# Example 03: Using If Condition to Check Positive Number\n",
        "# Assign a int value to the variable named positive_num\n",
        "positive_num = 4\n",
        "\n",
        "# Using a single condition to check if the number is greater than 0 (positive)\n",
        "if positive_num > 0:\n",
        "    print(positive_num, \"is a Positive Number\")\n"
      ],
      "metadata": {
        "id": "Id4W3HC1cTEO"
      },
      "execution_count": null,
      "outputs": []
    },
    {
      "cell_type": "code",
      "source": [
        "#Examole 04  :Using  If  condition  to Check negative_num\n",
        "# Assing A int Value  to The variable negative  and Check Negtive number\n",
        "negative_num = -4\n",
        "#Using if Condiction to Check value if the Number less then 0 (Negative)\n",
        "if negative_num <  0:\n",
        "   print(negative_num ,\"is a negative number\")"
      ],
      "metadata": {
        "id": "x-Vhgs34cfwM"
      },
      "execution_count": null,
      "outputs": []
    },
    {
      "cell_type": "code",
      "source": [
        "#Eamample 0:5 Using if  Condcation and Calculations to Sequre of Number\n",
        "sequre_num = int(input(\"Enter Your Number Show Sequre Your Number\"))\n",
        "#Using If conditions  to  check value is value greater then 5\n",
        "if sequre_num > 5:\n",
        "#Use arthmitc optaro and Multiplication two number Disply Result\n",
        "  sequre_result = sequre_num*sequre_num\n",
        "  print(\"The Sequre of \",sequre_num, \"is:\",sequre_result)"
      ],
      "metadata": {
        "id": "ch8YblgTeR72"
      },
      "execution_count": null,
      "outputs": []
    },
    {
      "cell_type": "code",
      "source": [
        "# Example 05: Using if Condition and Calculations to Find the Square of a Number\n",
        "\n",
        "# Get an integer input from the user to find the square\n",
        "square_num = int(input(\"Enter your number to calculate its square: \"))\n",
        "\n",
        "# Use an if condition to check if the entered value is greater than 5\n",
        "if square_num > 5:\n",
        "    # Perform arithmetic operation to find the square of the number\n",
        "    square_result = square_num * square_num\n",
        "\n",
        "    # Display the result\n",
        "    print(\"The square of\", square_num, \"is:\", square_result)\n"
      ],
      "metadata": {
        "id": "YZ2mQTS3haXR"
      },
      "execution_count": null,
      "outputs": []
    },
    {
      "cell_type": "markdown",
      "source": [
        "Shortcut for if statement (Short-hand if or one-line if)"
      ],
      "metadata": {
        "id": "zSnilZ8RhpqH"
      }
    },
    {
      "cell_type": "code",
      "source": [
        "# Example 06: Using Shortcut for If Statement (One-line if or Shorthand if)\n",
        "\n",
        "# Assign values to variables Num1 and Num2\n",
        "num1, num2 = 4, 6\n",
        "\n",
        "# Use the shorthand method for the if statement to check if num1 is less than num2\n",
        "# Display the result in a single line\n",
        "if num1 < num2: print(num1, \"is less than\", num2)\n"
      ],
      "metadata": {
        "id": "eYw4V6yfhjLB"
      },
      "execution_count": null,
      "outputs": []
    },
    {
      "cell_type": "markdown",
      "source": [
        "In the above-given code, the value 6 is greater than 5, this means the condition is False. We have instructed the interpreter to print only when the condition is True and hence it in this case, nothing gets printed. However, you can also instruct the interpreter what to do when the condition is False and this can be done using else statement."
      ],
      "metadata": {
        "id": "P2uOOdQ0kYz3"
      }
    },
    {
      "cell_type": "markdown",
      "source": [
        "# if-else and elif statement\n",
        "\n",
        "The if-else statement in Python is a control flow structure that allows you to execute different blocks of code based on whether a specified condition is true or false. Here's the general syntax:\n",
        "\n",
        "python"
      ],
      "metadata": {
        "id": "0_skCgtaXo9i"
      }
    },
    {
      "cell_type": "code",
      "source": [
        "#use If and Else Conditions and Ckeck Result\n",
        "#Collaction intput From User\n",
        "maraks = int(input(\"Enter Your Marks :\"))\n",
        "#Use If and Else Conditions and Check pssing and fails Marks\n",
        "if maraks >= 33 :\n",
        "     remainder = maraks/100*100\n",
        "     print(\"Congratulations Your Pass With Percentage\",remainder,\"Your Grade IS C\")\n",
        "\n",
        "elif maraks >= 50:\n",
        "    remainder = maraks/100*100\n",
        "    print(\"Congratulations Your Pass With Percentage \",remainder,\"Your Grade Is B\")\n"
      ],
      "metadata": {
        "id": "a__7Zov3kawb"
      },
      "execution_count": null,
      "outputs": []
    },
    {
      "cell_type": "code",
      "source": [
        "# Example: Using If and Else Conditions to Check Passing or Failing Marks\n",
        "\n",
        "# Collect input from the user for their marks\n",
        "marks = int(input(\"Enter Your Marks: \"))\n",
        "\n",
        "# Use If and Else conditions to check if the student has passed or failed\n",
        "if marks >= 90:\n",
        "    # If marks are greater than or equal to 50, calculate percentage and display passing message with grade B\n",
        "    percentage = (marks / 100) * 100\n",
        "    print(\"Congratulations! You have passed with a percentage of\", percentage, \"and your grade is A1\")\n",
        "\n",
        "elif marks >= 70:\n",
        "    # If marks are less than 50 but greater than or equal to 33, calculate percentage and display passing message with grade C\n",
        "    percentage = (marks / 100) * 100\n",
        "    print(\"Congratulations! You have passed with a percentage of\", percentage, \"and your grade is A\")\n",
        "elif marks >= 50:\n",
        "    percentage=(marks /100)*100\n",
        "    print(\"Congratulations! You have  Passed With a percentage of \",percentage,\"and your grade is B\")\n",
        "elif marks >=33:\n",
        "     percentage =(marks/100)*100\n",
        "     print(\"Congratulations! You have Passed With a percentage of \",percentage, \"Your grade is C\")\n",
        "else:\n",
        "    # If marks are less than 33, display a failing message\n",
        "    print(\"Sorry, you have failed. Better luck next time.\")\n"
      ],
      "metadata": {
        "id": "9hJW0f1GsnX1"
      },
      "execution_count": null,
      "outputs": []
    },
    {
      "cell_type": "code",
      "source": [
        "#Use Def Function  and Dince Function\n",
        "def password_checked(username, password):\n",
        "    #Correct passwords\n",
        "    valid_username = \"sureshbeekhani\"\n",
        "    valid_password = \"Beekhani143\"  # Replace with your actual secure password\n",
        "#Use If else Conditions  username equal to vailld-username\n",
        "#Use Logcail Opetro (and )  passwords is Equal vaild passwords Reslut True Login other Use False\n",
        "    if username == valid_username and password == valid_password:\n",
        "        print(\"Login successful!\")\n",
        "    else:\n",
        "        print(\"Invalid username or password. Please try again.\")\n",
        "\n",
        "# Collect input from the user for their username and password\n",
        "username = input(\"Enter Your Username: \")\n",
        "password = input(\"Enter Your Password: \")\n",
        "\n",
        "# Call the function with the entered username and password\n",
        "password_checked(username,password)\n"
      ],
      "metadata": {
        "id": "rVXdgaoWvUFs"
      },
      "execution_count": null,
      "outputs": []
    },
    {
      "cell_type": "code",
      "source": [
        "# Define a function to check user passwords\n",
        "def check_password(username, password):\n",
        "    # Define the correct username and password\n",
        "    valid_username = \"sureshbeekhani\"\n",
        "    valid_password = \"Beekhani143\"  # Replace with your actual secure password\n",
        "\n",
        "    # Check if the entered username and password match the valid ones\n",
        "    if username == valid_username and password == valid_password:\n",
        "        print(\"Login successful!\")\n",
        "    else:\n",
        "        print(\"Invalid username or password. Please try again.\")\n",
        "\n",
        "# Collect input from the user for their username and password\n",
        "entered_username = input(\"Enter Your Username: \")\n",
        "entered_password = input(\"Enter Your Password: \")\n",
        "\n",
        "# Call the function with the entered username and password\n",
        "check_password(entered_username, entered_password)\n"
      ],
      "metadata": {
        "id": "PN4KvpCG4LxT"
      },
      "execution_count": null,
      "outputs": []
    },
    {
      "cell_type": "markdown",
      "source": [
        "# What is Loop ?\n",
        "A loop is a programming concept that allows for the repetition of a set of instructions multiple times."
      ],
      "metadata": {
        "id": "sEaW2-LPE2jR"
      }
    },
    {
      "cell_type": "markdown",
      "source": [
        "Python - For Loops\n",
        "A for loop is used for iterating over a sequence (that is either a list, a tuple, a dictionary, a set, or a string).\n",
        "\n",
        "you'll learn to iterate over a sequence of elements using the different variations of for loop. We use a for loop when we want to repeat a code block for a fixed number of times."
      ],
      "metadata": {
        "id": "eVy13mhXE8jt"
      }
    },
    {
      "cell_type": "code",
      "source": [
        "#print Hello Words Use Print Statement (10)Time\n",
        "print(\"Hello ,Words \")\n",
        "print(\"Hello ,Words \")\n",
        "print(\"Hello ,Words \")\n",
        "print(\"Hello ,Words \")\n",
        "print(\"Hello ,Words \")\n",
        "print(\"Hello ,Words \")\n",
        "print(\"Hello ,Words \")\n",
        "print(\"Hello ,Words \")\n",
        "print(\"Hello ,Words \")\n",
        "print(\"Hello ,Words \")"
      ],
      "metadata": {
        "id": "-p8YkfxiFJ2W"
      },
      "execution_count": null,
      "outputs": []
    },
    {
      "cell_type": "code",
      "source": [
        "# Using a for loop to iterate 10 times\n",
        "for i in range(10):\n",
        "    # Printing the message \"Hello Words\" in each iteration\n",
        "    print(\"Hello Words \")\n",
        "# Comment: The above code will display the message \"Hello Words\" 10 times in a sequence.\n"
      ],
      "metadata": {
        "id": "p7NxSI0JF5fe"
      },
      "execution_count": null,
      "outputs": []
    },
    {
      "cell_type": "code",
      "source": [
        "# Example 03: Using a list of strings and iterating through elements using a for loop\n",
        "# Creating a list of strings named 'my_list' with three elements\n",
        "my_list = ['suresh', 'kumar', 'beekhani']\n",
        "\n",
        "# Using a for loop to iterate through each element of my_list\n",
        "# (For) Loop: Iterates through each element in the list\n",
        "# (element) Variable: Represents each individual element during iteration\n",
        "# (In) Membership Operator: Specifies the data structure being iterated (my_list)\n",
        "for element in my_list:\n",
        "    # Printing each element of the list\n",
        "    print(element)"
      ],
      "metadata": {
        "id": "6o30B7CcHV27"
      },
      "execution_count": null,
      "outputs": []
    },
    {
      "cell_type": "code",
      "source": [
        "# Assigning integer values to a list named 'num_list'\n",
        "num_list = [1, 2, 3, 4, 5, 5, 7]\n",
        "\n",
        "# Initializing variables for sum and list size\n",
        "total_sum = 0\n",
        "list_size = len(num_list)\n",
        "\n",
        "# Using a for loop to iterate through each element of num_list\n",
        "# (For) Loop: Iterates through each element in the list\n",
        "# (num) Variable: Represents each individual element during iteration\n",
        "# (In) Membership Operator: Specifies the data structure being iterated (num_list)\n",
        "for num in num_list:\n",
        "    # Adding the current element to the total sum\n",
        "    total_sum += num\n",
        "\n",
        "# Printing the total sum\n",
        "print(\"Total Sum:\", total_sum)\n",
        "\n",
        "# Calculating the average by dividing the total sum by the list size\n",
        "average = total_sum / list_size\n",
        "\n",
        "# Printing the calculated average\n",
        "print(\"Average number:\", average)\n",
        "\n",
        "# Comment: The above code calculates and prints the total sum and average of elements in the 'num_list'.\n"
      ],
      "metadata": {
        "id": "7bEnlXp0Plo2"
      },
      "execution_count": null,
      "outputs": []
    },
    {
      "cell_type": "code",
      "source": [
        "# Assigning string values to  string list\n",
        "fruit_list = ['apple', 'Orange', 'Banana']\n",
        "\n",
        "# Using a for loop to iterate through each item in the string list\n",
        "for item in fruit_list:\n",
        "    # Using the print method to display each item of the string list\n",
        "    print(item)"
      ],
      "metadata": {
        "id": "AnE5-Dxrht9s"
      },
      "execution_count": null,
      "outputs": []
    },
    {
      "cell_type": "code",
      "source": [
        "#Use Print Methed and Disply Out\n",
        "print(fruit_list)"
      ],
      "metadata": {
        "id": "pzJRgtrYiyHf"
      },
      "execution_count": null,
      "outputs": []
    },
    {
      "cell_type": "code",
      "source": [
        "# Print each value in a my_list, list:\n",
        "\n",
        "my_list = [10, 20, 30, 40, 50, 60]\n",
        "\n",
        "for number in my_list: #<--- x is a variable, who's scope is limited to the for loop. x can be named anything you'd like\n",
        "    print(number)"
      ],
      "metadata": {
        "id": "VFE3EIoTpSm_"
      },
      "execution_count": null,
      "outputs": []
    },
    {
      "cell_type": "markdown",
      "source": [
        "Looping Through a String**\n",
        "Even strings are iterable objects, they contain a sequence of characters:\n",
        "\n",
        "Loop through the letters in the word \"banana\":"
      ],
      "metadata": {
        "id": "MH4QVZJxrJA6"
      }
    },
    {
      "cell_type": "code",
      "source": [
        "#Assing a String to  Varible  iterating characters of Staring\n",
        "staring ='Apple'\n",
        "#Use For loop and iterating  characters of Staring\n",
        "for  character_string in staring:\n",
        "#Use Print Methed and Disply out of string\n",
        "  print(character_string.upper())"
      ],
      "metadata": {
        "id": "P39WL_ROrLJL"
      },
      "execution_count": null,
      "outputs": []
    },
    {
      "cell_type": "markdown",
      "source": [
        "The range() function\n",
        "In most cases, we will want to loop through a predetermined list. However, we can also generate a list to loop over \"on the fly\" with the range() function"
      ],
      "metadata": {
        "id": "tj_PHL9ouDyZ"
      }
    },
    {
      "cell_type": "code",
      "source": [
        "#Use Range Function and and Display out result\n",
        "for i in range(4):\n",
        "  print(i)"
      ],
      "metadata": {
        "id": "EgdpZo06t9La"
      },
      "execution_count": null,
      "outputs": []
    },
    {
      "cell_type": "code",
      "source": [
        "#Use Range Function print num\n",
        "for num in range(1,6):\n",
        "  print(num)"
      ],
      "metadata": {
        "id": "IYSlRvQ-ulSd"
      },
      "execution_count": null,
      "outputs": []
    },
    {
      "cell_type": "code",
      "source": [
        "# Assign integer values to a list\n",
        "number_list = [10, 20, 30, 40, 50, 60]\n",
        "\n",
        "# Use a for loop to iterate through the index and elements of the list\n",
        "for i in range(len(number_list)):\n",
        "    # Print the index and corresponding element of the list\n",
        "    print(i, number_list[i])\n"
      ],
      "metadata": {
        "id": "S0Y0ts7Yu9WT"
      },
      "execution_count": null,
      "outputs": []
    },
    {
      "cell_type": "code",
      "source": [
        "# Create a list with some values\n",
        "list_length = [10, 20, 40, 50, 60]\n",
        "\n",
        "# Use the len() function to check the length of the list\n",
        "# and then display the result\n",
        "print(\"The length of the given list is:\", len(list_length))\n"
      ],
      "metadata": {
        "id": "ioZSn-Mcxht3"
      },
      "execution_count": null,
      "outputs": []
    },
    {
      "cell_type": "markdown",
      "source": [
        "Looping through a dictionary**\n",
        "\n",
        "keys() You can step through the keys of a dictionary."
      ],
      "metadata": {
        "id": "NiaMlYdezZOf"
      }
    },
    {
      "cell_type": "code",
      "source": [
        "#Use  dictionary  data Structures and Assing value  With Key Pair\n",
        "Dic ={'name':'suresh','city':'Karach','Age':'20','Class':'12'}\n",
        "#Use For Loop and Iteration Value with Key in Dictionary\n",
        "for value in Dic.values():\n",
        "  print(value.upper())"
      ],
      "metadata": {
        "id": "VysRsXDNzY0d"
      },
      "execution_count": null,
      "outputs": []
    },
    {
      "cell_type": "code",
      "source": [
        "#Use dictionary  data structure and Assing value to dictionary with key pairs\n",
        "Dic = {'name':'suresh','city':'Karach','Age':'20','Class':'12'}\n",
        "#Use For  loop iteration to key pair of Dictionary\n",
        "for key in Dic.keys():\n",
        "    print(key.upper())"
      ],
      "metadata": {
        "id": "Oz-xnena21G2"
      },
      "execution_count": null,
      "outputs": []
    },
    {
      "cell_type": "code",
      "source": [
        "# Example: Identify even numbers in a list.\n",
        "\n",
        "# Assign integer values to a list.\n",
        "number_list = [9, 18, 20, 24, 27, 20]\n",
        "\n",
        "# Use a for loop to iterate through the list and check for even numbers.\n",
        "for current_number in number_list:\n",
        "    # Use an if-else condition to check if the remainder is 0 when divided by 3, then print the even number.\n",
        "    if current_number % 3 == 0:\n",
        "        print(\"The number is even:\", current_number)\n",
        "    else:\n",
        "        print(\"Number is not even:\", current_number)\n"
      ],
      "metadata": {
        "id": "lTPOYnMn_wJn"
      },
      "execution_count": null,
      "outputs": []
    },
    {
      "cell_type": "markdown",
      "source": [
        "# Python While Loops\n",
        "\n",
        "while loop is a control flow statement that allows a block of code to be executed repeatedly as long as a specified condition is true. condition false loop isbreak The syntax of a while loop is as follows:"
      ],
      "metadata": {
        "id": "VQLKWcr7EE1I"
      }
    },
    {
      "cell_type": "code",
      "source": [
        "# Example: Counting from 1 to 60 using a while loop\n",
        "\n",
        "# Start counting from 1\n",
        "current_number = 1\n",
        "\n",
        "# As long as the current number is less than or equal to 60, do the following:\n",
        "while current_number <= 60:\n",
        "    # Print the current number\n",
        "    print(current_number)\n",
        "\n",
        "    # Increase the current number by 1 for the next iteration\n",
        "    current_number = current_number + 1\n",
        "\n",
        "# The loop continues until the current number is no longer less than or equal to 60\n",
        "# The program then exits the loop and finishes\n"
      ],
      "metadata": {
        "id": "vZQnXKYxG_9I"
      },
      "execution_count": null,
      "outputs": []
    },
    {
      "cell_type": "code",
      "source": [
        "# Initialize a counter variable to keep track of the loop iteration\n",
        "loop_count = 0\n",
        "\n",
        "# Use a while loop to repeat the following steps as long as loop_count is less than or equal to 5\n",
        "while loop_count <= 5:\n",
        "    # Print the current value of loop_count\n",
        "    print(\"Hello Words \",loop_count)\n",
        "\n",
        "    # Increase the value of loop_count by 1 for the next iteration\n",
        "    loop_count = loop_count + 1\n"
      ],
      "metadata": {
        "id": "LyMZo_IbJyk9"
      },
      "execution_count": null,
      "outputs": []
    },
    {
      "cell_type": "code",
      "source": [
        "# Set an initial empty string for the user's password\n",
        "user_password = \"\"\n",
        "\n",
        "# Use a while loop to continue asking for the password until it matches \"suresh\"\n",
        "while user_password != \"suresh\":\n",
        "    # Ask the user to input their password\n",
        "    user_password = input(\"Enter Your Password: \")\n",
        "\n",
        "    # Check if the entered password matches \"suresh\"\n",
        "    if user_password == \"suresh\":\n",
        "        # If the password is correct, grant access\n",
        "        print('Your Access is Granted')\n",
        "    else:\n",
        "        # If the password is incorrect, inform the user that the entered password is invalid\n",
        "        print('Invalid Password. Please try again.')\n",
        "\n"
      ],
      "metadata": {
        "id": "9x2dd_YdL9iJ"
      },
      "execution_count": null,
      "outputs": []
    },
    {
      "cell_type": "code",
      "source": [
        "# Set initial empty strings for the user's username and password\n",
        "user_username = \"\"\n",
        "user_password = \"\"\n",
        "\n",
        "# Use a while loop to continue asking for the username and password until they match \"suresh\" and \"password123\" respectively\n",
        "while user_username != \"suresh\" and  user_password != \"password123\":\n",
        "    # Ask the user to input their username and password\n",
        "    user_username = input(\"Enter Your Username: \")\n",
        "    user_password = input(\"Enter Your Password: \")\n",
        "\n",
        "    # Check if both the entered username and password match the expected values\n",
        "    if user_username == \"suresh\" and user_password == \"password123\":\n",
        "        # If both are correct, grant access\n",
        "        print('Your Access is Granted')\n",
        "    else:\n",
        "        # If either the username or password is incorrect, inform the user that the entered credentials are invalid\n",
        "        print('Invalid Username or Password. Please try again.')\n"
      ],
      "metadata": {
        "id": "EBXXG3mRPsSo"
      },
      "execution_count": null,
      "outputs": []
    },
    {
      "cell_type": "code",
      "source": [
        "# Example : Summing Numbers from 1 to 10 using a while loop\n",
        "\n",
        "# Initialize a variable to store the running total\n",
        "sum_of_numbers = 0\n",
        "\n",
        "# Start with the first number\n",
        "current_number = 1\n",
        "\n",
        "# Continue adding numbers to the total as long as the current number is less than or equal to 10\n",
        "while current_number <= 10:\n",
        "    # Add the current number to the running total\n",
        "    sum_of_numbers = sum_of_numbers + current_number\n",
        "\n",
        "    # Increment the current number by 1 in each iteration\n",
        "    current_number = current_number + 1\n",
        "\n",
        "# Print the final sum\n",
        "print(\"The sum is:\", sum_of_numbers)"
      ],
      "metadata": {
        "id": "p4yNEltndK0J"
      },
      "execution_count": null,
      "outputs": []
    }
  ]
}