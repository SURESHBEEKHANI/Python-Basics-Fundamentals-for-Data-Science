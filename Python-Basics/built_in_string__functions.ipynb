{
  "cells": [
    {
      "cell_type": "markdown",
      "source": [
        "# Python buit-in String Methods with example"
      ],
      "metadata": {
        "id": "_mlDCeiwrMAI"
      }
    },
    {
      "cell_type": "code",
      "execution_count": 49,
      "metadata": {
        "colab": {
          "base_uri": "https://localhost:8080/"
        },
        "id": "lIYdn1woOS1n",
        "outputId": "c88862b7-889a-477c-d6a5-0565b82510c8"
      },
      "outputs": [
        {
          "output_type": "stream",
          "name": "stdout",
          "text": [
            "Suresh Beekhani Data Scientist and ML Engineer \n"
          ]
        }
      ],
      "source": [
        "# Use the print method to display the following string\n",
        "print(\"Suresh Beekhani Data Scientist and ML Engineer \")\n"
      ]
    },
    {
      "cell_type": "code",
      "source": [
        "# Assigning a string to the variable 'a'\n",
        "a = \"Suresh Beekhani as a data SCIENTIST and ML Engineer\"\n",
        "\n",
        "# Displaying the content of the variable 'a' using the print function\n",
        "print(a)\n"
      ],
      "metadata": {
        "colab": {
          "base_uri": "https://localhost:8080/"
        },
        "id": "B8aEjyb1W9gX",
        "outputId": "36e8690f-9bed-40ae-b718-ab3681dfacc3"
      },
      "execution_count": 50,
      "outputs": [
        {
          "output_type": "stream",
          "name": "stdout",
          "text": [
            "Suresh Beekhani as a data SCIENTIST and ML Engineer\n"
          ]
        }
      ]
    },
    {
      "cell_type": "code",
      "source": [
        "# This variable contains a multiline string\n",
        "Var = \"\"\"These examples cover various scenarios of splitting strings and lists\n",
        "in Python. If you have a specific use case or scenario in mind, feel free\n",
        "to provide more details for a more tailored example!\n",
        "\"\"\"\n",
        "\n",
        "# Print the content of the variable\n",
        "print(Var)  # Display the content of the variable\n"
      ],
      "metadata": {
        "colab": {
          "base_uri": "https://localhost:8080/"
        },
        "id": "2O74jqC-bv2Q",
        "outputId": "7bc26060-feb1-45b4-c4fc-8fc250699182"
      },
      "execution_count": 51,
      "outputs": [
        {
          "output_type": "stream",
          "name": "stdout",
          "text": [
            "These examples cover various scenarios of splitting strings and lists\n",
            "in Python. If you have a specific use case or scenario in mind, feel free\n",
            "to provide more details for a more tailored example!\n",
            "\n"
          ]
        }
      ]
    },
    {
      "cell_type": "code",
      "source": [
        "#Use Upercase Methed and Make all Words in string  Show Upercase\n",
        "upercase=a\n",
        "print(upercase.upper())"
      ],
      "metadata": {
        "colab": {
          "base_uri": "https://localhost:8080/"
        },
        "id": "BPm65VVqYIlX",
        "outputId": "81d0132b-48ec-4c17-af5d-04ae241143e3"
      },
      "execution_count": 52,
      "outputs": [
        {
          "output_type": "stream",
          "name": "stdout",
          "text": [
            "SURESH BEEKHANI AS A DATA SCIENTIST AND ML ENGINEER\n"
          ]
        }
      ]
    },
    {
      "cell_type": "code",
      "source": [
        "#Use Lower case Methed and Make all Word in  lowerCase\n",
        "lowercase=a\n",
        "print(lowercase.lower())"
      ],
      "metadata": {
        "colab": {
          "base_uri": "https://localhost:8080/"
        },
        "id": "FxE0VXSSY4Fl",
        "outputId": "0b25614b-6567-499c-cad4-f4eb8a85c4d7"
      },
      "execution_count": 53,
      "outputs": [
        {
          "output_type": "stream",
          "name": "stdout",
          "text": [
            "suresh beekhani as a data scientist and ml engineer\n"
          ]
        }
      ]
    },
    {
      "cell_type": "code",
      "source": [
        "#Use Split Methed and convert String into List\n",
        "split=a\n",
        "print(split.split(\",\"))"
      ],
      "metadata": {
        "colab": {
          "base_uri": "https://localhost:8080/"
        },
        "id": "zUd03W6mZoo9",
        "outputId": "7358f2fa-c16b-4fb4-b91c-ae26fa562818"
      },
      "execution_count": 54,
      "outputs": [
        {
          "output_type": "stream",
          "name": "stdout",
          "text": [
            "['Suresh Beekhani as a data SCIENTIST and ML Engineer']\n"
          ]
        }
      ]
    },
    {
      "cell_type": "code",
      "source": [
        "#Use Capitalize Methed and Disply first Word of String\n",
        "Capliaztion=a\n",
        "print(Capliaztion.capitalize())\n"
      ],
      "metadata": {
        "colab": {
          "base_uri": "https://localhost:8080/"
        },
        "id": "rgciqN8NbpVU",
        "outputId": "ac813288-a2e9-4031-9dd6-a0036cb5fef0"
      },
      "execution_count": 55,
      "outputs": [
        {
          "output_type": "stream",
          "name": "stdout",
          "text": [
            "Suresh beekhani as a data scientist and ml engineer\n"
          ]
        }
      ]
    },
    {
      "cell_type": "code",
      "source": [
        "#Use Replace Methed and Replace character \"S\" into \"K\" in All Sentences\n",
        "replace=a\n",
        "print(replace.replace(\"S\",\"K\"))"
      ],
      "metadata": {
        "colab": {
          "base_uri": "https://localhost:8080/"
        },
        "id": "kQRm0940eHkL",
        "outputId": "f33499ee-e1ee-4509-f580-c46be4227821"
      },
      "execution_count": 56,
      "outputs": [
        {
          "output_type": "stream",
          "name": "stdout",
          "text": [
            "Kuresh Beekhani as a data KCIENTIKT and ML Engineer\n"
          ]
        }
      ]
    },
    {
      "cell_type": "code",
      "source": [
        "#Use Replace Methed and Replace character \"Ml \" into \"DL\" in All Sentences\n",
        "replace=a\n",
        "print(replace.replace(\"ML \",\"DL\"))"
      ],
      "metadata": {
        "colab": {
          "base_uri": "https://localhost:8080/"
        },
        "id": "l6HDuXHqfpQE",
        "outputId": "22f511f1-268e-434f-bdd0-7f2bd2883b49"
      },
      "execution_count": 57,
      "outputs": [
        {
          "output_type": "stream",
          "name": "stdout",
          "text": [
            "Suresh Beekhani as a data SCIENTIST and DLEngineer\n"
          ]
        }
      ]
    },
    {
      "cell_type": "code",
      "source": [
        "#Use CaseFlod Disply all Sentence of  characters in Lowercase\n",
        "caseflod = a\n",
        "print(caseflod.casefold())\n"
      ],
      "metadata": {
        "colab": {
          "base_uri": "https://localhost:8080/"
        },
        "id": "2X4W23NHf9fF",
        "outputId": "9e2be6d0-abb3-4f40-e066-5889987cc97a"
      },
      "execution_count": 58,
      "outputs": [
        {
          "output_type": "stream",
          "name": "stdout",
          "text": [
            "suresh beekhani as a data scientist and ml engineer\n"
          ]
        }
      ]
    },
    {
      "cell_type": "code",
      "source": [
        "#Use Strip Methed and Remved Space Form stard _Ending Sentence\n",
        "strip = a\n",
        "print(strip.strip())"
      ],
      "metadata": {
        "colab": {
          "base_uri": "https://localhost:8080/"
        },
        "id": "hojWXVeehr8_",
        "outputId": "51a3e472-c4a8-4cc6-ffe3-2889376cb130"
      },
      "execution_count": 59,
      "outputs": [
        {
          "output_type": "stream",
          "name": "stdout",
          "text": [
            "Suresh Beekhani as a data SCIENTIST and ML Engineer\n"
          ]
        }
      ]
    },
    {
      "cell_type": "code",
      "source": [
        "#Use Title Methed and Make  first Charchter of each Words in string Show the  Uppercase\n",
        "title = a\n",
        "print(title.title())"
      ],
      "metadata": {
        "colab": {
          "base_uri": "https://localhost:8080/"
        },
        "id": "SxL5Gi_eip8E",
        "outputId": "5a3ce48e-84af-4f1c-b189-d7f8b6d2be42"
      },
      "execution_count": 60,
      "outputs": [
        {
          "output_type": "stream",
          "name": "stdout",
          "text": [
            "Suresh Beekhani As A Data Scientist And Ml Engineer\n"
          ]
        }
      ]
    },
    {
      "cell_type": "code",
      "source": [
        "#Use Count Methed and Count \"A\" character in Sentence\n",
        "count = a\n",
        "print(count.count(\"a\"))"
      ],
      "metadata": {
        "colab": {
          "base_uri": "https://localhost:8080/"
        },
        "id": "yduqPN4akFKP",
        "outputId": "643e221c-6071-4b1c-952c-50871d83e332"
      },
      "execution_count": 61,
      "outputs": [
        {
          "output_type": "stream",
          "name": "stdout",
          "text": [
            "6\n"
          ]
        }
      ]
    },
    {
      "cell_type": "code",
      "source": [
        "#Use Count Methed and Count \"data \" Word in Sentence\n",
        "count = a\n",
        "print(count.count(\"data\"))"
      ],
      "metadata": {
        "colab": {
          "base_uri": "https://localhost:8080/"
        },
        "id": "9v3vIez5k5oB",
        "outputId": "71099629-7a7a-42e3-d8b7-2838ff3c7290"
      },
      "execution_count": 62,
      "outputs": [
        {
          "output_type": "stream",
          "name": "stdout",
          "text": [
            "1\n"
          ]
        }
      ]
    },
    {
      "cell_type": "code",
      "source": [
        "#Use Count Methed and Count all Charchter  in Sentence\n",
        "count = a\n",
        "print(count.count(\"\"))"
      ],
      "metadata": {
        "colab": {
          "base_uri": "https://localhost:8080/"
        },
        "id": "Rf8Focv0lEgE",
        "outputId": "7b107a24-18f3-41d0-fb86-86920fd97a0c"
      },
      "execution_count": 63,
      "outputs": [
        {
          "output_type": "stream",
          "name": "stdout",
          "text": [
            "52\n"
          ]
        }
      ]
    },
    {
      "cell_type": "code",
      "source": [
        "#Use Center Methed all sentences alignments in Center\n",
        "center = a\n",
        "print(center.center(100))"
      ],
      "metadata": {
        "colab": {
          "base_uri": "https://localhost:8080/"
        },
        "id": "jt8Y8WQNlQwI",
        "outputId": "f8ce38f5-5218-498e-f9f3-41656892e8a4"
      },
      "execution_count": 64,
      "outputs": [
        {
          "output_type": "stream",
          "name": "stdout",
          "text": [
            "                        Suresh Beekhani as a data SCIENTIST and ML Engineer                         \n"
          ]
        }
      ]
    },
    {
      "cell_type": "code",
      "source": [
        "#Use Type methed and Disply Type Objects\n",
        "print(type(a))"
      ],
      "metadata": {
        "colab": {
          "base_uri": "https://localhost:8080/"
        },
        "id": "yA10WxO-l7kn",
        "outputId": "270780d8-07b6-4654-9b25-01b2c1267e4c"
      },
      "execution_count": 65,
      "outputs": [
        {
          "output_type": "stream",
          "name": "stdout",
          "text": [
            "<class 'str'>\n"
          ]
        }
      ]
    },
    {
      "cell_type": "code",
      "source": [
        "# Using the swapcase() method to swap the case of letters in a string\n",
        "Swapcase = a\n",
        "print(Swapcase.swapcase())  # Prints the string with uppercase letters turned into lowercase and vice versa\n"
      ],
      "metadata": {
        "colab": {
          "base_uri": "https://localhost:8080/"
        },
        "id": "lrLpr9jfnEBI",
        "outputId": "c4d1242c-2e56-4a48-cffd-9b3f8133cf10"
      },
      "execution_count": 66,
      "outputs": [
        {
          "output_type": "stream",
          "name": "stdout",
          "text": [
            "sURESH bEEKHANI AS A DATA scientist AND ml eNGINEER\n"
          ]
        }
      ]
    },
    {
      "cell_type": "code",
      "source": [
        "# Convert string to list using split()\n",
        "tuple_data =list(a.split())\n",
        "# Combine the elements of the tuple into a single string without spaces between sentences\n",
        "joined_string = \"\".join(tuple_data)\n",
        "\n",
        "# Print the result\n",
        "print(joined_string)\n",
        "\n"
      ],
      "metadata": {
        "colab": {
          "base_uri": "https://localhost:8080/"
        },
        "id": "2QUHsUF8pA16",
        "outputId": "82ec4800-8bf3-49bd-801d-1b269000342f"
      },
      "execution_count": 67,
      "outputs": [
        {
          "output_type": "stream",
          "name": "stdout",
          "text": [
            "SureshBeekhaniasadataSCIENTISTandMLEngineer\n"
          ]
        }
      ]
    },
    {
      "cell_type": "code",
      "source": [
        "# Convert string to tuple using split()\n",
        "tuple_data = tuple(a.split())\n",
        "# Use the join method to remove spaces between all the words in the sentence\n",
        "Joine = \"\".join(tuple_data)\n",
        "print(Joine)  # Print the result after joining the words without spaces\n"
      ],
      "metadata": {
        "colab": {
          "base_uri": "https://localhost:8080/"
        },
        "id": "qgOs1V13N1eO",
        "outputId": "abf2a81a-eff5-4018-b0f0-29abaf5c249f"
      },
      "execution_count": 68,
      "outputs": [
        {
          "output_type": "stream",
          "name": "stdout",
          "text": [
            "SureshBeekhaniasadataSCIENTISTandMLEngineer\n"
          ]
        }
      ]
    },
    {
      "cell_type": "code",
      "source": [
        "# Assign Value Of \"a\" Varible to \"my_staring\" Varible\n",
        "my_string = a\n",
        "#Use Print and len Methed and Disply Len Of my string Latters\n",
        "print(len(my_string))"
      ],
      "metadata": {
        "colab": {
          "base_uri": "https://localhost:8080/"
        },
        "id": "ygOB6_JJSyyM",
        "outputId": "37ddaf26-7957-459a-9493-2199c5e94f70"
      },
      "execution_count": 69,
      "outputs": [
        {
          "output_type": "stream",
          "name": "stdout",
          "text": [
            "51\n"
          ]
        }
      ]
    },
    {
      "cell_type": "code",
      "source": [
        "#Use Find Methed the index Postion  of the substring \"World\" in the string Sentence\n",
        "my_string=\"Hello,World\"\n",
        "index = my_string.find(\"World\")\n",
        "\n",
        "# Print the result\n",
        "print(index)#Output"
      ],
      "metadata": {
        "id": "N89BMftWj9zZ",
        "outputId": "667831e2-eeb7-4111-d289-cb181307a5af",
        "colab": {
          "base_uri": "https://localhost:8080/"
        }
      },
      "execution_count": 70,
      "outputs": [
        {
          "output_type": "stream",
          "name": "stdout",
          "text": [
            "6\n"
          ]
        }
      ]
    },
    {
      "cell_type": "code",
      "source": [
        "# Use a variable named 'string' and assign a value of string data type to it\n",
        "string = \"Suresh Beekhani Ceo Of Insights Swape\"\n",
        "\n",
        "# Use the 'encode' method to convert the string into a format that computers can understand (encoding)\n",
        "encoded_string = string.encode()\n",
        "\n",
        "# Print the encoded information\n",
        "print(encoded_string)\n"
      ],
      "metadata": {
        "colab": {
          "base_uri": "https://localhost:8080/"
        },
        "id": "cH4-KU_WXiTe",
        "outputId": "e70ba3e9-13b2-42e5-d3bd-87150c4a0975"
      },
      "execution_count": 71,
      "outputs": [
        {
          "output_type": "stream",
          "name": "stdout",
          "text": [
            "b'Suresh Beekhani Ceo Of Insights Swape'\n"
          ]
        }
      ]
    },
    {
      "cell_type": "code",
      "source": [
        "# Assign a string to the variable named 'String'\n",
        "String = \"Suresh Beekhani Is a Ceo Of Insifgt Swapi >\"\n",
        "\n",
        "# Use the 'endswith' method to check if the string ends with the specified symbol (\">\")\n",
        "String1 = String.endswith(\">\")\n",
        "\n",
        "# Print the boolean result of the 'endswith' check\n",
        "print(String1)"
      ],
      "metadata": {
        "colab": {
          "base_uri": "https://localhost:8080/"
        },
        "id": "arIGAbBraxxG",
        "outputId": "001f03ea-9aa4-4a58-e7cf-5446a6989992"
      },
      "execution_count": 72,
      "outputs": [
        {
          "output_type": "stream",
          "name": "stdout",
          "text": [
            "True\n"
          ]
        }
      ]
    },
    {
      "cell_type": "code",
      "source": [
        "# Assign a string with tabs to the variable named 'string'\n",
        "string = \"H\\te\\tl\\tl\\to\"\n",
        "\n",
        "# Use the 'expandtabs' method with a tab size of 2 to replace tabs with spaces in the string\n",
        "expanded_string = string.expandtabs(2)\n",
        "\n",
        "# Print the resulting string after expanding tabs\n",
        "print(expanded_string)\n"
      ],
      "metadata": {
        "colab": {
          "base_uri": "https://localhost:8080/"
        },
        "id": "orlHr6a0gmJa",
        "outputId": "a1bc6da4-5de2-46ce-a2af-1b3e502e4594"
      },
      "execution_count": 73,
      "outputs": [
        {
          "output_type": "stream",
          "name": "stdout",
          "text": [
            "H e l l o\n"
          ]
        }
      ]
    },
    {
      "cell_type": "code",
      "source": [
        "# This code demonstrates the use of string formatting in Python.\n",
        "# The variable 'string' contains a template with a placeholder {price:.2f}.\n",
        "# The .format() method is then used to substitute the placeholder with the value of 'price', formatted as a float with 2 decimal places.\n",
        "string = \"For only {price:.2f} dollars\"\n",
        "print(string.format(price=49))\n"
      ],
      "metadata": {
        "colab": {
          "base_uri": "https://localhost:8080/"
        },
        "id": "uFHWEE2-qRtF",
        "outputId": "42b1928e-7591-4c13-cef8-77c54f5e2dd1"
      },
      "execution_count": 74,
      "outputs": [
        {
          "output_type": "stream",
          "name": "stdout",
          "text": [
            "For only 49.00 dollars\n"
          ]
        }
      ]
    },
    {
      "cell_type": "code",
      "source": [
        "# Create a dictionary 'string' with keys 'x' and 'y' representing names.\n",
        "string = {'x': 'suresh', 'y': 'Sureshbeekhani'}\n",
        "# Use the format_map method to substitute values for placeholders {x} and {y} in the string.\n",
        "# Finally, print a sentence combining the values assigned to 'x' and 'y'.\n",
        "print(\"{x}'s last name is {y}\".format_map(string))\n"
      ],
      "metadata": {
        "id": "VrrDc6UJuY30",
        "outputId": "ef47c3f8-105d-4162-ffda-f3f3e87b5608",
        "colab": {
          "base_uri": "https://localhost:8080/"
        }
      },
      "execution_count": 75,
      "outputs": [
        {
          "output_type": "stream",
          "name": "stdout",
          "text": [
            "suresh's last name is Sureshbeekhani\n"
          ]
        }
      ]
    },
    {
      "cell_type": "code",
      "source": [
        "# Assign a string to the variable 'string'.\n",
        "string = \"suresh kumar beekhani from kumar line saddar \"\n",
        "\n",
        "# Use the index method to find the position of the substring \"kumar\" within the string.\n",
        "print(string.index(\"kumar\"))\n"
      ],
      "metadata": {
        "id": "X1Ipm455vB9S",
        "outputId": "7035f5b1-d2af-4679-de7f-98e258f7fef4",
        "colab": {
          "base_uri": "https://localhost:8080/"
        }
      },
      "execution_count": 76,
      "outputs": [
        {
          "output_type": "stream",
          "name": "stdout",
          "text": [
            "7\n"
          ]
        }
      ]
    },
    {
      "cell_type": "code",
      "source": [
        "# Assign a string to the variable 'my_string' containing both letters and numbers.\n",
        "string1 = \"Suresh123\"\n",
        "string2=\"suresh beekhani\"\n",
        "\n",
        "\n",
        "# Use the isalnum() method to check if the string contains only alphanumeric characters (letters and numbers).\n",
        "# Print the result, which will be True if the string is alphanumeric, and False otherwise.\n",
        "print(string1.isalnum())\n",
        "print(string2.isalnum())\n"
      ],
      "metadata": {
        "id": "gM8CiuIMyEi4",
        "outputId": "4e3e2f10-5b47-45ee-8723-a1a8a70624ab",
        "colab": {
          "base_uri": "https://localhost:8080/"
        }
      },
      "execution_count": 77,
      "outputs": [
        {
          "output_type": "stream",
          "name": "stdout",
          "text": [
            "True\n",
            "False\n"
          ]
        }
      ]
    },
    {
      "cell_type": "code",
      "source": [
        "# Assign a string to the variable \"stralp\" containing letters\n",
        "stralp1 = \"Suresh123\"\n",
        "stralp2 = \"Suresh\"\n",
        "\n",
        "# Use the isalpha() method to check if the string only contains alphabetic characters\n",
        "print(stralp1.isalpha())  # Outputs True if the string consists of alphabets only\n",
        "print(stralp2.isalpha())"
      ],
      "metadata": {
        "id": "b5BI_xvw01ma",
        "outputId": "a47a3943-1cd1-42de-a5b3-0e97a50a79f6",
        "colab": {
          "base_uri": "https://localhost:8080/"
        }
      },
      "execution_count": 78,
      "outputs": [
        {
          "output_type": "stream",
          "name": "stdout",
          "text": [
            "False\n",
            "True\n"
          ]
        }
      ]
    },
    {
      "cell_type": "code",
      "source": [
        "# Assign a decimal number to the variable \"str1\"\n",
        "str1 = \"1234\"\n",
        "\n",
        "# Assign a float number to the variable \"str2\"\n",
        "str2 = \"0.122\"\n",
        "\n",
        "# Use the isdecimal() method to check if the value of str1 is a decimal number\n",
        "# Outputs True if str1 is a decimal, False otherwise\n",
        "print(f\"The value  is Decimal :{str1.isdecimal()}\")\n",
        "\n",
        "# Use the isdecimal() method to check if the value of str2 is a decimal number\n",
        "# Outputs True if str2 is a decimal, False otherwise\n",
        "print(f\"The value is flot: {str2.isdecimal()}\")\n"
      ],
      "metadata": {
        "id": "8Ff6swS94v-j",
        "outputId": "d800a561-7616-4836-c6c3-214ffaacc830",
        "colab": {
          "base_uri": "https://localhost:8080/"
        }
      },
      "execution_count": 79,
      "outputs": [
        {
          "output_type": "stream",
          "name": "stdout",
          "text": [
            "The value  is Decimal :True\n",
            "The value is flot: False\n"
          ]
        }
      ]
    },
    {
      "cell_type": "code",
      "source": [
        "# Assign a whole number (3000) to a variable named digit1\n",
        "digit1 = \"3000\"\n",
        "\n",
        "# Assign a combination of numbers (2019) and a letter (u) to a variable named digit2\n",
        "digit2 = \"2019u\"\n",
        "\n",
        "# Use a method called isdigit to check if the content of digit1 consists only of digits (numbers)\n",
        "# If it does, print True; otherwise, print False\n",
        "print(digit1.isdigit())\n",
        "\n",
        "# Use the same method isdigit to check if the content of digit2 consists only of digits (numbers)\n",
        "# If it does, print True; otherwise, print False\n",
        "print(digit2.isdigit())\n",
        "\n"
      ],
      "metadata": {
        "id": "hLEmAzNPDKfz",
        "outputId": "70abf2ff-ba61-4a2d-fcdc-04350a3513b2",
        "colab": {
          "base_uri": "https://localhost:8080/"
        }
      },
      "execution_count": 80,
      "outputs": [
        {
          "output_type": "stream",
          "name": "stdout",
          "text": [
            "True\n",
            "False\n"
          ]
        }
      ]
    },
    {
      "cell_type": "code",
      "source": [
        "#Assign A string Value to idenifier1 varible\n",
        "identifier1 = \"variable_name\"\n",
        "#Assgin a int_Sting Value to ideifier2 varible\n",
        "identifier2 = \"123_variable\"\n",
        "#use isidentifier Methed Check the string is only strig vale if the true other False\n",
        "print(identifier1.isidentifier())  # Output: True\n",
        "print(identifier2.isidentifier())  # Output: False\n"
      ],
      "metadata": {
        "id": "8BWcZm-nJk49",
        "outputId": "d8556871-900e-492a-de7b-8c83f2680529",
        "colab": {
          "base_uri": "https://localhost:8080/"
        }
      },
      "execution_count": 81,
      "outputs": [
        {
          "output_type": "stream",
          "name": "stdout",
          "text": [
            "True\n",
            "False\n"
          ]
        }
      ]
    },
    {
      "cell_type": "code",
      "source": [
        "# Assign a string value to the identifier1 variable\n",
        "identifier1 = \"variable_name\"\n",
        "\n",
        "# Assign an int_string value to the identifier2 variable\n",
        "identifier2 = \"123_variable\"\n",
        "\n",
        "# Use the isidentifier method to check if the string contains a valid identifier\n",
        "# Output: True for identifier1 as it only contains letters and underscores\n",
        "print(identifier1.isidentifier())\n",
        "\n",
        "# Output: False for identifier2 as it string  with a number, which is not allowed in identifiers\n",
        "print(identifier2.isidentifier())\n"
      ],
      "metadata": {
        "id": "uFVTcuPiLtOB",
        "outputId": "1ab9cacd-7ff7-4115-a1e7-5c9108adf143",
        "colab": {
          "base_uri": "https://localhost:8080/"
        }
      },
      "execution_count": 82,
      "outputs": [
        {
          "output_type": "stream",
          "name": "stdout",
          "text": [
            "True\n",
            "False\n"
          ]
        }
      ]
    },
    {
      "cell_type": "code",
      "source": [
        "# Assign a string value in Uppercase to the variable \"a\"\n",
        "a = \"HELLO,WORD\"\n",
        "\n",
        "# Assign a string value in Lowercase to the variable \"b\"\n",
        "b = \"suresh123\"\n",
        "\n",
        "# Assign a string value in Lowercase to the variable \"c\"\n",
        "c = \"Kumar Beekhani\"\n",
        "\n",
        "# Use the islower method to check if the string is in lowercase\n",
        "# Output: False for variable \"a\" as it contains uppercase letters\n",
        "print(a.islower())\n",
        "\n",
        "# Output: True for variable \"b\" as it consists only of lowercase letters\n",
        "print(b.islower())\n",
        "\n",
        "# Output: False for variable \"c\" as it contains uppercase letters\n",
        "print(c.islower())\n"
      ],
      "metadata": {
        "id": "Hy3eY9WyM3F6",
        "outputId": "3e666554-dc4c-4590-9db9-797375e2228c",
        "colab": {
          "base_uri": "https://localhost:8080/"
        }
      },
      "execution_count": 83,
      "outputs": [
        {
          "output_type": "stream",
          "name": "stdout",
          "text": [
            "False\n",
            "True\n",
            "False\n"
          ]
        }
      ]
    },
    {
      "cell_type": "code",
      "source": [
        "# Define a string with numeric characters\n",
        "numeric_string = \"12345\"\n",
        "# Use the isnumeric() method to check if the string is numeric\n",
        "# Output: True since all characters are numeric\n",
        "print(numeric_string.isnumeric())\n",
        "\n",
        "# Define a string with a mix of numeric and non-numeric characters\n",
        "mixed_string = \"123abc\"\n",
        "\n",
        "# Output: False since the string contains non-numeric characters\n",
        "print(mixed_string.isnumeric())"
      ],
      "metadata": {
        "id": "Xk-0AWR9PudG",
        "outputId": "f45ed1a7-d9bd-4d2a-8847-7bdf2a3fa941",
        "colab": {
          "base_uri": "https://localhost:8080/"
        }
      },
      "execution_count": 84,
      "outputs": [
        {
          "output_type": "stream",
          "name": "stdout",
          "text": [
            "True\n",
            "False\n"
          ]
        }
      ]
    },
    {
      "cell_type": "code",
      "source": [
        "# Assign a string value without a tab to the variable 'string1'\n",
        "string1 = \"Hello, World!\"\n",
        "\n",
        "# Assign a value to a string with a tab to the variable 'string2'\n",
        "string2 = \"Hello\\tWorld!\"  # Contains a tab character, which is not printable\n",
        "\n",
        "# Use the isPrintable method and check if the string without a tab is True, otherwise False\n",
        "print(string1.isprintable())  # Output: True\n",
        "# The string with a tab is not printable, so the output is False\n",
        "print(string2.isprintable())  # Output: False"
      ],
      "metadata": {
        "id": "tLTJj5O-QmgI",
        "outputId": "3d3fa536-08ae-4967-b2e5-351755b0d4c4",
        "colab": {
          "base_uri": "https://localhost:8080/"
        }
      },
      "execution_count": 85,
      "outputs": [
        {
          "output_type": "stream",
          "name": "stdout",
          "text": [
            "True\n",
            "False\n"
          ]
        }
      ]
    },
    {
      "cell_type": "code",
      "source": [
        "# Define an empty string variable named strig1\n",
        "strig1 = \"suresh\"\n",
        "\n",
        "# Define a string variable with a single space named strig2\n",
        "strig2 = \" \"\n",
        "\n",
        "# Check if strig1 consists only of whitespace characters and print the result\n",
        "print(strig1.isspace())\n",
        "\n",
        "# Check if strig2 consists only of whitespace characters and print the result\n",
        "print(strig2.isspace())\n",
        "\n"
      ],
      "metadata": {
        "id": "sF9-i6CrQkz3",
        "outputId": "b2c900a5-26de-473d-a349-4a605c14dfce",
        "colab": {
          "base_uri": "https://localhost:8080/"
        }
      },
      "execution_count": 86,
      "outputs": [
        {
          "output_type": "stream",
          "name": "stdout",
          "text": [
            "False\n",
            "True\n"
          ]
        }
      ]
    },
    {
      "cell_type": "code",
      "source": [
        "# Assign a string with the first letter of each word capitalized to the variable \"string1\"\n",
        "string1 = \"Suresh Kumar Beekhani \"\n",
        "# Assign a string with all words to the variable \"strig2\"\n",
        "strig2 = \"Suresh kumar beekhani Karachi\"\n",
        "\n",
        "# Check if the first letter capitalized each Words IS OUT true otherwise False\n",
        "print(string1.istitle())#True\n",
        "print(strig2.istitle())#False\n"
      ],
      "metadata": {
        "id": "9y3LptvQhCj7",
        "outputId": "05eb1e69-86d4-4f5b-a1ce-5d2e36fdcc59",
        "colab": {
          "base_uri": "https://localhost:8080/"
        }
      },
      "execution_count": 87,
      "outputs": [
        {
          "output_type": "stream",
          "name": "stdout",
          "text": [
            "True\n",
            "False\n"
          ]
        }
      ]
    },
    {
      "cell_type": "code",
      "source": [
        "#Assing value to Dicunary in Numarcial\n",
        "mydic={\"suresh\":50}\n",
        "#Assing a string Value to variable \" String \"\n",
        "strng=\"Hello Words\"\n",
        "#Using Translation Methed and Replace string into Dicuranry\n",
        "print(strng.translate(mydic))"
      ],
      "metadata": {
        "colab": {
          "base_uri": "https://localhost:8080/"
        },
        "id": "_caaD-enbL1i",
        "outputId": "f8a2fb69-0969-4b78-944f-ec00c75dd7ce"
      },
      "execution_count": 88,
      "outputs": [
        {
          "output_type": "stream",
          "name": "stdout",
          "text": [
            "Hello Words\n"
          ]
        }
      ]
    },
    {
      "cell_type": "code",
      "source": [
        "# Assign a numeric value as a string to the variable 'a'\n",
        "a = \"50\"\n",
        "\n",
        "# Use the zfill method to add 10 zeros to the left side of the string and store the result in 'paddd_a'\n",
        "paddd_a = a.zfill(10)\n",
        "\n",
        "# Print the padded string 'paddd_a'\n",
        "print(paddd_a)\n"
      ],
      "metadata": {
        "colab": {
          "base_uri": "https://localhost:8080/"
        },
        "id": "EVz01UxVgIpt",
        "outputId": "a76b6e4e-3632-45fe-8088-99b7081f5f1f"
      },
      "execution_count": 89,
      "outputs": [
        {
          "output_type": "stream",
          "name": "stdout",
          "text": [
            "0000000050\n"
          ]
        }
      ]
    },
    {
      "cell_type": "code",
      "source": [
        "# Using __add__ method to concatenate strings\n",
        "result = 'Hello '.__add__('World')\n",
        "\n",
        "# Printing the result\n",
        "print(result)\n"
      ],
      "metadata": {
        "colab": {
          "base_uri": "https://localhost:8080/"
        },
        "id": "L5JtkICIib_z",
        "outputId": "2eb85d38-9bb1-4e64-bcc5-8f865019be6c"
      },
      "execution_count": 90,
      "outputs": [
        {
          "output_type": "stream",
          "name": "stdout",
          "text": [
            "Hello World\n"
          ]
        }
      ]
    },
    {
      "cell_type": "code",
      "source": [
        "s = \"hello\"\n",
        "result = s.__contains__('h')\n",
        "print(result)  # Output: True\n"
      ],
      "metadata": {
        "colab": {
          "base_uri": "https://localhost:8080/"
        },
        "id": "QLK8YEB0kh6s",
        "outputId": "f03765f5-262c-4417-8282-8281a980880e"
      },
      "execution_count": 91,
      "outputs": [
        {
          "output_type": "stream",
          "name": "stdout",
          "text": [
            "True\n"
          ]
        }
      ]
    },
    {
      "cell_type": "code",
      "source": [
        "# Assign a string to the variable \"s\"\n",
        "s = \"hello Suresh beekhani How are U\"\n",
        "\n",
        "# Use the __contains__ method to check if the substring 'Hello How Are U' is present in the string 's'\n",
        "# The result will be True if the substring is found, otherwise False\n",
        "result = s.__contains__('hello ')\n",
        "\n",
        "# Print the result to the console\n",
        "print(result)\n"
      ],
      "metadata": {
        "colab": {
          "base_uri": "https://localhost:8080/"
        },
        "id": "QmqhTNqZksFW",
        "outputId": "038cc33d-94c4-4b18-9d15-a189bf5e1e8b"
      },
      "execution_count": 92,
      "outputs": [
        {
          "output_type": "stream",
          "name": "stdout",
          "text": [
            "True\n"
          ]
        }
      ]
    },
    {
      "cell_type": "code",
      "source": [
        "# Use the __eq__ method to check if the string '40' is equal to '60'\n",
        "result = '40'.__eq__('60')\n",
        "\n",
        "# Use the __eq__ method to check if the string '40' is equal to '40'\n",
        "result1 = '40'.__eq__('40')\n",
        "\n",
        "# Print the results to the console\n",
        "print(result)   # Output: False, as '40' is not equal to '60'\n",
        "print(result1)  # Output: True, as '40' is equal to '40'\n"
      ],
      "metadata": {
        "colab": {
          "base_uri": "https://localhost:8080/"
        },
        "id": "vWcqva3ymSir",
        "outputId": "128e2f7d-8b08-41e6-8b0b-89ca61f2ac86"
      },
      "execution_count": 93,
      "outputs": [
        {
          "output_type": "stream",
          "name": "stdout",
          "text": [
            "False\n",
            "True\n"
          ]
        }
      ]
    },
    {
      "cell_type": "code",
      "source": [
        "# Access the character at index 1 in the string 'hello'\n",
        "character_at_index_1 = 'hello'.__getitem__(1)\n",
        "\n",
        "# Print the result to the console\n",
        "print(character_at_index_1)\n"
      ],
      "metadata": {
        "colab": {
          "base_uri": "https://localhost:8080/"
        },
        "id": "KKI9c6V9ozaN",
        "outputId": "1b398977-d5ae-4c29-f36c-470567e84949"
      },
      "execution_count": 94,
      "outputs": [
        {
          "output_type": "stream",
          "name": "stdout",
          "text": [
            "e\n"
          ]
        }
      ]
    },
    {
      "cell_type": "code",
      "source": [
        "# Create an iterator for the string 'hello'\n",
        "iterator = iter('hello')\n",
        "\n",
        "# Use the __next__ method to get the next element from the iterator\n",
        "next_element = iterator.__next__()\n",
        "\n",
        "# Print the result to the console\n",
        "print(next_element)\n"
      ],
      "metadata": {
        "colab": {
          "base_uri": "https://localhost:8080/"
        },
        "id": "QK4_cdkSq8SL",
        "outputId": "36ddd6f5-66fc-42cc-9b46-2a90ba6ca8b8"
      },
      "execution_count": 95,
      "outputs": [
        {
          "output_type": "stream",
          "name": "stdout",
          "text": [
            "h\n"
          ]
        }
      ]
    },
    {
      "cell_type": "code",
      "source": [
        "# Assign a string value to the variable 'length'\n",
        "length = \"Hello I am Suresh\"\n",
        "\n",
        "# Use the __len__ method to determine and display the length of the string\n",
        "length_of_string = length.__len__()\n",
        "\n",
        "# Print the length of the string to the console\n",
        "print(length_of_string)\n"
      ],
      "metadata": {
        "colab": {
          "base_uri": "https://localhost:8080/"
        },
        "id": "h89Vu64kq98S",
        "outputId": "5c192568-af14-498c-d734-979613dbebc5"
      },
      "execution_count": 96,
      "outputs": [
        {
          "output_type": "stream",
          "name": "stdout",
          "text": [
            "17\n"
          ]
        }
      ]
    },
    {
      "cell_type": "code",
      "source": [
        "# Use the __mul__ method to repeat the string 'hello' two times\n",
        "repeated_string = 'hello How are u '.__mul__(2)\n",
        "\n",
        "# Print the result to the console\n",
        "print(repeated_string)\n"
      ],
      "metadata": {
        "colab": {
          "base_uri": "https://localhost:8080/"
        },
        "id": "a-MKmI0vokfY",
        "outputId": "c3e9939e-37bc-40cb-8622-753634d578f9"
      },
      "execution_count": 100,
      "outputs": [
        {
          "output_type": "stream",
          "name": "stdout",
          "text": [
            "hello How are u hello How are u \n"
          ]
        }
      ]
    },
    {
      "cell_type": "code",
      "source": [
        "# Use the __ne__ method to check if the string 'hello' is not equal to 'world'\n",
        "not_equal_result = 'world'.__ne__('world')\n",
        "not_equal_result1 = 'Hello'.__ne__('world')\n",
        "# Print the result to the console\n",
        "print(not_equal_result)\n",
        "print(not_equal_result1)\n"
      ],
      "metadata": {
        "colab": {
          "base_uri": "https://localhost:8080/"
        },
        "id": "vIh6OZI4pcR1",
        "outputId": "8c2f04e0-a5a2-440a-93b0-31f1978f5ae2"
      },
      "execution_count": 106,
      "outputs": [
        {
          "output_type": "stream",
          "name": "stdout",
          "text": [
            "False\n",
            "True\n"
          ]
        }
      ]
    },
    {
      "cell_type": "code",
      "source": [
        "# Using the % operator for string formatting\n",
        "result_percent = 'Number %s' % 10\n",
        "\n",
        "# Print the result to the console\n",
        "print(result_percent)\n"
      ],
      "metadata": {
        "colab": {
          "base_uri": "https://localhost:8080/"
        },
        "id": "Ky55LEetqLlm",
        "outputId": "5ed24dc8-9ff4-4571-9a9a-33e036576107"
      },
      "execution_count": 108,
      "outputs": [
        {
          "output_type": "stream",
          "name": "stdout",
          "text": [
            "Number 10\n"
          ]
        }
      ]
    },
    {
      "cell_type": "code",
      "source": [
        "# Use the __ge__ method to check if the string 'hello' is greater than or equal to 'a' in lexicographical order\n",
        "comparison_result = 'hello'.__ge__('n')\n",
        "comparison_result1 = 'hello'.__ge__('a')\n",
        "# Print the result to the console\n",
        "print(comparison_result)\n",
        "print(comparison_result1)\n",
        "\n"
      ],
      "metadata": {
        "colab": {
          "base_uri": "https://localhost:8080/"
        },
        "id": "j8-YS_GaqYli",
        "outputId": "d8f14fe2-e99b-4c94-cd5f-c69b48ce0575"
      },
      "execution_count": 120,
      "outputs": [
        {
          "output_type": "stream",
          "name": "stdout",
          "text": [
            "False\n",
            "True\n"
          ]
        }
      ]
    },
    {
      "cell_type": "code",
      "source": [
        "# Use the __le__ method to check if the string 'hello' is less than or equal to 'jello' in lexicographical order\n",
        "comparison_result = 'hello'.__le__('a')\n",
        "comparison_result1 = 'hello'.__le__('j')\n",
        "\n",
        "# Print the result to the console\n",
        "print(comparison_result)\n",
        "print(comparison_result1)"
      ],
      "metadata": {
        "colab": {
          "base_uri": "https://localhost:8080/"
        },
        "id": "JXf9FwKkrQqD",
        "outputId": "9ed9c891-e60c-46e2-bcb5-0502b8c2bb17"
      },
      "execution_count": 122,
      "outputs": [
        {
          "output_type": "stream",
          "name": "stdout",
          "text": [
            "False\n",
            "True\n"
          ]
        }
      ]
    },
    {
      "cell_type": "code",
      "source": [
        "# Use the __lt__ method to check if the string 'hello' is less than 'jello' in lexicographical order\n",
        "comparison_result = 'hello'.__lt__('aello')\n",
        "comparison_result = 'hello'.__lt__('Jello')\n",
        "# Print the result to the console\n",
        "print(comparison_result)\n",
        "print(comparison_result1)\n"
      ],
      "metadata": {
        "colab": {
          "base_uri": "https://localhost:8080/"
        },
        "id": "w4Vr_8Jer7l8",
        "outputId": "f7efe95a-0d2c-4456-c7c3-d07fda6db2bf"
      },
      "execution_count": 126,
      "outputs": [
        {
          "output_type": "stream",
          "name": "stdout",
          "text": [
            "False\n",
            "True\n"
          ]
        }
      ]
    },
    {
      "cell_type": "code",
      "source": [
        "# Reverse the characters in the string 'hello' and join them with an empty string\n",
        "reversed_string = ''.join(reversed('Suresh'))\n",
        "\n",
        "# Print the result to the console\n",
        "print(reversed_string)\n"
      ],
      "metadata": {
        "colab": {
          "base_uri": "https://localhost:8080/"
        },
        "id": "kNpO1KuKsSgM",
        "outputId": "a3eb901a-e297-49de-daf2-6018e3ad6a11"
      },
      "execution_count": 127,
      "outputs": [
        {
          "output_type": "stream",
          "name": "stdout",
          "text": [
            "hseruS\n"
          ]
        }
      ]
    },
    {
      "cell_type": "code",
      "source": [
        "# Use the __str__ method to convert the string 'hello' to its string representation\n",
        "string_representation = 'hello'.__str__()\n",
        "\n",
        "# Print the result to the console\n",
        "print(string_representation)\n"
      ],
      "metadata": {
        "colab": {
          "base_uri": "https://localhost:8080/"
        },
        "id": "VlN-qrvKsh83",
        "outputId": "d4a76099-24e1-4088-aa4b-46a6de9c6042"
      },
      "execution_count": 128,
      "outputs": [
        {
          "output_type": "stream",
          "name": "stdout",
          "text": [
            "hello\n"
          ]
        }
      ]
    },
    {
      "cell_type": "code",
      "source": [
        "# Use the __hash__ method to generate a hash value for the string 'hello'\n",
        "hash_value = 'hello'.__hash__()\n",
        "\n",
        "# Print the hash value to the console\n",
        "print(hash_value)\n"
      ],
      "metadata": {
        "colab": {
          "base_uri": "https://localhost:8080/"
        },
        "id": "vPDsWHx_stGQ",
        "outputId": "48698a33-cedb-4bc4-9154-46c791dc9a81"
      },
      "execution_count": 129,
      "outputs": [
        {
          "output_type": "stream",
          "name": "stdout",
          "text": [
            "8492933595959489282\n"
          ]
        }
      ]
    },
    {
      "cell_type": "code",
      "source": [
        "# Use an iterator to create a list of characters from the string 'Suresh beekhani '\n",
        "character_list = [char for char in 'Suresh beekhani'.__iter__()]\n",
        "\n",
        "# Print the result to the console\n",
        "print(character_list)\n"
      ],
      "metadata": {
        "colab": {
          "base_uri": "https://localhost:8080/"
        },
        "id": "0oR9SQ44tEo_",
        "outputId": "121580a2-c59c-4a84-b742-0683277130c0"
      },
      "execution_count": 133,
      "outputs": [
        {
          "output_type": "stream",
          "name": "stdout",
          "text": [
            "['S', 'u', 'r', 'e', 's', 'h', ' ', 'b', 'e', 'e', 'k', 'h', 'a', 'n', 'i']\n"
          ]
        }
      ]
    },
    {
      "cell_type": "code",
      "source": [
        "# Use the __sizeof__ method to get the size (in bytes) of the string 'hello'\n",
        "size_of_string = 'hello'.__sizeof__()\n",
        "\n",
        "# Print the size to the console\n",
        "print(size_of_string)\n"
      ],
      "metadata": {
        "colab": {
          "base_uri": "https://localhost:8080/"
        },
        "id": "2CIYN5mgtdVo",
        "outputId": "8ea5bd10-ccd6-400e-ac77-9dabfdcb32ad"
      },
      "execution_count": 134,
      "outputs": [
        {
          "output_type": "stream",
          "name": "stdout",
          "text": [
            "54\n"
          ]
        }
      ]
    },
    {
      "cell_type": "code",
      "source": [
        "# Use the __format__ method to format the string 'hello' with a width of 10 characters and right-align it\n",
        "formatted_string = 'hello'.__format__('>100')\n",
        "\n",
        "# Print the formatted string to the console\n",
        "print(formatted_string)\n"
      ],
      "metadata": {
        "colab": {
          "base_uri": "https://localhost:8080/"
        },
        "id": "TWNMsCjxtyrt",
        "outputId": "ae270eb8-62cc-40c5-cbdf-16bfdb463364"
      },
      "execution_count": 136,
      "outputs": [
        {
          "output_type": "stream",
          "name": "stdout",
          "text": [
            "                                                                                               hello\n"
          ]
        }
      ]
    },
    {
      "cell_type": "code",
      "source": [
        "# Use the __dir__ method to retrieve a list of attributes and methods associated with the string 'hello'\n",
        "attributes_and_methods = '1Suresh beekhani'.__dir__()\n",
        "\n",
        "# Print the list to the console\n",
        "print(attributes_and_methods)\n"
      ],
      "metadata": {
        "colab": {
          "base_uri": "https://localhost:8080/"
        },
        "id": "SFOkJE5RuC8x",
        "outputId": "cca49e93-678a-4892-ac4b-7df2820d1fac"
      },
      "execution_count": 140,
      "outputs": [
        {
          "output_type": "stream",
          "name": "stdout",
          "text": [
            "['__new__', '__repr__', '__hash__', '__str__', '__getattribute__', '__lt__', '__le__', '__eq__', '__ne__', '__gt__', '__ge__', '__iter__', '__mod__', '__rmod__', '__len__', '__getitem__', '__add__', '__mul__', '__rmul__', '__contains__', 'encode', 'replace', 'split', 'rsplit', 'join', 'capitalize', 'casefold', 'title', 'center', 'count', 'expandtabs', 'find', 'partition', 'index', 'ljust', 'lower', 'lstrip', 'rfind', 'rindex', 'rjust', 'rstrip', 'rpartition', 'splitlines', 'strip', 'swapcase', 'translate', 'upper', 'startswith', 'endswith', 'removeprefix', 'removesuffix', 'isascii', 'islower', 'isupper', 'istitle', 'isspace', 'isdecimal', 'isdigit', 'isnumeric', 'isalpha', 'isalnum', 'isidentifier', 'isprintable', 'zfill', 'format', 'format_map', '__format__', 'maketrans', '__sizeof__', '__getnewargs__', '__doc__', '__setattr__', '__delattr__', '__init__', '__reduce_ex__', '__reduce__', '__subclasshook__', '__init_subclass__', '__dir__', '__class__']\n"
          ]
        }
      ]
    },
    {
      "cell_type": "code",
      "source": [],
      "metadata": {
        "id": "DR4K5Vb4u-el"
      },
      "execution_count": null,
      "outputs": []
    },
    {
      "cell_type": "code",
      "source": [
        "# Use the __getattribute__ method to access the 'capitalize' method of the Space estring 'hello' and execute it\n",
        "capitalized_string = 'hello suresh beekhani '.__getattribute__('capitalize')()\n",
        "\n",
        "# Print the result to the console\n",
        "print(capitalized_string)\n"
      ],
      "metadata": {
        "colab": {
          "base_uri": "https://localhost:8080/"
        },
        "id": "FSAqiTWUu-KG",
        "outputId": "9e8629b5-f5a3-4868-90fc-a10f4cca8870"
      },
      "execution_count": 141,
      "outputs": [
        {
          "output_type": "stream",
          "name": "stdout",
          "text": [
            "Hello suresh beekhani \n"
          ]
        }
      ]
    },
    {
      "cell_type": "code",
      "source": [
        "# Use the __getitem__ method to get the character at index 1 in the string 'hello'\n",
        "character_at_index_1 = 'hello'.__getitem__(1)\n",
        "character_at_index_2 = 'hello'.__getitem__(3)\n",
        "# Print the result to the console\n",
        "print(character_at_index_1)\n",
        "print(character_at_index_2)\n"
      ],
      "metadata": {
        "colab": {
          "base_uri": "https://localhost:8080/"
        },
        "id": "5A_lF7b9vWXj",
        "outputId": "847f6005-2195-43bb-f68d-865eaedc6b8a"
      },
      "execution_count": 143,
      "outputs": [
        {
          "output_type": "stream",
          "name": "stdout",
          "text": [
            "e\n",
            "l\n"
          ]
        }
      ]
    },
    {
      "cell_type": "code",
      "source": [
        "# Use the __getnewargs__ method to get arguments for object reconstruction for the string 'hello'\n",
        "new_args = 'hello'.__getnewargs__()\n",
        "\n",
        "# Print the result to the console\n",
        "print(new_args)\n"
      ],
      "metadata": {
        "colab": {
          "base_uri": "https://localhost:8080/"
        },
        "id": "NNq38Ts7wAHr",
        "outputId": "f9a4fe1f-6f62-4882-9db6-d286ca47b371"
      },
      "execution_count": 144,
      "outputs": [
        {
          "output_type": "stream",
          "name": "stdout",
          "text": [
            "('hello',)\n"
          ]
        }
      ]
    },
    {
      "cell_type": "code",
      "source": [
        "# Use the __class__ attribute to get the class of the string 'hello'\n",
        "class_of_string = 'hello'.__class__\n",
        "\n",
        "# Print the result to the console\n",
        "print(class_of_string)\n"
      ],
      "metadata": {
        "colab": {
          "base_uri": "https://localhost:8080/"
        },
        "id": "m9B1jd3awOZG",
        "outputId": "46d8d543-76e7-449d-87e1-652c17b24df4"
      },
      "execution_count": 145,
      "outputs": [
        {
          "output_type": "stream",
          "name": "stdout",
          "text": [
            "<class 'str'>\n"
          ]
        }
      ]
    },
    {
      "cell_type": "code",
      "source": [
        "# Create a new string using the str() constructor\n",
        "new_string = str()\n",
        "\n",
        "# Initialize the string 'hello' (implicitly) using the __init__ method\n",
        "new_string.__init__('hello')\n",
        "\n",
        "# Print the result to the console\n",
        "print(new_string)\n"
      ],
      "metadata": {
        "colab": {
          "base_uri": "https://localhost:8080/"
        },
        "id": "_bKzqISywcoK",
        "outputId": "32edf8e9-7fed-4c26-85ac-a7d173514b7e"
      },
      "execution_count": 146,
      "outputs": [
        {
          "output_type": "stream",
          "name": "stdout",
          "text": [
            "\n"
          ]
        }
      ]
    },
    {
      "cell_type": "code",
      "source": [
        "# Use the __new__ method to create a new string object with the content 'hello'\n",
        "new_string = str.__new__(str, 'hello')\n",
        "\n",
        "# Print the result to the console\n",
        "print(new_string)\n"
      ],
      "metadata": {
        "colab": {
          "base_uri": "https://localhost:8080/"
        },
        "id": "T58A7OUjwrGZ",
        "outputId": "fd972c65-0c7e-4996-9b43-3b35bd35d8ed"
      },
      "execution_count": 147,
      "outputs": [
        {
          "output_type": "stream",
          "name": "stdout",
          "text": [
            "hello\n"
          ]
        }
      ]
    },
    {
      "cell_type": "code",
      "source": [
        "# Use the __repr__ method to get a string representation of the object 'hello'\n",
        "string_representation = 'hello'.__repr__()\n",
        "\n",
        "# Print the result to the console\n",
        "print(string_representation)\n"
      ],
      "metadata": {
        "colab": {
          "base_uri": "https://localhost:8080/"
        },
        "id": "hV3rDQgFw40Q",
        "outputId": "b0848378-bee4-481e-8cc6-df8305513d31"
      },
      "execution_count": 150,
      "outputs": [
        {
          "output_type": "stream",
          "name": "stdout",
          "text": [
            "'hello'\n"
          ]
        }
      ]
    },
    {
      "cell_type": "code",
      "source": [],
      "metadata": {
        "id": "SiNneNxdw4lY"
      },
      "execution_count": null,
      "outputs": []
    }
  ],
  "metadata": {
    "colab": {
      "provenance": [],
      "name": "Python_built_in_string _Methed",
      "toc_visible": true
    },
    "kernelspec": {
      "display_name": "Python 3",
      "name": "python3"
    }
  },
  "nbformat": 4,
  "nbformat_minor": 0
}