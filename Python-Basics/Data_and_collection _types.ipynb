{
 "cells": [
  {
   "cell_type": "markdown",
   "id": "c8968c05",
   "metadata": {},
   "source": [
    "####  **Python Data Types for Beginners**\n",
    "\n",
    "In Python, **every piece of data is an object**. Understanding Python's built-in data types is fundamental for writing efficient, readable, and bug-free programs.\n",
    "\n",
    "This notebook will introduce you to Python's core data types and show you best practices on how to work with them.\n",
    "\n",
    "---\n",
    "\n",
    "#### **1. Numeric Types**\n",
    "\n",
    "Python has three main numeric data types:\n",
    "\n",
    "1. **Integer (`int`)** – Whole numbers  \n",
    "   *Examples:* `8`, `1`, `-5`, `999`\n",
    "\n",
    "2. **Float (`float`)** – Numbers with decimal points or in exponential form  \n",
    "   *Examples:* `3.14`, `2.703`, `1.2e3`\n"
   ]
  },
  {
   "cell_type": "markdown",
   "id": "00bb0c93",
   "metadata": {},
   "source": [
    "### **1.1 Integers**\n",
    "\n",
    "- **Definition:** Integers are whole numbers without a fractional component.  \n",
    "- **Examples:** `-18`, `0`, `17`\n"
   ]
  },
  {
   "cell_type": "code",
   "execution_count": 7,
   "id": "a0f100e8",
   "metadata": {},
   "outputs": [
    {
     "name": "stdout",
     "output_type": "stream",
     "text": [
      "num1: -18 type: <class 'int'>\n",
      "num2: 0 type: <class 'int'>\n",
      "num3: 17 type: <class 'int'>\n"
     ]
    }
   ],
   "source": [
    "# Assigning integer values to variables\n",
    "num1 = -18\n",
    "num2 = 0\n",
    "num3 = 17\n",
    "\n",
    "# Printing the value and type of each variable\n",
    "print(\"num1:\", num1, \"type:\", type(num1))\n",
    "print(\"num2:\", num2, \"type:\", type(num2))\n",
    "print(\"num3:\", num3, \"type:\", type(num3))\n"
   ]
  },
  {
   "cell_type": "markdown",
   "id": "2093160a",
   "metadata": {},
   "source": [
    "#### **🧠 Best Practices for Working with Numbers**\n",
    "\n",
    "1. **Use descriptive variable names**  \n",
    "   Instead of using vague names like `x`, `y`, or `temp`, use meaningful names such as `count`, `user_age`, or `total_price` to make your code easier to read and maintain.\n",
    "\n",
    "2. **Handle potential overflow**  \n",
    "   In many languages, integer values are limited by a maximum size.  \n",
    "   In Python, however, integers are of **unlimited size** (limited only by available memory), so overflow is rarely an issue. Still, it’s good to be aware of this if you're working with very large numbers or interoperating with other languages.\n",
    "\n",
    "3. **Avoid ambiguous naming**  \n",
    "   Don’t use variable names that can be confused with numbers.  \n",
    "   For example:\n",
    "   - `O` (capital o) vs. `0` (zero)\n",
    "   - `l` (lowercase L) vs. `1` (one)\n",
    "   - `I` (capital i) vs. `1`\n",
    "\n",
    "---"
   ]
  },
  {
   "cell_type": "markdown",
   "id": "fb9519e0",
   "metadata": {},
   "source": [
    "#### **1.2 Floats**\n",
    "\n",
    "- **Definition:** Floats (floating-point numbers) represent real numbers that include a fractional component.  \n",
    "- **Examples:** `3.14150`, `8.001`, `1.12`, `150.8`"
   ]
  },
  {
   "cell_type": "code",
   "execution_count": 8,
   "id": "f050aa16",
   "metadata": {},
   "outputs": [
    {
     "name": "stdout",
     "output_type": "stream",
     "text": [
      "pi: 3.14159 type: <class 'float'>\n",
      "samill_float: -0.0001 type: <class 'float'>\n",
      "exp_flot: 150.0 type: <class 'float'>\n"
     ]
    }
   ],
   "source": [
    "# Defining a float variable for the value of pi\n",
    "pi = 3.14159\n",
    "\n",
    "# Defining a small negative float value\n",
    "samill_float = -0.0001\n",
    "\n",
    "# Defining a float using exponential notation (1.5 × 10^2 = 150.0)\n",
    "exp_flot = 1.5e2\n",
    "\n",
    "# Printing the value and type of each float variable\n",
    "print(\"pi:\", pi, \"type:\", type(pi))\n",
    "print(\"samill_float:\", samill_float, \"type:\", type(samill_float))\n",
    "print(\"exp_flot:\", exp_flot, \"type:\", type(exp_flot))\n"
   ]
  },
  {
   "cell_type": "markdown",
   "id": "20a1fb3f",
   "metadata": {},
   "source": [
    "#### **Strings in Python**\n",
    "\n",
    "1.3 **string** represents a sequence of characters enclosed in either single (`'`) or double (`\"`) quotes. \n",
    "\n",
    "#### **Key Points:**\n",
    "- Strings can contain letters, numbers, symbols, and spaces.\n",
    "- **Numbers enclosed in quotes** are treated as strings, not as numerical values.\n",
    "\n"
   ]
  },
  {
   "cell_type": "code",
   "execution_count": 9,
   "id": "2428cb15",
   "metadata": {},
   "outputs": [
    {
     "name": "stdout",
     "output_type": "stream",
     "text": [
      "hello type: <class 'str'>\n",
      "python type: <class 'str'>\n",
      "This is a \n",
      "multi-line string. \n",
      "type: <class 'str'>\n",
      "123 type: <class 'str'>\n"
     ]
    }
   ],
   "source": [
    "# Using single quotes to define a string\n",
    "string_single = 'hello'\n",
    "\n",
    "# Using double quotes to define a string (functionally the same as single quotes)\n",
    "string_double = \"python\"\n",
    "\n",
    "# Using triple quotes to define a multi-line string (can span multiple lines)\n",
    "string_triple = \"\"\"This is a \n",
    "multi-line string.\"\"\"\n",
    "\n",
    "# A string that looks like a number (still treated as a string, not an integer)\n",
    "string_number = \"123\"\n",
    "\n",
    "# Print each string and its type to show that they are all of type 'str'\n",
    "print(string_single, \"type:\", type(string_single))\n",
    "print(string_double, \"type:\", type(string_double))\n",
    "print(string_triple, \"\\ntype:\", type(string_triple))  # '\\n' adds a line break before showing the type\n",
    "print(string_number, \"type:\", type(string_number))\n"
   ]
  },
  {
   "cell_type": "code",
   "execution_count": 10,
   "id": "bdfcf542",
   "metadata": {},
   "outputs": [
    {
     "name": "stdout",
     "output_type": "stream",
     "text": [
      "Full name: John Doe\n",
      "Repeated string: hellohellohello\n",
      "First character: John\n",
      "Last character:  Doe\n"
     ]
    }
   ],
   "source": [
    "# String concatenation\n",
    "first_name = \"John\"\n",
    "last_name = \"Doe\"\n",
    "full_name = first_name + \" \" + last_name  # Concatenating strings using the '+' operator\n",
    "\n",
    "# String repetition\n",
    "repeat_string = \"hello\" * 3  # Repeating a string using the '*' operator\n",
    "\n",
    "# Indexing and slicing\n",
    "first_char = full_name[0:4]  # Accessing the first character of the string\n",
    "last_char = full_name[4:]  # Accessing the last character of the string\n",
    "\n",
    "# Printing results\n",
    "print(\"Full name:\", full_name)\n",
    "print(\"Repeated string:\", repeat_string)\n",
    "print(\"First character:\", first_char)\n",
    "print(\"Last character:\", last_char)\n"
   ]
  },
  {
   "cell_type": "markdown",
   "id": "f58b9d45",
   "metadata": {},
   "source": [
    "#### **Boolean Type**\n",
    "Definition: Booleans are True or False values.\n",
    "Typically used in condition checks, loops, or logical evaluations.\n",
    "\n"
   ]
  },
  {
   "cell_type": "code",
   "execution_count": 11,
   "id": "7d887ebe",
   "metadata": {},
   "outputs": [
    {
     "name": "stdout",
     "output_type": "stream",
     "text": [
      "Likes coffee: True <class 'bool'>\n",
      "Is student: False <class 'bool'>\n"
     ]
    }
   ],
   "source": [
    "# Boolean Type\n",
    "# Definition: Booleans are True or False values.\n",
    "# Typically used in condition checks, loops, or logical evaluations.\n",
    "\n",
    "likes_coffee = True  # Boolean value indicating a preference\n",
    "is_student = False   # Boolean value indicating a status\n",
    "\n",
    "# Display the values and their types\n",
    "print(\"Likes coffee:\", likes_coffee, type(likes_coffee))\n",
    "print(\"Is student:\", is_student, type(is_student))\n"
   ]
  },
  {
   "cell_type": "markdown",
   "id": "6269c07a",
   "metadata": {},
   "source": [
    "#### ✅ Best Practices for Using Boolean Types in Python\n",
    "\n",
    "1. **Use Descriptive Names**  \n",
    "   Instead of using vague names like `flag` or `status`, use clear, action-oriented names that describe what the boolean represents.\n"
   ]
  },
  {
   "cell_type": "code",
   "execution_count": 12,
   "id": "e022abdf",
   "metadata": {},
   "outputs": [
    {
     "name": "stdout",
     "output_type": "stream",
     "text": [
      "User is active.\n"
     ]
    }
   ],
   "source": [
    "is_active = True\n",
    "if is_active == True:\n",
    "    print(\"User is active.\")\n",
    "else:\n",
    "    print(\"User is not active.\")"
   ]
  },
  {
   "cell_type": "markdown",
   "id": "642fe02e",
   "metadata": {},
   "source": [
    "###  `NoneType`\n",
    "\n",
    "**Definition**  \n",
    "`NoneType` represents the absence of a value. In Python, `None` is often used as a placeholder for optional or missing data.\n",
    "\n",
    "---\n"
   ]
  },
  {
   "cell_type": "code",
   "execution_count": 13,
   "id": "18202175",
   "metadata": {},
   "outputs": [
    {
     "name": "stdout",
     "output_type": "stream",
     "text": [
      "dataType: None <class 'NoneType'>\n",
      "Nothing_here value is missing\n"
     ]
    }
   ],
   "source": [
    "# Assigning None to represent the absence of a value.\n",
    "# This is commonly used when a variable is intentionally left empty.\n",
    "Nothing_here = None\n",
    "\n",
    "# Printing the value of the variable and its data type.\n",
    "# This will show 'None' and <class 'NoneType'>\n",
    "print(\"dataType:\", Nothing_here, type(Nothing_here))\n",
    "\n",
    "# Proper way to check if a variable is None.\n",
    "# Using 'is None' is preferred over '== None' for identity comparison.\n",
    "if Nothing_here is None:\n",
    "    print(\"Nothing_here value is missing\")"
   ]
  },
  {
   "cell_type": "markdown",
   "id": "3f65aa5a",
   "metadata": {},
   "source": [
    "#### **5. Python Collections: Lists, Tuples, Dictionaries, and Sets**\n",
    "\n",
    "While primitive data types (like `int`, `float`, `bool`, and `str`) hold single values, Python’s built-in collections let you group multiple items in flexible ways. The four primary built-in collections are:\n",
    "\n",
    "1. **List** – An ordered, mutable collection.\n",
    "2. **Tuple** – An ordered, immutable sequence.\n",
    "3. **Dictionary** – An unordered set of key-value pairs.\n",
    "4. **Set** – An unordered collection of unique elements.\n",
    "\n",
    "Below, we'll explore each in depth with code examples and best practices.\n",
    "\n",
    "---"
   ]
  },
  {
   "cell_type": "markdown",
   "id": "65c80ef9",
   "metadata": {},
   "source": [
    "\n",
    "#### **5.1 List**\n",
    "\n",
    "### **Definition & Characteristics**\n",
    "\n",
    "1. A list is created using square brackets `[]` or the `list()` constructor.\n",
    "2. It is **ordered**: elements retain the order in which they were inserted.\n",
    "3. It is **mutable**: you can add, remove, or modify elements after creation.\n",
    "\n"
   ]
  },
  {
   "cell_type": "code",
   "execution_count": 14,
   "id": "34548679",
   "metadata": {},
   "outputs": [
    {
     "name": "stdout",
     "output_type": "stream",
     "text": [
      "List of integers: [1, 2, 3, 4, 5] <class 'list'>\n",
      "List of strings: ['apple', 'banana', 'cherry'] <class 'list'>\n",
      "List with mixed data types: [1, 'apple', 3.14, True] <class 'list'>\n",
      "Empty list: [] <class 'list'>\n",
      "First element: 1\n",
      "Second element: banana\n"
     ]
    }
   ],
   "source": [
    "#create list diffenet wayes \n",
    "list_integers = [1, 2, 3, 4, 5]  # List of integers\n",
    "list_strings = [\"apple\", \"banana\", \"cherry\"]  # List of strings\n",
    "list_mixed = [1, \"apple\", 3.14, True]  # List with mixed data types\n",
    "list_empty = []  # Empty list\n",
    "\n",
    "print(\"List of integers:\", list_integers, type(list_integers))\n",
    "print(\"List of strings:\", list_strings, type(list_strings))\n",
    "print(\"List with mixed data types:\", list_mixed, type(list_mixed))\n",
    "print(\"Empty list:\", list_empty, type(list_empty))\n",
    "\n",
    "\n",
    "## access list elements sed slice indexing\n",
    "# Accessing elements using indexing\n",
    "first_element = list_integers[0]  # First element (index 0)\n",
    "print(\"First element:\", first_element)\n",
    "second_element = list_strings[1]  # Second element (index 1)\n",
    "print(\"Second element:\", second_element)"
   ]
  },
  {
   "cell_type": "markdown",
   "id": "6612201d",
   "metadata": {},
   "source": [
    "#### Adding, Removing, and Modifying Elements in a List\n",
    "\n",
    "Python lists are mutable, which means you can change their contents after creation. This includes adding new elements, modifying existing ones, and removing items."
   ]
  },
  {
   "cell_type": "code",
   "execution_count": 15,
   "id": "669e0697",
   "metadata": {},
   "outputs": [
    {
     "name": "stdout",
     "output_type": "stream",
     "text": [
      "List after appending 6: [1, 6, 2, 3, 4, 5, 6]\n",
      "List after removing 6: [1, 2, 3, 4, 5, 6]\n",
      "Popped element: 1\n",
      "List after popping the first element: [2, 3, 4, 5, 6]\n",
      "List after replacing the first element with 100: [100, 3, 4, 5, 6]\n"
     ]
    }
   ],
   "source": [
    "## add number in list list_integers\n",
    "list_integers.append(6)  # Adding an element to the end of the list\n",
    "list_integers.insert(1, 6)  # Inserting an element at localtion 1\n",
    "print(\"List after appending 6:\", list_integers)\n",
    "\n",
    "## remevd number in list list_integers\n",
    "list_integers.remove(6)  # Removing the first occurrence of 6 from the list\n",
    "print(\"List after removing 6:\", list_integers)\n",
    "## used pop \n",
    "popped_element = list_integers.pop(0)  # Removing the first element (index 0) from the list\n",
    "print(\"Popped element:\", popped_element)\n",
    "print(\"List after popping the first element:\", list_integers)\n",
    "\n",
    "## replace value \n",
    "list_integers[0] = 100  # Replacing the first element with 100\n",
    "print(\"List after replacing the first element with 100:\", list_integers)"
   ]
  },
  {
   "cell_type": "markdown",
   "id": "d50cdf59",
   "metadata": {},
   "source": [
    "### **5.2 Tuple**\n",
    "\n",
    "#### **Definition & Characteristics**\n",
    "\n",
    "1. A tuple is created using parentheses `()` or the `tuple()` constructor.\n",
    "2. It is ordered, similar to a list.\n",
    "3. It is **immutable**: You cannot add, remove, or change elements once defined."
   ]
  },
  {
   "cell_type": "code",
   "execution_count": 16,
   "id": "81f74a27",
   "metadata": {},
   "outputs": [
    {
     "name": "stdout",
     "output_type": "stream",
     "text": [
      "empty tuple: ()\n",
      "single element tuple: (42,)\n",
      "Numbers tuple: (10, 20, 30)\n",
      "Mixed tuple: ('Alice', 'B', True)\n",
      "10\n"
     ]
    }
   ],
   "source": [
    "# Creating tuples\n",
    "empty_tuple = ()\n",
    "single_element_tuple = (42,)\n",
    "numbers_tuple = (10, 20, 30)\n",
    "mixed_tuple = (\"Alice\", \"B\", True)\n",
    "\n",
    "# Printing tuples\n",
    "print(\"empty tuple:\", empty_tuple)\n",
    "print(\"single element tuple:\", single_element_tuple)\n",
    "print(\"Numbers tuple:\", numbers_tuple)\n",
    "print(\"Mixed tuple:\", mixed_tuple)\n",
    "\n",
    "## accesing tuple elements used slicin\n",
    "numbers_tuple=numbers_tuple[0]\n",
    "print(numbers_tuple)\n"
   ]
  },
  {
   "cell_type": "markdown",
   "id": "d221003a",
   "metadata": {},
   "source": [
    "#### immutable"
   ]
  },
  {
   "cell_type": "code",
   "execution_count": 17,
   "id": "21f774d3",
   "metadata": {},
   "outputs": [
    {
     "name": "stdout",
     "output_type": "stream",
     "text": [
      "Error: 'int' object does not support item assignment\n"
     ]
    }
   ],
   "source": [
    "try:\n",
    "\n",
    "    numbers_tuple[0] = 20  # Modifying the tuple (will raise an error)\n",
    "    \n",
    "except TypeError as e:\n",
    "    print(\"Error:\", e)\n"
   ]
  },
  {
   "cell_type": "code",
   "execution_count": 18,
   "id": "f86c677b",
   "metadata": {},
   "outputs": [
    {
     "name": "stdout",
     "output_type": "stream",
     "text": [
      "Name: Bob\n",
      "Age: 30\n",
      "Job: Engineer\n"
     ]
    }
   ],
   "source": [
    "# Creating a tuple\n",
    "person_tuple = (\"Bob\", 30, \"Engineer\")\n",
    "\n",
    "# Unpacking the tuple into separate variables\n",
    "name, age, job = person_tuple\n",
    "\n",
    "# Accessing the unpacked variables\n",
    "print(\"Name:\", name)\n",
    "print(\"Age:\", age)\n",
    "print(\"Job:\", job)"
   ]
  },
  {
   "cell_type": "code",
   "execution_count": 19,
   "id": "e5f8be23",
   "metadata": {},
   "outputs": [],
   "source": [
    "# Best Practices for Tuples:\n",
    "# 1. Use tuples for fixed collections of items that don't change, like coordinates or constant data.\n",
    "# 2. Leverage tuple unpacking to write cleaner code when returning multiple values from a function.\n",
    "# 3. Don't modify tuples. If you need to frequently alter the collection, consider using a list instead.\n"
   ]
  },
  {
   "cell_type": "markdown",
   "id": "f3afe6d0",
   "metadata": {},
   "source": [
    "#### **🧠 Dictionary: Definition & Characteristics**\n",
    "\n",
    "- Created using curly braces `{}` or the `dict()` constructor with key-value pairs.\n",
    "- Ordered as of Python 3.7+ (insertion order is maintained).\n",
    "- Keys must be **unique** and **immutable** (e.g., strings, numbers, tuples).\n",
    "- Values can be **anything** — mutable or immutable.\n",
    "- **Dictionaries are mutable**: You can add, remove, or change key-value pairs.\n"
   ]
  },
  {
   "cell_type": "code",
   "execution_count": 20,
   "id": "aa5c88f8",
   "metadata": {},
   "outputs": [
    {
     "name": "stdout",
     "output_type": "stream",
     "text": [
      "Person dict: {'name': 'Alice', 'age': 30}\n",
      "Another dict: {'city': 'London', 'country': 'UK'}\n",
      "Name: Alice\n",
      "Age: 30\n"
     ]
    }
   ],
   "source": [
    "# Creating dictionaries\n",
    "person_dict = {\"name\": \"Alice\", \"age\": 30}\n",
    "another_dict = dict(city=\"London\", country=\"UK\")\n",
    "\n",
    "print(\"Person dict:\", person_dict)\n",
    "print(\"Another dict:\", another_dict)\n",
    "\n",
    "# Accessing values by key\n",
    "print(\"Name:\", person_dict[\"name\"])\n",
    "print(\"Age:\", person_dict.get(\"age\"))  # .get() is safer; returns None if key isn’t found\n"
   ]
  },
  {
   "cell_type": "markdown",
   "id": "2c2bee48",
   "metadata": {},
   "source": [
    "#### 🔄 Adding, Updating, and Removing Keys in a Dictionary"
   ]
  },
  {
   "cell_type": "code",
   "execution_count": 21,
   "id": "04d76f81",
   "metadata": {},
   "outputs": [
    {
     "name": "stdout",
     "output_type": "stream",
     "text": [
      "Removed age: 30\n",
      "Person dict after removing age: {'name': 'Alice'}\n"
     ]
    }
   ],
   "source": [
    "removed_value = person_dict.pop(\"age\")  # Removes 'age' and returns its value\n",
    "print(\"Removed age:\", removed_value)\n",
    "print(\"Person dict after removing age:\", person_dict)"
   ]
  },
  {
   "cell_type": "code",
   "execution_count": 22,
   "id": "d377d837",
   "metadata": {},
   "outputs": [
    {
     "name": "stdout",
     "output_type": "stream",
     "text": [
      "Name key is present.\n"
     ]
    }
   ],
   "source": [
    "if \"name\" in person_dict:\n",
    "    print(\"Name key is present.\")\n"
   ]
  },
  {
   "cell_type": "code",
   "execution_count": 23,
   "id": "926abe89",
   "metadata": {},
   "outputs": [
    {
     "name": "stdout",
     "output_type": "stream",
     "text": [
      "Keys: dict_keys(['name'])\n",
      "Values: dict_values(['Alice'])\n",
      "Items: dict_items([('name', 'Alice')])\n"
     ]
    }
   ],
   "source": [
    "print(\"Keys:\", person_dict.keys())\n",
    "print(\"Values:\", person_dict.values())\n",
    "print(\"Items:\", person_dict.items())\n"
   ]
  },
  {
   "cell_type": "markdown",
   "id": "f55e144f",
   "metadata": {},
   "source": [
    "#### **✅ Best Practices for Using Dictionaries**\n",
    "\n",
    "1. Use dictionaries when you need fast lookups by key.\n",
    "2. Keys should be **immutable** and **descriptive** (e.g., strings that convey meaning).\n",
    "3. Use `.get()` or `.setdefault()` to avoid `KeyError` when a key might not exist.\n",
    "4. Dictionaries are great for **configuration data**, or **bundling related data attributes** without creating a custom class.\n"
   ]
  },
  {
   "cell_type": "markdown",
   "id": "cef368ca",
   "metadata": {},
   "source": [
    "#### 🔢 5.4 Set\n",
    "\n",
    "### 🧠 Definition & Characteristics\n",
    "\n",
    "1. A set is created using curly braces `{}` or the `set()` constructor.\n",
    "2. It is **unordered** and does **not allow duplicate elements**.\n",
    "3. It is **mutable**: You can add or remove elements.\n",
    "\n",
    "---\n"
   ]
  },
  {
   "cell_type": "code",
   "execution_count": 24,
   "id": "838038e1",
   "metadata": {},
   "outputs": [
    {
     "name": "stdout",
     "output_type": "stream",
     "text": [
      "Empty set: set()\n",
      "Numbers set: {1, 2, 3}\n",
      "Mixed set: {42, (1, 2), 'apple'}\n"
     ]
    }
   ],
   "source": [
    "\n",
    "# Creating sets\n",
    "empty_set = set()\n",
    "\n",
    "numbers_set = {1, 2, 3, 2}  # Duplicates are removed automatically\n",
    "\n",
    "mixed_set = {\"apple\", 42, (1, 2)}  # You can store immutable types like tuples\n",
    "\n",
    "# Printing sets\n",
    "print(\"Empty set:\", empty_set)\n",
    "print(\"Numbers set:\", numbers_set)\n",
    "print(\"Mixed set:\", mixed_set)"
   ]
  },
  {
   "cell_type": "markdown",
   "id": "43fc068f",
   "metadata": {},
   "source": [
    "#### adding and remved elements "
   ]
  },
  {
   "cell_type": "code",
   "execution_count": 25,
   "id": "2e148a0c",
   "metadata": {},
   "outputs": [
    {
     "name": "stdout",
     "output_type": "stream",
     "text": [
      "Updated set: {1, 3, 4}\n"
     ]
    }
   ],
   "source": [
    "\n",
    "\n",
    "# Add an element\n",
    "numbers_set.add(4)  # Adds 4 to the set\n",
    "\n",
    "# Discard an element safely\n",
    "numbers_set.discard(2)  # Removes 2 if it exists; no error if it doesn't\n",
    "\n",
    "# Remove an element (will raise KeyError if 2 doesn't exist)\n",
    "# numbers_set.remove(2)  # Uncomment to use; careful if the item might be missing\n",
    "\n",
    "print(\"Updated set:\", numbers_set)"
   ]
  },
  {
   "cell_type": "markdown",
   "id": "143d5c00",
   "metadata": {},
   "source": [
    "#### 🔗 Set Operations\n",
    "\n",
    "Sets support mathematical operations like union, intersection, difference, and symmetric difference."
   ]
  },
  {
   "cell_type": "code",
   "execution_count": 26,
   "id": "4ff51f71",
   "metadata": {},
   "outputs": [
    {
     "name": "stdout",
     "output_type": "stream",
     "text": [
      "Union: {1, 2, 3, 4, 5}\n",
      "Intersection: {3}\n",
      "Difference: {1, 2}\n",
      "Symmetric Difference: {1, 2, 4, 5}\n"
     ]
    }
   ],
   "source": [
    "# Set operations\n",
    "\n",
    "set_a = {1, 2, 3}\n",
    "set_b = {3, 4, 5}\n",
    "\n",
    "# Union: All elements from both sets\n",
    "print(\"Union:\", set_a.union(set_b))           # or set_a | set_b\n",
    "\n",
    "# Intersection: Elements common to both\n",
    "print(\"Intersection:\", set_a.intersection(set_b))  # or set_a & set_b\n",
    "\n",
    "# Difference: Elements in set_a but not in set_b\n",
    "print(\"Difference:\", set_a.difference(set_b))      # or set_a - set_b\n",
    "\n",
    "# Symmetric Difference: Elements in either set_a or set_b, but not both\n",
    "print(\"Symmetric Difference:\", set_a.symmetric_difference(set_b))  # or set_a ^ set_b\n"
   ]
  },
  {
   "cell_type": "markdown",
   "id": "273b7fe7",
   "metadata": {},
   "source": [
    "#### ✅ Best Practices for Sets\n",
    "\n",
    "- Use sets when you need to efficiently test for membership (using `in`) or remove duplicates.\n",
    "- Avoid storing **mutable items** (like lists or dictionaries) in a set — set elements must be **hashable** (i.e., immutable).\n",
    "- Use **set operations** to write cleaner and more efficient code when handling membership, uniqueness, or overlaps.\n"
   ]
  }
 ],
 "metadata": {
  "kernelspec": {
   "display_name": "Python 3",
   "language": "python",
   "name": "python3"
  },
  "language_info": {
   "codemirror_mode": {
    "name": "ipython",
    "version": 3
   },
   "file_extension": ".py",
   "mimetype": "text/x-python",
   "name": "python",
   "nbconvert_exporter": "python",
   "pygments_lexer": "ipython3",
   "version": "3.10.16"
  }
 },
 "nbformat": 4,
 "nbformat_minor": 5
}
