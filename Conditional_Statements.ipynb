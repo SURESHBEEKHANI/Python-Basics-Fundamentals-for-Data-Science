{
  "cells": [
    {
      "cell_type": "markdown",
      "metadata": {
        "id": "5nApf0HyU1f1"
      },
      "source": [
        "#### **Conditional Statements in Python**\n",
        "\n",
        "#### **Topics Covered**\n",
        "1. Understanding Conditions in Programming - Why we need conditions?\n",
        "2. Real-World Analogy-Explaining conditions using a relatable analogy.\n",
        "3. Conditional Statements in Python - `if`, `else`, `elif`\n",
        "4. Using Logical Operators with Conditions (`and`, `or`, `not`)\n",
        "5. Nested Conditions-Handling multiple levels of decisions.\n",
        "6. Practice Exercises - Beginner, Intermediate, and Advanced Problems\n",
        "\n",
        "#### **Why Do We Need Conditions in Programming?**\n",
        "In real life, we make decisions all the time based on certain conditions:\n",
        "- If it rains, we take an umbrella.\n",
        "- If we are hungry, we eat food.\n",
        "- If the battery is low, we charge the phone.\n",
        "\n",
        "Computers also need to make decisions when running a program. This is where conditional statements help.\n"
      ]
    },
    {
      "cell_type": "markdown",
      "metadata": {},
      "source": [
        "#### **Real-World Analogy: Traffic Signals and Programming Conditions**\n",
        "\n",
        "Imagine you're driving a car and encounter a traffic signal:\n",
        "\n",
        "1. **Green Light**: In programming, a green light is analogous to a condition being true or a certain criterion being met. It allows the code to proceed and execute the associated actions.\n",
        "\n",
        "2. **Red Light**: Similar to a red light in traffic, a programming condition being false or not met halts the execution. The code stops or skips over the corresponding actions.\n",
        "\n",
        "3. **Yellow Light**: A yellow light signifies caution in traffic. In programming, encountering a yellow light might mean a conditional check is nearing a change or needs attention. It prompts the code to slow down or prepare for a different course of action.\n",
        "\n",
        "Just like traffic signals manage the flow of vehicles based on specific conditions, programming conditions direct how code executes based on predefined rules and criteria.\n"
      ]
    },
    {
      "cell_type": "markdown",
      "metadata": {},
      "source": [
        "#### **🔎 Important Note: How `if-elif-else` Evaluates Conditions**\n",
        "\n",
        "Python's `if-elif-else` structure works by evaluating conditions **one by one in sequence**. Each condition must ultimately resolve to either `True` or `False`.\n",
        "\n",
        "- ✅ If a condition is `True`, Python executes **that block** and **skips the rest**.\n",
        "- ❌ If **all conditions are `False`**, the `else` block executes (if it's present).\n",
        "- ⚠️ **Only one** condition block is executed in an `if-elif-else` chain — even if multiple conditions could be `True`.\n",
        "\n",
        "This ensures a clear, logical flow of decision-making in your code.\n"
      ]
    },
    {
      "cell_type": "code",
      "execution_count": 4,
      "metadata": {
        "id": "5qiNXXW9XqFH"
      },
      "outputs": [
        {
          "name": "stdout",
          "output_type": "stream",
          "text": [
            "🔴 Stop! The light is red.\n"
          ]
        }
      ],
      "source": [
        "# Define the current color of the traffic light\n",
        "traffic_light = \"Red\"  # This sets the traffic light color to Red\n",
        "\n",
        "# Decision-making based on the traffic light color\n",
        "if traffic_light == \"Green\":\n",
        "    # If the light is green, instruct to go\n",
        "    print(\"🟢 Go ahead! The light is green.\")\n",
        "elif traffic_light == \"Yellow\":\n",
        "    # If the light is yellow, advise caution\n",
        "    print(\"🟡 Caution! Slow down, the light is yellow.\")\n",
        "elif traffic_light == \"Red\":\n",
        "    # If the light is red, instruct to stop\n",
        "    print(\"🔴 Stop! The light is red.\")\n",
        "else:\n",
        "    # If the color is not recognized, show a warning\n",
        "    print(\"⚠️ Invalid traffic light color.\")\n"
      ]
    },
    {
      "cell_type": "markdown",
      "metadata": {},
      "source": [
        "#### **Using Logical Operators with `if` Statements in Python**\n",
        "\n",
        "Logical operators allow us to combine multiple conditions in decision-making:\n",
        "\n",
        "- `and`: Returns `True` **only if both** conditions are true.\n",
        "- `or`: Returns `True` **if at least one** condition is true.\n",
        "- `not`: Reverses a condition (i.e., `not True` becomes `False`).\n",
        "\n",
        "---"
      ]
    },
    {
      "cell_type": "code",
      "execution_count": 5,
      "metadata": {},
      "outputs": [
        {
          "name": "stdout",
          "output_type": "stream",
          "text": [
            "✋ Pedestrians should WAIT!\n"
          ]
        }
      ],
      "source": [
        "# Define the pedestrian signal status\n",
        "pedestrian_signal = \"Flashing\"  # Possible values: \"Walk\", \"Flashing\", \"Don't Walk\"\n",
        "\n",
        "# Check the condition using logical operators\n",
        "# If the signal is \"Walk\" and NOT \"Flashing\", it's safe to cross\n",
        "if pedestrian_signal == \"Walk\" and pedestrian_signal != \"Flashing\":\n",
        "    print(\"🚶 Pedestrians can CROSS safely!\")\n",
        "else:\n",
        "    # If the signal is \"Flashing\" or anything other than \"Walk\", pedestrians should wait\n",
        "    print(\"✋ Pedestrians should WAIT!\")\n"
      ]
    },
    {
      "cell_type": "code",
      "execution_count": 6,
      "metadata": {},
      "outputs": [
        {
          "name": "stdout",
          "output_type": "stream",
          "text": [
            "🚶 Pedestrians can CROSS safely!\n"
          ]
        }
      ],
      "source": [
        "# Define the pedestrian signal status\n",
        "pedestrian_signal = \"Walk\"  # Possible values: \"Walk\", \"Flashing\", \"Don't Walk\"\n",
        "\n",
        "# Check the condition using logical operators\n",
        "# If the signal is \"Walk\" and NOT \"Flashing\", it's safe to cross\n",
        "if pedestrian_signal == \"Walk\" and pedestrian_signal != \"Flashing\":\n",
        "    print(\"🚶 Pedestrians can CROSS safely!\")\n",
        "else:\n",
        "    # If the signal is \"Flashing\" or anything other than \"Walk\", pedestrians should wait\n",
        "    print(\"✋ Pedestrians should WAIT!\")\n"
      ]
    },
    {
      "cell_type": "code",
      "execution_count": 9,
      "metadata": {},
      "outputs": [
        {
          "name": "stdout",
          "output_type": "stream",
          "text": [
            "🚨 You can GO — Emergency vehicles are allowed to proceed on red.\n"
          ]
        }
      ],
      "source": [
        "# Define the traffic light color\n",
        "traffic_light = \"Green\"  # Try changing to \"Green\", \"Yellow\", or \"Red\"\n",
        "\n",
        "# Define the vehicle type\n",
        "vehicle_type = \"Ambulance\"  # Try values like \"Car\", \"Truck\", \"Ambulance\"\n",
        "\n",
        "# Check if the vehicle is allowed to go\n",
        "if traffic_light == \"Red\" or vehicle_type == \"Ambulance\":\n",
        "    # Emergency vehicles can go even if the light is red\n",
        "    print(\"🚨 You can GO — Emergency vehicles are allowed to proceed on red.\")\n",
        "elif traffic_light == \"Green\":\n",
        "    # All vehicles can go if the light is green\n",
        "    print(\"🟢 You can GO — The light is green.\")\n",
        "else:\n",
        "    # All other vehicles must stop on red or yellow\n",
        "    print(\"🛑 You must STOP — Wait for the green light.\")\n"
      ]
    },
    {
      "cell_type": "markdown",
      "metadata": {},
      "source": [
        "### **🚗 Nested Conditions for Traffic Rule Compliance**\n",
        "\n",
        "Sometimes decisions need to be made based on multiple levels of conditions. We can use **nested `if` statements** to check these multiple conditions.\n",
        "\n",
        "### ✅ Example: Checking Traffic Rules (Speed and Seatbelt)\n",
        "\n",
        "In this example, we'll check two conditions:\n",
        "1. Whether the driver is **within the speed limit**.\n",
        "2. Whether the driver is **wearing a seatbelt**.\n"
      ]
    },
    {
      "cell_type": "code",
      "execution_count": 7,
      "metadata": {},
      "outputs": [
        {
          "name": "stdout",
          "output_type": "stream",
          "text": [
            "🚫 Do NOT cross! Wait for the 'Walk' signal.\n"
          ]
        }
      ],
      "source": [
        "# Define the pedestrian signal status\n",
        "pedestrian_signal = \"Don't Walk\"  # Try values like \"Walk\", \"Flashing\", \"Don't Walk\"\n",
        "\n",
        "# Check if pedestrians should NOT cross\n",
        "if not pedestrian_signal == \"Walk\":\n",
        "    # If the signal is not \"Walk\", it's unsafe to cross\n",
        "    print(\"🚫 Do NOT cross! Wait for the 'Walk' signal.\")\n",
        "else:\n",
        "    # If the signal is exactly \"Walk\", they can cross safely\n",
        "    print(\"✅ You can cross safely.\")\n"
      ]
    },
    {
      "cell_type": "markdown",
      "metadata": {},
      "source": [
        "### **🚗 Nested Conditions for Traffic Rule Compliance**\n",
        "\n",
        "Sometimes decisions need to be made based on multiple levels of conditions. We can use **nested `if` statements** to check these multiple conditions.\n",
        "\n",
        "### **✅ Example: Checking Traffic Rules (Speed and Seatbelt)**\n",
        "\n",
        "In this example, we'll check two conditions:\n",
        "1. Whether the driver is **within the speed limit**.\n",
        "2. Whether the driver is **wearing a seatbelt**.\n"
      ]
    },
    {
      "cell_type": "code",
      "execution_count": 13,
      "metadata": {},
      "outputs": [
        {
          "name": "stdout",
          "output_type": "stream",
          "text": [
            "⚠️ Warning: Please wear your seatbelt.\n"
          ]
        }
      ],
      "source": [
        "# Define the speed of the car (in km/h)\n",
        "speed = 60  # Try changing this to values like 80 or 40\n",
        "\n",
        "# Define whether the driver is wearing a seatbelt\n",
        "seatbelt_on = False  # Change to False to test different behavior\n",
        "\n",
        "\n",
        "# Check if the driver is within the speed limit\n",
        "if speed <= 60:\n",
        "    # Now check if they are wearing a seatbelt\n",
        "    if seatbelt_on:\n",
        "        print(\"✅ You are driving safely!\")\n",
        "    else:\n",
        "        print(\"⚠️ Warning: Please wear your seatbelt.\")\n",
        "else:\n",
        "    # If speeding, no need to check seatbelt — it's already a violation\n",
        "    print(\"🚨 Slow down! You are exceeding the speed limit.\")\n"
      ]
    },
    {
      "cell_type": "code",
      "execution_count": 14,
      "metadata": {},
      "outputs": [
        {
          "name": "stdout",
          "output_type": "stream",
          "text": [
            "You can go, the road is clear.\n"
          ]
        }
      ],
      "source": [
        "# Traffic Light Control: Managing Traffic Flow at an Intersection\n",
        "\n",
        "# Define the traffic light color\n",
        "traffic_light = \"Green\"\n",
        "\n",
        "# Determine whether the road is clear\n",
        "road_clear = True\n",
        "\n",
        "# Check the traffic conditions\n",
        "if traffic_light == \"Green\":\n",
        "    # Nested condition: Check if the road is clear\n",
        "    if road_clear:\n",
        "        print(\"You can go, the road is clear.\")\n",
        "    else:\n",
        "        print(\"Wait! The road is not clear, even though the light is green.\")\n",
        "elif traffic_light == \"Yellow\":\n",
        "    print(\"Caution! Prepare to stop.\")\n",
        "elif traffic_light == \"Red\":\n",
        "    print(\"You must stop.\")\n",
        "else:\n",
        "    print(\"Invalid traffic light color.\")\n"
      ]
    }
  ],
  "metadata": {
    "colab": {
      "authorship_tag": "ABX9TyOU9hhePEFexg+MKKBLJ8Be",
      "include_colab_link": true,
      "private_outputs": true,
      "provenance": [],
      "toc_visible": true
    },
    "kernelspec": {
      "display_name": "Python 3",
      "name": "python3"
    },
    "language_info": {
      "codemirror_mode": {
        "name": "ipython",
        "version": 3
      },
      "file_extension": ".py",
      "mimetype": "text/x-python",
      "name": "python",
      "nbconvert_exporter": "python",
      "pygments_lexer": "ipython3",
      "version": "3.10.16"
    }
  },
  "nbformat": 4,
  "nbformat_minor": 0
}
