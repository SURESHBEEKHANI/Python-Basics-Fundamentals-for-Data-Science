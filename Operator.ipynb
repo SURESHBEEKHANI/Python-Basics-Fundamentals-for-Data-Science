{
  "cells": [
    {
      "cell_type": "markdown",
      "metadata": {
        "id": "VrjKcAVOCzn7"
      },
      "source": [
        "## **Python operators (also known as logic building in programming)**"
      ]
    },
    {
      "cell_type": "markdown",
      "metadata": {
        "id": "bDbtPVrJCBR6"
      },
      "source": [
        "Python, operators are special symbols, combinations of symbols, or keywords that designate some type of computation. You can combine objects and operators to build expressions that perform the actual computation. So, operators are the building blocks of expressions, which you can use to manipulate your data"
      ]
    },
    {
      "cell_type": "markdown",
      "metadata": {
        "id": "QN993whCYdiL"
      },
      "source": []
    },
    {
      "cell_type": "markdown",
      "metadata": {
        "id": "3kaZ3OxrKbuY"
      },
      "source": [
        "1: Arithmetic Operators\n",
        "\n",
        "Arithmetic operators are symbols used in programming and mathematics to perform basic mathematical operations on numbers. In Python, as well as in many other programming languages, the common arithmetic operators include:"
      ]
    },
    {
      "cell_type": "markdown",
      "metadata": {
        "id": "ifd1MVUuuoAX"
      },
      "source": [
        "Subtraction Operator\n",
        "\n",
        "subtraction is a mathematical operation that is performed using the subtraction operator, which is represented by the minus sign (-). The subtraction operator is binary, meaning it requires two operands to perform the subtraction operation."
      ]
    },
    {
      "cell_type": "code",
      "execution_count": null,
      "metadata": {
        "id": "nuckZSSWaB0I"
      },
      "outputs": [],
      "source": [
        "#use simple subtraction operators\n",
        "10-6"
      ]
    },
    {
      "cell_type": "code",
      "execution_count": null,
      "metadata": {
        "id": "RELpK2jutez2"
      },
      "outputs": [],
      "source": [
        "# Assign values to variable \"a\" and \"b\" Use Subtraction operator and Display Results\n",
        "a = 40 - 90\n",
        "b = 20 - 10\n",
        "#Use Print Methed and disply output\n",
        "print(a)\n",
        "print(b)\n"
      ]
    },
    {
      "cell_type": "code",
      "execution_count": null,
      "metadata": {
        "id": "2CixwKuzhm0A"
      },
      "outputs": [],
      "source": [
        "#Assign values to variable \"num1\" and \"num2\"\n",
        "num1 = 29\n",
        "num2 = 10\n",
        "#Use subtraction operator and Use print Methed and Dislpy  the result\n",
        "subtraction_result = num1 - num2\n",
        "print(subtraction_result)\n"
      ]
    },
    {
      "cell_type": "code",
      "execution_count": null,
      "metadata": {
        "id": "chsimQGYc7FH"
      },
      "outputs": [],
      "source": [
        "#Use Input Methed and Collaction input From User\n",
        "num1 = int(input(\"Enter the First_Number \"))\n",
        "num2 =int (input(\"Enter Secend Number \"))\n",
        "#Use subtraction operator and Display  Reslut\n",
        "subtraction = num1-num2\n",
        "#Use Print Methed and Display Oupout\n",
        "print(f\"The Reslut of Two Subraction Numbers: {subtraction}\")"
      ]
    },
    {
      "cell_type": "markdown",
      "metadata": {
        "id": "hY2KJYayTWSV"
      },
      "source": [
        "Addition\n",
        "the addition operator in mathematics. The addition operator is represented by the symbol \"+\". It is used to add two or more numbers together. For example:\n"
      ]
    },
    {
      "cell_type": "code",
      "execution_count": null,
      "metadata": {
        "id": "t0kw1RHZTVrx"
      },
      "outputs": [],
      "source": [
        "#Use addition operator and Two Number add  check th Results\n",
        "10+30"
      ]
    },
    {
      "cell_type": "code",
      "execution_count": null,
      "metadata": {
        "id": "b31KcJnYUma3"
      },
      "outputs": [],
      "source": [
        "#Assing value to varible Value 1, value2\n",
        "value1 =  600\n",
        "value2 = 500\n",
        "#Use addition operator and add Two Values\n",
        "addition = value1+value2\n",
        "#Use print Methed and Disply result of value1 and Valu2\n",
        "print(f\"The Sum of Addition is :{addition}\")\n"
      ]
    },
    {
      "cell_type": "code",
      "execution_count": null,
      "metadata": {
        "id": "Z-3JI97nfxo4"
      },
      "outputs": [],
      "source": [
        "#Use input methed Collaction Input From Users\n",
        "value1 = int(input(\"Enter The First Number \"))\n",
        "value2 = int (input(\"Enter The secend Number \"))\n",
        "#Use additiona operator and  add Two numbers\n",
        "addition =value1 + value2\n",
        "print(f\"The result of additiona Numbers:1 {addition}\")"
      ]
    },
    {
      "cell_type": "markdown",
      "metadata": {
        "id": "x11rZLQ5usT0"
      },
      "source": [
        "Multiplication Operator the multiplication operator is represented by the asterisk symbol (*). It is a binary operator, meaning it operates on two operands. When used with numbers, the multiplication operator performs multiplication, and when used with strings, it performs string repetition."
      ]
    },
    {
      "cell_type": "code",
      "execution_count": null,
      "metadata": {
        "id": "IO5Lz5Oyu1PY"
      },
      "outputs": [],
      "source": [
        "# Use  Multiplication operator\n",
        "result = 2 * 3\n",
        "#Use Print Methed and Disply OutPut\n",
        "print(result)\n"
      ]
    },
    {
      "cell_type": "code",
      "execution_count": null,
      "metadata": {
        "id": "00kercErvvPI"
      },
      "outputs": [],
      "source": [
        "# Assign values to variable num1 and num2\n",
        "num1 = 20\n",
        "num2 = 20\n",
        "# Use multiplication operator apply Operction to num1 ,num2 c\n",
        "multiplication_result = num1 * num2\n",
        "#use Print Methed and Disply Reslut\n",
        "print(multiplication_result)\n",
        "\n"
      ]
    },
    {
      "cell_type": "code",
      "execution_count": null,
      "metadata": {
        "id": "kb0MZ4A0xWdi"
      },
      "outputs": [],
      "source": [
        "#Use multiplication operator and num1 already Define and int 2 Assign Value\n",
        "result = num1 * 4\n",
        "# Display the result\n",
        "print(result)\n"
      ]
    },
    {
      "cell_type": "code",
      "execution_count": null,
      "metadata": {
        "id": "yX8ZGKajEeio"
      },
      "outputs": [],
      "source": [
        "# Get Input From user length and height Check The area sequare of area\n",
        "length = float(input(\"Enter the length of the area: \"))\n",
        "height = float(input(\"Enter the height of the area: \"))\n",
        "# Use multiplication operator  Calculate the area square feet\n",
        "area_square = length * height\n",
        "# Display the result of S\n",
        "print(f\"The area is  square feet is: {area_square}\")\n"
      ]
    },
    {
      "cell_type": "code",
      "execution_count": null,
      "metadata": {
        "id": "OwhNj7SYlO8i"
      },
      "outputs": [],
      "source": [
        "#Assing value Varibe a value int ,b value is string\n",
        "a=2\n",
        "b=\"Hello\"\n",
        "#use multiplication operator and Check Reslut\n",
        "c=a*b\n",
        "#use Print Methed and diplay Reslut\n",
        "print(c)"
      ]
    },
    {
      "cell_type": "markdown",
      "metadata": {
        "id": "EaFAT1fBnm09"
      },
      "source": [
        "division operation Python, the division operation is primarily handled by the division operator (\"/\"). It is used to divide one number by another, and the result is a floating-point number unless the operation is specifically floor division."
      ]
    },
    {
      "cell_type": "code",
      "execution_count": null,
      "metadata": {
        "id": "K2RGB0TMz8I5"
      },
      "outputs": [],
      "source": [
        "#Use Division operation in two Number 12/4\n",
        "division= 12/4\n",
        "#Use print Mthed and Display  Results\n",
        "print(division)"
      ]
    },
    {
      "cell_type": "code",
      "execution_count": null,
      "metadata": {
        "id": "3oJn3-zooqDs"
      },
      "outputs": [],
      "source": [
        "#Get Input From User and and Apply DivisioN Methed and Check Results\n",
        "var1= int(input(\"Enter First Number:\"))\n",
        "var2 =int(input(\"Enter Secend Number: \"))\n",
        "#Use Division  Operator and apply two var1 and Var2\n",
        "Division_Methed = var1/var2\n",
        "#Use Print methed Check Reslut Of output\n",
        "print(f\"The Out Put OF two Division Number :{Division_Methed}\")\n"
      ]
    },
    {
      "cell_type": "code",
      "execution_count": null,
      "metadata": {
        "id": "Jx_cbrjn0qN3"
      },
      "outputs": [],
      "source": [
        "#Assing value To Varibel \"num1\" and \"num2\"\n",
        "value1 =12\n",
        "value2 =4\n",
        "#Use division operation in value1 and Value2\n",
        "division_operter= value1/value2\n",
        "#Check Results out of Division Function\n",
        "print(division_operter)\n"
      ]
    },
    {
      "cell_type": "code",
      "execution_count": null,
      "metadata": {
        "id": "dM7JXIQeHmRX"
      },
      "outputs": [],
      "source": [
        "#Get the price value of 40 Kg rice\n",
        "price =float(input(\"Enter the Price of 40kg Rice\"))\n",
        "#Get the 40 Kilograms of Rice\n",
        "kilograms =float(input(\"Enter The 40 Kilograms\"))\n",
        "#use Division opereter and and Diply Out\n",
        "kgprice = price/kilograms\n",
        "print(f\"The price of 1 Kg: {kgprice}\")\n",
        "\n"
      ]
    },
    {
      "cell_type": "markdown",
      "metadata": {
        "id": "BvguVqqY3j2k"
      },
      "source": [
        "Quotient Or Floor Divisionor In mathematics, the quotient is the result of dividing one number by another. It represents the answer or outcome of a division operation. Additionally, floor division is a specific type of division operation that rounds the result down to the nearest whole number, discarding any decimal part. In Python programming, floor division is denoted by a double slash (//)."
      ]
    },
    {
      "cell_type": "code",
      "execution_count": null,
      "metadata": {
        "id": "eKoUF2M63I8W"
      },
      "outputs": [],
      "source": [
        "#Assing value Two Varibel num1 and num2\n",
        "num1=20\n",
        "num2=10\n",
        "#Use Floor_Division Methed and Checks  Reslut\n",
        "floor_Division =num1//num2\n",
        "#Use print Methed and Check Result\n",
        "print(floor_Division)"
      ]
    },
    {
      "cell_type": "code",
      "execution_count": null,
      "metadata": {
        "id": "KbPzwCW210NY"
      },
      "outputs": [],
      "source": [
        "#Use Input Methed Get Input form User value1 and Value2 and apply Floor Division operator Check Reslut\n",
        "value1=float(input(\"Enter The value  Divider \"))\n",
        "value2=float(input(\"Enter The Value OF Diviser  \"))\n",
        "#use Floor Division operator and apply to value1 and value2 check Results\n",
        "Floor_Division = value1//value2\n",
        "#Quotient Of Value1 and Value2\n",
        "print(f\"The quotient is {Floor_Division}\")"
      ]
    },
    {
      "cell_type": "markdown",
      "metadata": {
        "id": "kgFuiwQj5c4J"
      },
      "source": [
        " Remainder Python, you can find the remainder of a division using the modulus operator %. The syntax is a % b, where a is the dividend and b is the divisor. The result is the remainder left when a is divided by b. For example, 10 % 3 yields a result of 1, as 3 divides into 10 three times with a remainder of 1. The modulus operator is useful for tasks such as checking whether a number is even or odd and for cycling through a sequence of values."
      ]
    },
    {
      "cell_type": "code",
      "execution_count": null,
      "metadata": {
        "id": "Z7Odn2y5N_pc"
      },
      "outputs": [],
      "source": [
        "# Use input methed and Collaction input from User\n",
        "value = int(input(\"Enter the value one :\"))\n",
        "value2 =int(input(\"Enter the Value Two :\"))\n",
        "#Use Rimnder operator apply Two value1 and Value2 and Check Reuslut\n",
        "Rimnder= value1%value2\n",
        "#Use Print Methed and Check The VALUE of Rimnder\n",
        "print(f\"The Value Of Rimnder {Rimnder}\")"
      ]
    },
    {
      "cell_type": "markdown",
      "metadata": {
        "id": "nfYNJPKdQagN"
      },
      "source": [
        "###  **Comparison Operators**\n",
        "Comparison operators in Python are used to compare two values and return a Boolean result (True or False) based on the comparison. Here are the commonly used comparison operators:"
      ]
    },
    {
      "cell_type": "markdown",
      "metadata": {
        "id": "E2iJ61VKGhr2"
      },
      "source": [
        "Equal to (==)\n",
        " \"Equal Operator,\" it is typically denoted by two equal signs (==) in many programming languages. The Equal Operator is used to compare whether the values on the left and right sides are equal. If they are equal, the result is true; otherwise, it is false."
      ]
    },
    {
      "cell_type": "markdown",
      "metadata": {
        "id": "JoqbAk6jGnI6"
      },
      "source": []
    },
    {
      "cell_type": "code",
      "execution_count": null,
      "metadata": {
        "id": "Iw5nG9h8G5Q7"
      },
      "outputs": [],
      "source": [
        "#Use Input methed collection input  data From User compression to value if value1 is equal to value2 condition True Otherwise False\n",
        "value1= int(input(\"Enter The number First :\"))\n",
        "value2= int(input(\"enter the secend Number: \"))\n",
        "#Use Equal(==) operators and check value if value1 is equal to value2 disply True Otherwise Fasle\n",
        "compare = value1==value2\n",
        "#use Print Methed and display out\n",
        "print(f\"The compare value is : {compare}\")\n",
        "\n",
        "\n"
      ]
    },
    {
      "cell_type": "code",
      "execution_count": null,
      "metadata": {
        "id": "mMwKx7B8KKsD"
      },
      "outputs": [],
      "source": [
        "#Assig a value to  Variable num1 and Num2\n",
        "num1=100\n",
        "num2=100\n",
        "#Use(==) Equal To value and Check if num1 is Equal to Num2 resualt Treue otherwise false\n",
        "compare_value = num1==num2\n",
        "#Use print Methed and Check output\n",
        "print(compare_value)"
      ]
    },
    {
      "cell_type": "code",
      "execution_count": null,
      "metadata": {
        "id": "G4RS4-s6CPWG"
      },
      "outputs": [],
      "source": [
        "#Assing starings Value To variable str1 and Str2 compare Both str1 is equal to Str2\n",
        "str2=\"Hello\"\n",
        "str2= \"Hello words \"\n",
        "#Use Equal too Operator and Check If\n",
        "compare = a==b\n",
        "print(compare)"
      ]
    },
    {
      "cell_type": "markdown",
      "metadata": {
        "id": "A4Z8zyYrNEpq"
      },
      "source": [
        " Not Equal to (!=)\n",
        "\n",
        "programming and mathematics, the \"not equal to\" operator, denoted as \"!=\" in many programming languages, is used to compare two values to determine if they are not equal. If the values being compared are indeed not equal, the expression evaluates to true; otherwise, it evaluates to false."
      ]
    },
    {
      "cell_type": "code",
      "execution_count": null,
      "metadata": {
        "id": "8HYdbPE_B41K"
      },
      "outputs": [],
      "source": [
        "#Get input From User  input\n",
        "#Assig a value to  Variable num1 and Num2\n",
        "num1=100\n",
        "num2=100\n",
        "#Use!= NOT Equal opteraro  Check if num1 is not Equal to Num2 resualt True otherwise false\n",
        "compare_value = num1!=num2\n",
        "#Use print Methed and Check output\n",
        "print(compare_value)\n"
      ]
    },
    {
      "cell_type": "code",
      "execution_count": null,
      "metadata": {
        "id": "i5lQvykiPDCe"
      },
      "outputs": [],
      "source": [
        "#Assing starings Value To variable str1 and Str2 compare Both str1 is not  equal to Str2\n",
        "str2=\"Hello\"\n",
        "str2= \"Hello words \"\n",
        "#Use  not Equal too Operator and Check If str1 is not equal to str2 disply True Otherfasle\n",
        "compare = a!=b\n",
        "print(compare)"
      ]
    },
    {
      "cell_type": "code",
      "execution_count": null,
      "metadata": {
        "id": "16zCZky4PZV6"
      },
      "outputs": [],
      "source": [
        "#Use Input methed collection input  data From User compression to value if value1 is Not equal to value2 condition True Otherwise False\n",
        "value0= int(input(\"Enter The number First :\"))\n",
        "value1= int(input(\"enter the secend Number: \"))\n",
        "#Use Not Equal(!=) operators and check value if value1 is Not  equal to value2 disply True Otherwise Fasle\n",
        "compare = value0 != value1\n",
        "#use Print Methed and display out\n",
        "print(f\"The compare value is : {compare}\")\n"
      ]
    },
    {
      "cell_type": "markdown",
      "metadata": {
        "id": "g5qB84opcEoy"
      },
      "source": [
        " Greater Than, Greater than or Equal to (>, >=)"
      ]
    },
    {
      "cell_type": "code",
      "execution_count": null,
      "metadata": {
        "id": "pqzP0eYXg0TY"
      },
      "outputs": [],
      "source": [
        "#Use Greater then euqua lto  Operator Dipsly Result\n",
        "#Assing value to varible Number_one and Number_Two\n",
        "Number_one =200\n",
        "Number_two =100\n",
        "#Use Greater Then Operator  and Check value if number_one is Greater then Or Equal two resulat is True Otherwise Fasle\n",
        "Greater_Equal=Number_one >= Number_two\n",
        "print(f\"N{Greater_Equal}\")\n",
        "\n"
      ]
    },
    {
      "cell_type": "code",
      "execution_count": null,
      "metadata": {
        "id": "dBngITqHyLZW"
      },
      "outputs": [],
      "source": [
        "# The following code compares values using Greater Than and Greater Than or Equal To operators.\n",
        "\n",
        "# Assign values to variables value1 and value2\n",
        "value1 = 100\n",
        "value2 = 200\n",
        "# Use Greater Than operator to check if value1 is greater than value2, result is True if yes, otherwise False\n",
        "Greater_than1 = value1 > value2\n",
        "\n",
        "# Display the results using the print method\n",
        "print(f\"The value1 is Greater Than value2: {Greater_than1}\")\n",
        "\n",
        "\n",
        "# Assign values to variables num1 and num2, then use Greater Than operator to check the result\n",
        "num1 = 120\n",
        "num2 = 100\n",
        "\n",
        "# Use Greater Than operator to check if num1 is greater than num2, result is True if yes, otherwise False\n",
        "Greater_than2 = num1 > num2\n",
        "# Display the results using the print method\n",
        "print(f\"The num1 is Greater Than num2: {Greater_than2}\")\n",
        "\n",
        "#Assing value to varible Number_one and Number_Two\n",
        "Number_one =200\n",
        "Number_two =100\n",
        "#Use Greater Then Operator  and Check value if number_one is Greater then Or Equal two resulat is True Otherwise Fasle\n",
        "Greater_Equal= Number_one >= Number_two\n",
        "\n",
        "#use Print Methed and Display Output\n",
        "print(f\"The number_one is Graeter or Equal to Number_2 :{Greater_Equal}\")\n",
        "\n",
        "# Assign values to variables int_one and int_two\n",
        "int_one = 200\n",
        "int_two = 200\n",
        "\n",
        "# Use Greater Than or Equal To operator to check if int_one is greater than or equal to int_two\n",
        "# Result is True if the condition is met, otherwise False\n",
        "Value_of_my_int = int_one >= int_two\n",
        "\n",
        "\n",
        "print(f\"The value of int_one is Greater Than or Equal To int_two: {Value_of_my_int}\")\n"
      ]
    },
    {
      "cell_type": "markdown",
      "metadata": {
        "id": "BzZQwmfyOos8"
      },
      "source": [
        "Less Than, less than or Equal to (<, <=)"
      ]
    },
    {
      "cell_type": "code",
      "execution_count": null,
      "metadata": {
        "id": "bbAQ86j-NxE-"
      },
      "outputs": [],
      "source": [
        "#Use Operatro less than (<) or less equal (<=)to check value if Value1 is less than Value2 Display Results True Otherwise Fasle\n",
        "#Second  Step value1 is Less then are  equal two Value Two Result Display True Otherwise False\n",
        "#Assing Value to variables value1 and Va1ue2\n",
        "value1 =100\n",
        "value2 =200\n",
        "#Use less then operator and Check Value if Value1 is Less Value2 Results  Disply  True Otherwise Fasle\n",
        "less_then = value1 < value2\n",
        "#use print methed and Check value1 is less then Value Result Is true Otherwise  Fasle\n",
        "print(f\"value1 is less then Value2 : {less_then}\")\n",
        "\n",
        "#Assing a value to varible num1 and num2 check num1 is less then num2 result is true otherwise False\n",
        "num1 = 200\n",
        "num2 =100\n",
        "#Use less then operator check value\n",
        "less_then1 = num1 < num1\n",
        "#Use print disply Out\n",
        "print(f\"Num1 is less then NUM2 : {less_then1}\")"
      ]
    },
    {
      "cell_type": "code",
      "execution_count": null,
      "metadata": {
        "id": "2U2xbXs_UU2J"
      },
      "outputs": [],
      "source": [
        "#Assing to value variable and Check Value  less_then_equal_to Display Resualt\n",
        "Number_one = 100\n",
        "Number_two = 200\n",
        "#Use less_then_equal_opertor  check value\n",
        "less_then_equal = Number_one <= Number_two\n",
        "# Use print  methed and and Disply Out\n",
        "print(f\"Number_one is less_then_equal to  Number Two : {less_then_equal}\")\n",
        "\n",
        "#Assing A value to varible  var1 and vae2\n",
        "var1=200\n",
        "var2=200\n",
        "#use less then equal to opertors and check Value\n",
        "less_then_equal_var = var1  <= var2\n",
        "\n",
        "#Use print methed  disply Result\n",
        "print(f\"var1 is less then equal to var2 : {less_then_equal_var}\")\n",
        "\n",
        "#Assing a value to varibe int1 and int2\n",
        "intt1 =200\n",
        "int2 =100\n",
        "#Use less Then Equal operoter\n",
        "int1_and_int2 = int2 <= int2\n",
        "print(f\"int1 is Less then equal to int2 {int1_and_int2}\")\n"
      ]
    },
    {
      "cell_type": "markdown",
      "metadata": {
        "id": "vjd1qsMkSSj8"
      },
      "source": [
        "Logical Operators\n",
        "logical operators are used to perform logical operations on boolean values (True or False). These operators allow you to combine or modify boolean values to make decisions or evaluate conditions. The three main logical operators in Python are:\n",
        "\n",
        "and: Returns True if both operands are True.\n",
        "or: Returns True if at least one of the operands is True.\n",
        "not: Returns True if the operand is False, and False if the operand is True"
      ]
    },
    {
      "cell_type": "code",
      "execution_count": null,
      "metadata": {
        "id": "N7yjQarbSVM_"
      },
      "outputs": [],
      "source": [
        "#Use (AND) Logical Operator and Check both Value True Disply Result True OtherWise Fasle\n",
        "#Assing Value Varibe value1 and Value\n",
        "value1 = 200\n",
        "value2 = 100\n",
        "#Use (and )Operator Check both  is  True Out  Disply  True Put otherwise False\n",
        "operatro_and = value1 > value2 and value2 < value1\n",
        "print(f\"Value1 is Greater then Value2 and Value2 is less then Valu1 : {operatro_and}\")\n",
        "#Assing Value Varibe int1 and Int2\n",
        "int1 = 200\n",
        "int2  = 100\n",
        "#Use (and )Operator Check both  is  True Out  Disply  True Put otherwise False\n",
        "And_operator = int1 > int2 and int1 == int2\n",
        "print(f\"int1 is  Greater then int2 and Int1 equal to int2 : {And_operator}\")"
      ]
    },
    {
      "cell_type": "code",
      "execution_count": null,
      "metadata": {
        "id": "2j7OQb7Rtlvr"
      },
      "outputs": [],
      "source": [
        "#Use (OR) operator Check conditions one condition true and Secend Not True Result Dispy True Otherwsie Flase\n",
        "#Asing value to varible num1 and num2\n",
        "num1 = 200\n",
        "num2 = 10\n",
        "#Use (OR) operator and Check Value\n",
        "or_opertro = num1 > num2 or num2 < num1\n",
        "\n",
        "print(f\"NUM1 is Greater then Num2 and Num2 is Less then NUM1: {or_opertro}\")\n"
      ]
    },
    {
      "cell_type": "code",
      "execution_count": null,
      "metadata": {
        "id": "67GDibwHFEst"
      },
      "outputs": [],
      "source": [
        "# Use (Not Operator) to check if the condition is True. The Not Operator will display False if the condition is True, and True if the condition is False.\n",
        "# Use the Not operator to check the condition.\n",
        "a = 100\n",
        "b = 100\n",
        "\n",
        "not_condition = not (a == b or b == a)\n",
        "print(f\"Using the not operator to check the condition: {not_condition}\")\n"
      ]
    },
    {
      "cell_type": "markdown",
      "metadata": {
        "id": "laVQwst1TgCY"
      },
      "source": [
        " Membership operators\n",
        "\n",
        "In Python, membership operators are used to test whether a value is a member of a sequence (such as a string, list, or tuple). There are two membership operators:\n",
        "\n",
        "in: Returns True if a value exists in the sequence, and False otherwisenot in: Returns True if a value does not exist in the sequence, and False otherwise."
      ]
    },
    {
      "cell_type": "code",
      "execution_count": null,
      "metadata": {
        "id": "Dan8io2rIXHx"
      },
      "outputs": [],
      "source": [
        "#Use Membership (in ,not in )operator and Check Value Define Operator\n",
        "my_list = [1, 2, 3, 4, 5, 7, 8, 9, 10]\n",
        "\n",
        "#Use in   Operatora and Check  3 int value in Define list Dsiply  true value in list otherwase Fasle\n",
        "in_operator = 3  in my_list\n",
        "print(in_operator)\n",
        "\n",
        "#Use not in   Operatora and Check  3 int value in Define  list available Output Display  Fasle otherwise True\n",
        "not_operator =3 not in my_list\n",
        "print(not_operator)\n"
      ]
    },
    {
      "cell_type": "code",
      "execution_count": null,
      "metadata": {
        "id": "YvoJSehXaQq-"
      },
      "outputs": [],
      "source": [
        "#Assing Value To list of String\n",
        "my_string = ['SURESH','KUMAR','BEEKHAI','KARACHI']\n",
        "#Use in operatro check \"SURESH\" string in My string List\n",
        "in_string = 'SURESH' in my_string\n",
        "print(in_string)\n",
        "\n",
        "#Assing Value To list of String\n",
        "my_string = ['SURESH','KUMAR','BEEKHAI','KARACHI']\n",
        "#Use not  in operatro check \"SURESH\" string in My string List\n",
        "in_string = 'SURESH'not  in my_string\n",
        "print(in_string)"
      ]
    },
    {
      "cell_type": "markdown",
      "metadata": {
        "id": "jSNAt5pUY3oE"
      },
      "source": [
        "Identity operators in programming are used to compare the memory locations of two objects or variables. In real-life scenarios, you can think of identity operators as a way to check if two things are the same object or have the same reference in memory. Let's consider an example using Python, which has two identity operators: is and is not."
      ]
    },
    {
      "cell_type": "markdown",
      "metadata": {
        "id": "UIjHntoHcuRw"
      },
      "source": [
        "Python has two identity operators is and is not. Both return opposite Boolean values. The \"in\" operator evaluates to True if both the operand objects share the same memory location. The memory location of the object can be obtained by the \"id()\" function. If the id() of both variables is same, the \"in\" operator returns True (as a consequence, is not returns False)"
      ]
    },
    {
      "cell_type": "code",
      "execution_count": null,
      "metadata": {
        "id": "MaUlB1Z_XYen"
      },
      "outputs": [],
      "source": [
        "#Identity operators are used to compare the objects,\n",
        "# not if they are equal, but if they are actually the same object, with the same memory location:\n",
        "#Assing Value to list1 value1\n",
        "value1 = [\"Suresh\",\"Beekhani\"]\n",
        "\n",
        "#Use is Ideneity operter and compare value memery and check If value is equal is Resualt Disply True\n",
        "#Otherwise Fasle\n",
        "# Assing value1 to Identity_is compmare both memery\n",
        "identity_is = value1\n",
        "identity_is is value1\n",
        "\n",
        "# Print the result and memory locations\n",
        "print(\"Do identtity_is   and value2 reference the same object?\",(identity_is is value1) )\n",
        "print(\"Memory location of value1:\", id(value1))\n",
        "print(\"Memory location of value2:\", id(identity_is))\n",
        "\n",
        "#Use is not Opertro and compare value display Result if Resualt Actually True But OutPut show  false\n",
        "print(\"Do identtity_is and value2 reference the same object ?\",(identity_is is not value1 ))"
      ]
    },
    {
      "cell_type": "markdown",
      "metadata": {
        "id": "ffXE_pI0ubrj"
      },
      "source": [
        "Assignment Operator\n",
        "\n",
        "Python, an assignment operator is used to assign a value to a variable. It is a fundamental concept in programming languages and is represented by the \"=\" symbol. The most common assignment operator is the equal sign (=)"
      ]
    },
    {
      "cell_type": "markdown",
      "metadata": {
        "id": "td0sKhtRwspy"
      },
      "source": [
        " Addition and Assignment (+=): Adds the value on the right to the current value of the variable on the left."
      ]
    },
    {
      "cell_type": "code",
      "execution_count": null,
      "metadata": {
        "id": "oGKotnc5aREQ"
      },
      "outputs": [],
      "source": [
        "# Initialize the variable 'a' with the value 5\n",
        "a = 5\n",
        "\n",
        "# Increment the value of 'a' by adding 5 to its current value\n",
        "a += 5\n",
        "\n",
        "# Display the updated value of 'a' after the addition\n",
        "print(f\"The new value of the variable 'a' after adding 5 is: {a}\")\n"
      ]
    },
    {
      "cell_type": "markdown",
      "metadata": {
        "id": "lTNiZT16w6g2"
      },
      "source": [
        "Subtraction and Assignment (-=): Subtracts the value on the right from the current value of the variable on the left."
      ]
    },
    {
      "cell_type": "code",
      "execution_count": null,
      "metadata": {
        "id": "-5DXaryrwWbZ"
      },
      "outputs": [],
      "source": [
        "# Start by setting the variable 'a' with an initial value of 6\n",
        "a = 6\n",
        "\n",
        "# Decrease the value of 'a' by subtracting 3 from it\n",
        "a -= 3\n",
        "\n",
        "# Display the updated value of the variable 'a' after the subtraction of 3\n",
        "print(f\"The new value of the variable 'a' after subtracting 3 is: {a}\")"
      ]
    },
    {
      "cell_type": "markdown",
      "metadata": {
        "id": "ilhJM1nuytFE"
      },
      "source": [
        "The multiplication assignment operator, which is often denoted by\n",
        "( \"*=\"). This operator is commonly used in programming languages to update the value of a variable by multiplying it with another value."
      ]
    },
    {
      "cell_type": "code",
      "execution_count": null,
      "metadata": {
        "id": "uq22G7f0yfsH"
      },
      "outputs": [],
      "source": [
        "# Assign a value of 10 to a variable called 'a'\n",
        "a = 10\n",
        "\n",
        "# Multiply the value in 'a' by 5 using the multiplication assignment operator\n",
        "a *= 5  # This means: take the current value of 'a', multiply it by 5, and update 'a' with the result\n",
        "\n",
        "# Print the new value of the variable 'a' after the multiplication\n",
        "print(f\"The new value of the variable 'a' after multiplying by 5: {a}\")"
      ]
    },
    {
      "cell_type": "markdown",
      "metadata": {
        "id": "eXp_v2ea1yJD"
      },
      "source": [
        "If you're asking about using the division operator in assignments, it typically involves the \"/=\" operator. This operator is used to divide the value of a variable by another value and then update the variable with the result"
      ]
    },
    {
      "cell_type": "code",
      "execution_count": null,
      "metadata": {
        "id": "HBwQC7uS1xGu"
      },
      "outputs": [],
      "source": [
        "#Assing a value of 10 to variable  called 'a'\n",
        "a = 10\n",
        "#Multiple the value in 'a' by 2 using the Division Assignment  operator\n",
        "a /= 2 # This means: take the Current value 'a' , Division  By 2 and Updata a Withe Value and Reslut\n",
        "#print the new value of the Variable  a after the Division\n",
        "print(f\"The new Value of The Varibe 'A' after Division By 2 : {a}\")"
      ]
    },
    {
      "cell_type": "code",
      "execution_count": null,
      "metadata": {
        "id": "BWlOw-kj41km"
      },
      "outputs": [],
      "source": [
        "#Assing a Value to variable called 'a'\n",
        "a = 2\n",
        "# Explanations the vale 'a' By using the Division  Assiigments operator\n",
        "a **= 2 #this means : take The Current value \"A\" ,Explanation s By 2 and Update a Withe Value and Reslut\n",
        "#Print the New Value of the Varible a after The  Explanations\n",
        "print(f\"The New value of The Varibl 'a' After Exponentiation by 2: {a}\")"
      ]
    }
  ],
  "metadata": {
    "colab": {
      "authorship_tag": "ABX9TyMMFlL4XaVbIdFM7hLX8t2T",
      "include_colab_link": true,
      "name": "Python, operars ipynb",
      "private_outputs": true,
      "provenance": [],
      "toc_visible": true
    },
    "kernelspec": {
      "display_name": "Python 3",
      "name": "python3"
    },
    "language_info": {
      "name": "python"
    }
  },
  "nbformat": 4,
  "nbformat_minor": 0
}
