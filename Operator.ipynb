{
  "cells": [
    {
      "cell_type": "markdown",
      "metadata": {
        "id": "bDbtPVrJCBR6"
      },
      "source": [
        "#### **Operators in Python**\n",
        "\n",
        "Python provides various operators to perform computations and logical operations. This notebook will cover different types of operators and their usage with examples.\n",
        "\n",
        "#### **Assignment Operators**\n",
        "\n",
        "Assignment operators are used to assign values to variables. For example, `=` assigns a value, while `+=` adds and assigns.\n"
      ]
    },
    {
      "cell_type": "code",
      "execution_count": 3,
      "metadata": {
        "id": "nuckZSSWaB0I"
      },
      "outputs": [
        {
          "name": "stdout",
          "output_type": "stream",
          "text": [
            "x: 10\n"
          ]
        }
      ],
      "source": [
        "# Initialize the variable x with the value 8\n",
        "x = 8\n",
        "\n",
        "# Increment x by 2 (same as x = x + 2)\n",
        "x += 2\n",
        "\n",
        "# Print the value of x with a label\n",
        "print('x:', x)  # Output will be: x: 10\n"
      ]
    },
    {
      "cell_type": "markdown",
      "metadata": {},
      "source": [
        "#### **🔢 Arithmetic Operators in Python**\n",
        "\n",
        "Arithmetic operators are used to perform basic mathematical operations like addition, subtraction, multiplication, and division.\n",
        "\n",
        "#### **List of Arithmetic Operators**\n",
        "\n",
        "| Operator | Description            | Example (`a = 10`, `b = 3`) | Result     |\n",
        "|----------|------------------------|------------------------------|------------|\n",
        "| `+`      | Addition                | `a + b`                      | `13`       |\n",
        "| `-`      | Subtraction             | `a - b`                      | `7`        |\n",
        "| `*`      | Multiplication          | `a * b`                      | `30`       |\n",
        "| `/`      | Division (float)        | `a / b`                      | `3.333...` |\n",
        "| `//`     | Floor Division (int)    | `a // b`                     | `3`        |\n",
        "| `%`      | Modulus (remainder)     | `a % b`                      | `1`        |\n",
        "| `**`     | Exponentiation (power)  | `a ** b`                     | `1000`     |"
      ]
    },
    {
      "cell_type": "code",
      "execution_count": 4,
      "metadata": {
        "id": "RELpK2jutez2"
      },
      "outputs": [
        {
          "name": "stdout",
          "output_type": "stream",
          "text": [
            "Addition: 13\n",
            "Subtraction: 7\n",
            "Multiplication: 30\n",
            "Division: 3.3333333333333335\n",
            "Floor Division: 3\n",
            "Modulus: 1\n",
            "Exponentiation: 1000\n"
          ]
        }
      ],
      "source": [
        "\n",
        "a = 10\n",
        "b = 3\n",
        "\n",
        "print(\"Addition:\", a + b)        # 13\n",
        "print(\"Subtraction:\", a - b)     # 7\n",
        "print(\"Multiplication:\", a * b)  # 30\n",
        "print(\"Division:\", a / b)        # 3.333...\n",
        "print(\"Floor Division:\", a // b) # 3\n",
        "print(\"Modulus:\", a % b)         # 1\n",
        "print(\"Exponentiation:\", a ** b) # 1000\n"
      ]
    },
    {
      "cell_type": "markdown",
      "metadata": {},
      "source": [
        "### **Comparison Operators**\n",
        "Comparison operators compare values and return True or False.\n"
      ]
    },
    {
      "cell_type": "code",
      "execution_count": 5,
      "metadata": {},
      "outputs": [
        {
          "name": "stdout",
          "output_type": "stream",
          "text": [
            "x == y: False\n",
            "x != y: True\n",
            "x < y: True\n",
            "x > y: False\n",
            "x >= y: False\n",
            "x <= y: True\n"
          ]
        }
      ],
      "source": [
        "x, y = 5, 10\n",
        "\n",
        "print(\"x == y:\", x == y)   # Equal to\n",
        "print(\"x != y:\", x != y)   # Not equal to\n",
        "print(\"x < y:\", x < y)     # Less than\n",
        "print(\"x > y:\", x > y)     # Greater than\n",
        "print(\"x >= y:\", x >= y)   # Greater than or equal to\n",
        "print(\"x <= y:\", x <= y)   # Less than or equal to\n"
      ]
    },
    {
      "cell_type": "markdown",
      "metadata": {},
      "source": [
        "#### **Logical Operators**\n",
        "\n",
        "Logical operators (`and`, `or`, `not`) are used to combine multiple conditions.\n"
      ]
    },
    {
      "cell_type": "code",
      "execution_count": 6,
      "metadata": {},
      "outputs": [
        {
          "name": "stdout",
          "output_type": "stream",
          "text": [
            "x > 0 and y > 0: True\n",
            "x > 0 or y < 0: True\n",
            "not(x > y): True\n"
          ]
        }
      ],
      "source": [
        "x, y = 5, 10\n",
        "\n",
        "# Logical AND\n",
        "print(\"x > 0 and y > 0:\", x > 0 and y > 0)  # True if both conditions are True\n",
        "\n",
        "# Logical OR\n",
        "print(\"x > 0 or y < 0:\", x > 0 or y < 0)    # True if at least one condition is True\n",
        "\n",
        "# Logical NOT\n",
        "print(\"not(x > y):\", not(x > y))            # True if x is not greater than y\n"
      ]
    }
  ],
  "metadata": {
    "colab": {
      "authorship_tag": "ABX9TyMMFlL4XaVbIdFM7hLX8t2T",
      "include_colab_link": true,
      "name": "Python, operars ipynb",
      "private_outputs": true,
      "provenance": [],
      "toc_visible": true
    },
    "kernelspec": {
      "display_name": "Python 3",
      "name": "python3"
    },
    "language_info": {
      "codemirror_mode": {
        "name": "ipython",
        "version": 3
      },
      "file_extension": ".py",
      "mimetype": "text/x-python",
      "name": "python",
      "nbconvert_exporter": "python",
      "pygments_lexer": "ipython3",
      "version": "3.10.16"
    }
  },
  "nbformat": 4,
  "nbformat_minor": 0
}
