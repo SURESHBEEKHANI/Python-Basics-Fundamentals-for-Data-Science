{
 "cells": [
  {
   "cell_type": "markdown",
   "id": "c8968c05",
   "metadata": {},
   "source": [
    "####  **Python Data Types for Beginners**\n",
    "\n",
    "In Python, **every piece of data is an object**. Understanding Python's built-in data types is fundamental for writing efficient, readable, and bug-free programs.\n",
    "\n",
    "This notebook will introduce you to Python's core data types and show you best practices on how to work with them.\n",
    "\n",
    "---\n",
    "\n",
    "#### **1. Numeric Types**\n",
    "\n",
    "Python has three main numeric data types:\n",
    "\n",
    "1. **Integer (`int`)** – Whole numbers  \n",
    "   *Examples:* `8`, `1`, `-5`, `999`\n",
    "\n",
    "2. **Float (`float`)** – Numbers with decimal points or in exponential form  \n",
    "   *Examples:* `3.14`, `2.703`, `1.2e3`\n"
   ]
  },
  {
   "cell_type": "markdown",
   "id": "00bb0c93",
   "metadata": {},
   "source": [
    "### **1.1 Integers**\n",
    "\n",
    "- **Definition:** Integers are whole numbers without a fractional component.  \n",
    "- **Examples:** `-18`, `0`, `17`\n"
   ]
  },
  {
   "cell_type": "code",
   "execution_count": 3,
   "id": "a0f100e8",
   "metadata": {},
   "outputs": [
    {
     "name": "stdout",
     "output_type": "stream",
     "text": [
      "num1: -18 type: <class 'int'>\n",
      "num2: 0 type: <class 'int'>\n",
      "num3: 17 type: <class 'int'>\n"
     ]
    }
   ],
   "source": [
    "# Assigning integer values to variables\n",
    "num1 = -18\n",
    "num2 = 0\n",
    "num3 = 17\n",
    "\n",
    "# Printing the value and type of each variable\n",
    "print(\"num1:\", num1, \"type:\", type(num1))\n",
    "print(\"num2:\", num2, \"type:\", type(num2))\n",
    "print(\"num3:\", num3, \"type:\", type(num3))\n"
   ]
  },
  {
   "cell_type": "markdown",
   "id": "2093160a",
   "metadata": {},
   "source": [
    "#### **🧠 Best Practices for Working with Numbers**\n",
    "\n",
    "1. **Use descriptive variable names**  \n",
    "   Instead of using vague names like `x`, `y`, or `temp`, use meaningful names such as `count`, `user_age`, or `total_price` to make your code easier to read and maintain.\n",
    "\n",
    "2. **Handle potential overflow**  \n",
    "   In many languages, integer values are limited by a maximum size.  \n",
    "   In Python, however, integers are of **unlimited size** (limited only by available memory), so overflow is rarely an issue. Still, it’s good to be aware of this if you're working with very large numbers or interoperating with other languages.\n",
    "\n",
    "3. **Avoid ambiguous naming**  \n",
    "   Don’t use variable names that can be confused with numbers.  \n",
    "   For example:\n",
    "   - `O` (capital o) vs. `0` (zero)\n",
    "   - `l` (lowercase L) vs. `1` (one)\n",
    "   - `I` (capital i) vs. `1`\n",
    "\n",
    "---"
   ]
  },
  {
   "cell_type": "markdown",
   "id": "fb9519e0",
   "metadata": {},
   "source": [
    "#### **1.2 Floats**\n",
    "\n",
    "- **Definition:** Floats (floating-point numbers) represent real numbers that include a fractional component.  \n",
    "- **Examples:** `3.14150`, `8.001`, `1.12`, `150.8`"
   ]
  },
  {
   "cell_type": "code",
   "execution_count": 6,
   "id": "f050aa16",
   "metadata": {},
   "outputs": [
    {
     "name": "stdout",
     "output_type": "stream",
     "text": [
      "pi: 3.14159 type: <class 'float'>\n",
      "samill_float: -0.0001 type: <class 'float'>\n",
      "exp_flot: 150.0 type: <class 'float'>\n"
     ]
    }
   ],
   "source": [
    "# Defining a float variable for the value of pi\n",
    "pi = 3.14159\n",
    "\n",
    "# Defining a small negative float value\n",
    "samill_float = -0.0001\n",
    "\n",
    "# Defining a float using exponential notation (1.5 × 10^2 = 150.0)\n",
    "exp_flot = 1.5e2\n",
    "\n",
    "# Printing the value and type of each float variable\n",
    "print(\"pi:\", pi, \"type:\", type(pi))\n",
    "print(\"samill_float:\", samill_float, \"type:\", type(samill_float))\n",
    "print(\"exp_flot:\", exp_flot, \"type:\", type(exp_flot))\n"
   ]
  },
  {
   "cell_type": "markdown",
   "id": "20a1fb3f",
   "metadata": {},
   "source": [
    "#### **Strings in Python**\n",
    "\n",
    "1.3 **string** represents a sequence of characters enclosed in either single (`'`) or double (`\"`) quotes. \n",
    "\n",
    "#### **Key Points:**\n",
    "- Strings can contain letters, numbers, symbols, and spaces.\n",
    "- **Numbers enclosed in quotes** are treated as strings, not as numerical values.\n",
    "\n"
   ]
  },
  {
   "cell_type": "code",
   "execution_count": 8,
   "id": "2428cb15",
   "metadata": {},
   "outputs": [
    {
     "name": "stdout",
     "output_type": "stream",
     "text": [
      "hello type: <class 'str'>\n",
      "python type: <class 'str'>\n",
      "This is a \n",
      "multi-line string. \n",
      "type: <class 'str'>\n",
      "123 type: <class 'str'>\n"
     ]
    }
   ],
   "source": [
    "# Using single quotes to define a string\n",
    "string_single = 'hello'\n",
    "\n",
    "# Using double quotes to define a string (functionally the same as single quotes)\n",
    "string_double = \"python\"\n",
    "\n",
    "# Using triple quotes to define a multi-line string (can span multiple lines)\n",
    "string_triple = \"\"\"This is a \n",
    "multi-line string.\"\"\"\n",
    "\n",
    "# A string that looks like a number (still treated as a string, not an integer)\n",
    "string_number = \"123\"\n",
    "\n",
    "# Print each string and its type to show that they are all of type 'str'\n",
    "print(string_single, \"type:\", type(string_single))\n",
    "print(string_double, \"type:\", type(string_double))\n",
    "print(string_triple, \"\\ntype:\", type(string_triple))  # '\\n' adds a line break before showing the type\n",
    "print(string_number, \"type:\", type(string_number))\n"
   ]
  },
  {
   "cell_type": "code",
   "execution_count": null,
   "id": "bdfcf542",
   "metadata": {},
   "outputs": [
    {
     "name": "stdout",
     "output_type": "stream",
     "text": [
      "Full name: John Doe\n",
      "Repeated string: hellohellohello\n",
      "First character: John\n",
      "Last character:  Doe\n"
     ]
    }
   ],
   "source": [
    "# String concatenation\n",
    "first_name = \"John\"\n",
    "last_name = \"Doe\"\n",
    "full_name = first_name + \" \" + last_name  # Concatenating strings using the '+' operator\n",
    "\n",
    "# String repetition\n",
    "repeat_string = \"hello\" * 3  # Repeating a string using the '*' operator\n",
    "\n",
    "# Indexing and slicing\n",
    "first_char = full_name[0:4]  # Accessing the first character of the string\n",
    "last_char = full_name[4:]  # Accessing the last character of the string\n",
    "\n",
    "# Printing results\n",
    "print(\"Full name:\", full_name)\n",
    "print(\"Repeated string:\", repeat_string)\n",
    "print(\"First character:\", first_char)\n",
    "print(\"Last character:\", last_char)\n"
   ]
  },
  {
   "cell_type": "markdown",
   "id": "f58b9d45",
   "metadata": {},
   "source": [
    "#### **Boolean Type**\n",
    "Definition: Booleans are True or False values.\n",
    "Typically used in condition checks, loops, or logical evaluations.\n",
    "\n"
   ]
  },
  {
   "cell_type": "code",
   "execution_count": 18,
   "id": "7d887ebe",
   "metadata": {},
   "outputs": [
    {
     "name": "stdout",
     "output_type": "stream",
     "text": [
      "Likes coffee: True <class 'bool'>\n",
      "Is student: False <class 'bool'>\n"
     ]
    }
   ],
   "source": [
    "# Boolean Type\n",
    "# Definition: Booleans are True or False values.\n",
    "# Typically used in condition checks, loops, or logical evaluations.\n",
    "\n",
    "likes_coffee = True  # Boolean value indicating a preference\n",
    "is_student = False   # Boolean value indicating a status\n",
    "\n",
    "# Display the values and their types\n",
    "print(\"Likes coffee:\", likes_coffee, type(likes_coffee))\n",
    "print(\"Is student:\", is_student, type(is_student))\n"
   ]
  },
  {
   "cell_type": "markdown",
   "id": "6269c07a",
   "metadata": {},
   "source": [
    "#### ✅ Best Practices for Using Boolean Types in Python\n",
    "\n",
    "1. **Use Descriptive Names**  \n",
    "   Instead of using vague names like `flag` or `status`, use clear, action-oriented names that describe what the boolean represents.\n"
   ]
  },
  {
   "cell_type": "code",
   "execution_count": 19,
   "id": "e022abdf",
   "metadata": {},
   "outputs": [
    {
     "name": "stdout",
     "output_type": "stream",
     "text": [
      "User is active.\n"
     ]
    }
   ],
   "source": [
    "is_active = True\n",
    "if is_active == True:\n",
    "    print(\"User is active.\")\n",
    "else:\n",
    "    print(\"User is not active.\")"
   ]
  },
  {
   "cell_type": "markdown",
   "id": "642fe02e",
   "metadata": {},
   "source": [
    "###  `NoneType`\n",
    "\n",
    "**Definition**  \n",
    "`NoneType` represents the absence of a value. In Python, `None` is often used as a placeholder for optional or missing data.\n",
    "\n",
    "---\n"
   ]
  },
  {
   "cell_type": "code",
   "execution_count": 28,
   "id": "18202175",
   "metadata": {},
   "outputs": [
    {
     "name": "stdout",
     "output_type": "stream",
     "text": [
      "dataType: None <class 'NoneType'>\n",
      "Nothing_here value is missing\n"
     ]
    }
   ],
   "source": [
    "# Assigning None to represent the absence of a value.\n",
    "# This is commonly used when a variable is intentionally left empty.\n",
    "Nothing_here = None\n",
    "\n",
    "# Printing the value of the variable and its data type.\n",
    "# This will show 'None' and <class 'NoneType'>\n",
    "print(\"dataType:\", Nothing_here, type(Nothing_here))\n",
    "\n",
    "# Proper way to check if a variable is None.\n",
    "# Using 'is None' is preferred over '== None' for identity comparison.\n",
    "if Nothing_here is None:\n",
    "    print(\"Nothing_here value is missing\")"
   ]
  }
 ],
 "metadata": {
  "kernelspec": {
   "display_name": "Python 3",
   "language": "python",
   "name": "python3"
  },
  "language_info": {
   "codemirror_mode": {
    "name": "ipython",
    "version": 3
   },
   "file_extension": ".py",
   "mimetype": "text/x-python",
   "name": "python",
   "nbconvert_exporter": "python",
   "pygments_lexer": "ipython3",
   "version": "3.10.16"
  }
 },
 "nbformat": 4,
 "nbformat_minor": 5
}
