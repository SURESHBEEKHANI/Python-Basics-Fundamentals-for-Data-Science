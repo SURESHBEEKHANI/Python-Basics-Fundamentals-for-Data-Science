{
 "cells": [
  {
   "cell_type": "markdown",
   "id": "c8968c05",
   "metadata": {},
   "source": [
    "####  **Python Data Types for Beginners**\n",
    "\n",
    "In Python, **every piece of data is an object**. Understanding Python's built-in data types is fundamental for writing efficient, readable, and bug-free programs.\n",
    "\n",
    "This notebook will introduce you to Python's core data types and show you best practices on how to work with them.\n",
    "\n",
    "---\n",
    "\n",
    "#### **1. Numeric Types**\n",
    "\n",
    "Python has three main numeric data types:\n",
    "\n",
    "1. **Integer (`int`)** – Whole numbers  \n",
    "   *Examples:* `8`, `1`, `-5`, `999`\n",
    "\n",
    "2. **Float (`float`)** – Numbers with decimal points or in exponential form  \n",
    "   *Examples:* `3.14`, `2.703`, `1.2e3`\n"
   ]
  },
  {
   "cell_type": "markdown",
   "id": "00bb0c93",
   "metadata": {},
   "source": [
    "### **1.1 Integers**\n",
    "\n",
    "- **Definition:** Integers are whole numbers without a fractional component.  \n",
    "- **Examples:** `-18`, `0`, `17`\n"
   ]
  },
  {
   "cell_type": "code",
   "execution_count": 3,
   "id": "a0f100e8",
   "metadata": {},
   "outputs": [
    {
     "name": "stdout",
     "output_type": "stream",
     "text": [
      "num1: -18 type: <class 'int'>\n",
      "num2: 0 type: <class 'int'>\n",
      "num3: 17 type: <class 'int'>\n"
     ]
    }
   ],
   "source": [
    "# Assigning integer values to variables\n",
    "num1 = -18\n",
    "num2 = 0\n",
    "num3 = 17\n",
    "\n",
    "# Printing the value and type of each variable\n",
    "print(\"num1:\", num1, \"type:\", type(num1))\n",
    "print(\"num2:\", num2, \"type:\", type(num2))\n",
    "print(\"num3:\", num3, \"type:\", type(num3))\n"
   ]
  },
  {
   "cell_type": "markdown",
   "id": "2093160a",
   "metadata": {},
   "source": [
    "#### **🧠 Best Practices for Working with Numbers**\n",
    "\n",
    "1. **Use descriptive variable names**  \n",
    "   Instead of using vague names like `x`, `y`, or `temp`, use meaningful names such as `count`, `user_age`, or `total_price` to make your code easier to read and maintain.\n",
    "\n",
    "2. **Handle potential overflow**  \n",
    "   In many languages, integer values are limited by a maximum size.  \n",
    "   In Python, however, integers are of **unlimited size** (limited only by available memory), so overflow is rarely an issue. Still, it’s good to be aware of this if you're working with very large numbers or interoperating with other languages.\n",
    "\n",
    "3. **Avoid ambiguous naming**  \n",
    "   Don’t use variable names that can be confused with numbers.  \n",
    "   For example:\n",
    "   - `O` (capital o) vs. `0` (zero)\n",
    "   - `l` (lowercase L) vs. `1` (one)\n",
    "   - `I` (capital i) vs. `1`\n",
    "\n",
    "---"
   ]
  },
  {
   "cell_type": "markdown",
   "id": "fb9519e0",
   "metadata": {},
   "source": [
    "#### **1.2 Floats**\n",
    "\n",
    "- **Definition:** Floats (floating-point numbers) represent real numbers that include a fractional component.  \n",
    "- **Examples:** `3.14150`, `8.001`, `1.12`, `150.8`"
   ]
  },
  {
   "cell_type": "code",
   "execution_count": 6,
   "id": "f050aa16",
   "metadata": {},
   "outputs": [
    {
     "name": "stdout",
     "output_type": "stream",
     "text": [
      "pi: 3.14159 type: <class 'float'>\n",
      "samill_float: -0.0001 type: <class 'float'>\n",
      "exp_flot: 150.0 type: <class 'float'>\n"
     ]
    }
   ],
   "source": [
    "# Defining a float variable for the value of pi\n",
    "pi = 3.14159\n",
    "\n",
    "# Defining a small negative float value\n",
    "samill_float = -0.0001\n",
    "\n",
    "# Defining a float using exponential notation (1.5 × 10^2 = 150.0)\n",
    "exp_flot = 1.5e2\n",
    "\n",
    "# Printing the value and type of each float variable\n",
    "print(\"pi:\", pi, \"type:\", type(pi))\n",
    "print(\"samill_float:\", samill_float, \"type:\", type(samill_float))\n",
    "print(\"exp_flot:\", exp_flot, \"type:\", type(exp_flot))\n"
   ]
  },
  {
   "cell_type": "markdown",
   "id": "20a1fb3f",
   "metadata": {},
   "source": [
    "#### **Strings in Python**\n",
    "\n",
    "1.3 **string** represents a sequence of characters enclosed in either single (`'`) or double (`\"`) quotes. \n",
    "\n",
    "#### **Key Points:**\n",
    "- Strings can contain letters, numbers, symbols, and spaces.\n",
    "- **Numbers enclosed in quotes** are treated as strings, not as numerical values.\n",
    "\n"
   ]
  },
  {
   "cell_type": "code",
   "execution_count": 8,
   "id": "2428cb15",
   "metadata": {},
   "outputs": [
    {
     "name": "stdout",
     "output_type": "stream",
     "text": [
      "hello type: <class 'str'>\n",
      "python type: <class 'str'>\n",
      "This is a \n",
      "multi-line string. \n",
      "type: <class 'str'>\n",
      "123 type: <class 'str'>\n"
     ]
    }
   ],
   "source": [
    "# Using single quotes to define a string\n",
    "string_single = 'hello'\n",
    "\n",
    "# Using double quotes to define a string (functionally the same as single quotes)\n",
    "string_double = \"python\"\n",
    "\n",
    "# Using triple quotes to define a multi-line string (can span multiple lines)\n",
    "string_triple = \"\"\"This is a \n",
    "multi-line string.\"\"\"\n",
    "\n",
    "# A string that looks like a number (still treated as a string, not an integer)\n",
    "string_number = \"123\"\n",
    "\n",
    "# Print each string and its type to show that they are all of type 'str'\n",
    "print(string_single, \"type:\", type(string_single))\n",
    "print(string_double, \"type:\", type(string_double))\n",
    "print(string_triple, \"\\ntype:\", type(string_triple))  # '\\n' adds a line break before showing the type\n",
    "print(string_number, \"type:\", type(string_number))\n"
   ]
  },
  {
   "cell_type": "code",
   "execution_count": null,
   "id": "bdfcf542",
   "metadata": {},
   "outputs": [],
   "source": []
  }
 ],
 "metadata": {
  "kernelspec": {
   "display_name": "Python 3",
   "language": "python",
   "name": "python3"
  },
  "language_info": {
   "codemirror_mode": {
    "name": "ipython",
    "version": 3
   },
   "file_extension": ".py",
   "mimetype": "text/x-python",
   "name": "python",
   "nbconvert_exporter": "python",
   "pygments_lexer": "ipython3",
   "version": "undefined.undefined.undefined"
  }
 },
 "nbformat": 4,
 "nbformat_minor": 5
}
