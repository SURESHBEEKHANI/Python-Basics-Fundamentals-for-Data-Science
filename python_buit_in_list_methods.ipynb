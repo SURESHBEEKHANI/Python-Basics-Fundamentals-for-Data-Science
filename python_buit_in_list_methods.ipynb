{
  "nbformat": 4,
  "nbformat_minor": 0,
  "metadata": {
    "colab": {
      "private_outputs": true,
      "provenance": [],
      "toc_visible": true
    },
    "kernelspec": {
      "name": "python3",
      "display_name": "Python 3"
    },
    "language_info": {
      "name": "python"
    }
  },
  "cells": [
    {
      "cell_type": "markdown",
      "source": [
        "**Python buit-in List Methods**"
      ],
      "metadata": {
        "id": "qY6R350j9Eyd"
      }
    },
    {
      "cell_type": "markdown",
      "source": [],
      "metadata": {
        "id": "fCZwjaUo9B6V"
      }
    },
    {
      "cell_type": "code",
      "source": [
        "# Assign string values to a list data type\n",
        "name = ['suresh', 'Kumaar', 'beekhani']\n",
        "\n",
        "# Use the print method to print out the contents of the list \"name\"\n",
        "print(name)\n"
      ],
      "metadata": {
        "id": "XEz-2UeQ91Wb"
      },
      "execution_count": null,
      "outputs": []
    },
    {
      "cell_type": "code",
      "source": [
        "# Assign string values to a list data type\n",
        "names = ['suresh', 'Kumaar', 'beekhani']\n",
        "\n",
        "# Use append method to add a new element to the list\n",
        "names.append('karachi')\n",
        "\n",
        "# Use print method to display the output\n",
        "print(names)\n",
        "\n"
      ],
      "metadata": {
        "id": "KGKn9o8s9M4y"
      },
      "execution_count": null,
      "outputs": []
    },
    {
      "cell_type": "code",
      "source": [
        "# Assign string values to List1\n",
        "list1 = ['Umerkot', 'Krachi', 'New chhor']\n",
        "\n",
        "# Assign values to List2\n",
        "list2 = ['Hyderabad', 'and Other', 'of Pakistan']\n",
        "\n",
        "# Use extend method to combine list2 into list1\n",
        "list1.extend(list2)\n",
        "\n",
        "# Use print method to display the output\n",
        "print(list1)"
      ],
      "metadata": {
        "id": "yjZpXMJk_Urm"
      },
      "execution_count": null,
      "outputs": []
    },
    {
      "cell_type": "code",
      "source": [
        "#Assing a string to list\n",
        "list1=['Suresh','beekhani','karachi']\n",
        "#Use insert Methed through index add New elements in list\n",
        "list1.insert(1,'Kumar')\n",
        "#Use Print function and Disply Out\n",
        "print(list1)"
      ],
      "metadata": {
        "id": "LYoDvpSzBOOj"
      },
      "execution_count": null,
      "outputs": []
    },
    {
      "cell_type": "code",
      "source": [
        "# Assign a list of string values\n",
        "list1 = ['suresh', 'Kumar', 'beekhani', 'Umerkot']\n",
        "\n",
        "# Use the remove method to remove an element from the list\n",
        "list1.remove(\"Kumar\")\n",
        "\n",
        "# Use the print method to print out the updated list\n",
        "print(list1)\n"
      ],
      "metadata": {
        "id": "oGLNjWPcCrJc"
      },
      "execution_count": null,
      "outputs": []
    },
    {
      "cell_type": "code",
      "source": [
        "# Assign a list of string values\n",
        "list1 = ['suresh', 'Kumar', 'beekhani', 'Umerkot']\n",
        "\n",
        "# Use the remove method to remove an element from the list\n",
        "list1.remove(\"Kumar\")\n",
        "\n",
        "# Use the print method to print out the updated list\n",
        "print(list1)\n"
      ],
      "metadata": {
        "id": "y0oO0ZTbHqDs"
      },
      "execution_count": null,
      "outputs": []
    },
    {
      "cell_type": "code",
      "source": [
        "# Assign values to a list of strings\n",
        "list1 = ['suresh', 'Kumar', 'Kumar']\n",
        "\n",
        "# Use the clear method to remove all elements from the list\n",
        "list1.clear()\n",
        "\n",
        "# Use the print method to display the updated list\n",
        "print(list1)\n"
      ],
      "metadata": {
        "id": "_h7MeNgbJ1LB"
      },
      "execution_count": null,
      "outputs": []
    },
    {
      "cell_type": "code",
      "source": [
        "# Assign string values to a list\n",
        "list1 = ['suresh', 'Kumar', 'Beekhani', 'Beekhani']\n",
        "\n",
        "# Use the index method to display the index of a specific element\n",
        "index_of_beekhani = list1.index('Beekhani')\n",
        "\n",
        "# Print the index\n",
        "print(index_of_beekhani)\n"
      ],
      "metadata": {
        "id": "n3S1uQ0IO4jV"
      },
      "execution_count": null,
      "outputs": []
    },
    {
      "cell_type": "code",
      "source": [
        "list1 = ['Ford', 'BMW', 'Volvo','beekhani']\n",
        "\n",
        "# Use the sort method to sort the list alphabetically\n",
        "list1.sort()\n",
        "\n",
        "# Print the sorted list\n",
        "print(list1)\n"
      ],
      "metadata": {
        "id": "W8Zn3osTPcpd"
      },
      "execution_count": null,
      "outputs": []
    },
    {
      "cell_type": "code",
      "source": [
        "#Assing int  Value list1\n",
        "list1=[4,3,2,1]\n",
        "#Use reverse Methed to list reverse Elements\n",
        "list1.reverse()\n",
        "#Print methed Use and Disply  Out\n",
        "print(list1)"
      ],
      "metadata": {
        "id": "DsEJW762PzPG"
      },
      "execution_count": null,
      "outputs": []
    },
    {
      "cell_type": "code",
      "source": [
        "thislist = [\"apple\", \"banana\", \"cherry\"]\n",
        "mylist = thislist.copy()\n",
        "print(mylist)\n"
      ],
      "metadata": {
        "id": "Ic6URm9XQtOG"
      },
      "execution_count": null,
      "outputs": []
    },
    {
      "cell_type": "code",
      "source": [
        "#Assing a value to list\n",
        "thislist = [\"apple\", \"banana\", \"cherry\"]\n",
        "\n",
        "# Use the copy method to create a copy of the list\n",
        "mylist = thislist.copy()\n",
        "\n",
        "# Print the copied list\n",
        "print(mylist)\n"
      ],
      "metadata": {
        "id": "B2pILClEQ_ub"
      },
      "execution_count": null,
      "outputs": []
    }
  ]
}