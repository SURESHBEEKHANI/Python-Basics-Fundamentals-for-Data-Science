{
 "cells": [
  {
   "cell_type": "markdown",
   "id": "33132d67",
   "metadata": {},
   "source": [
    "#### 1. What is Exception Handling?\n",
    "\n",
    "Exception handling allows programs to manage and respond to errors **gracefully** instead of crashing.\n",
    "\n",
    "🔐 It ensures the program can **continue running** even when unexpected situations occur, such as:\n",
    "- Trying to open a file that doesn't exist\n",
    "- Dividing a number by zero\n",
    "- Invalid user inputs\n",
    "\n",
    "Python uses `try`, `except`, `finally`, and `else` blocks to handle exceptions.\n"
   ]
  },
  {
   "cell_type": "markdown",
   "id": "67741df3",
   "metadata": {},
   "source": [
    "#### 2. Why Do We Need Exception Handling?\n",
    "\n",
    "Imagine you're using an ATM to withdraw money:\n",
    "\n",
    "- If you enter a **negative number**, the system **shouldn't crash**.\n",
    "- Instead, it should show a **helpful error message** like `'Invalid amount!'`\n",
    "\n",
    "🎯 **Purpose**:\n",
    "Exception handling ensures that the program:\n",
    "- Continues running even when errors occur\n",
    "- Gives clear, user-friendly messages\n",
    "- Avoids displaying confusing or technical error outputs to users\n"
   ]
  },
  {
   "cell_type": "markdown",
   "id": "5f47a45e",
   "metadata": {},
   "source": [
    "#### 3. Types of Errors in Python\n",
    "\n",
    "Python errors are broadly categorized into **two main types**:\n",
    "\n",
    "---\n",
    "\n",
    "### 🧱 1. Syntax Errors (Parsing Errors)\n",
    "\n",
    "- These occur when the Python interpreter **cannot understand the code** due to incorrect syntax.\n",
    "- They are detected **before the code is executed**.\n",
    "- Common causes include:\n",
    "  - Missing closing parentheses\n",
    "  - Incorrect indentation\n",
    "  - Misspelled or misused keywords\n",
    "\n",
    "📌 **Example**:\n",
    "```python\n",
    "# Missing closing parenthesis\n",
    "print(\"Hello, world!\"\n"
   ]
  },
  {
   "cell_type": "markdown",
   "id": "8dda520c",
   "metadata": {},
   "source": [
    "### ⚠️ 2. Runtime Errors (Exceptions)\n",
    "\n",
    "Runtime errors occur **during program execution**, even if the syntax is correct. These are also known as **exceptions**.\n",
    "\n",
    "They happen due to unforeseen circumstances, such as invalid operations or data.\n",
    "\n",
    "---\n",
    "\n",
    "#### 🧪 Common Examples:\n",
    "\n",
    "```python\n",
    "# 1. Division by zero\n",
    "x = 10 / 0  # Raises ZeroDivisionError\n",
    "\n",
    "# 2. Accessing an undefined variable\n",
    "print(name)  # Raises NameError\n",
    "\n",
    "# 3. Invalid type conversion\n",
    "int(\"abc\")  # Raises ValueError\n",
    "\n",
    "# 4. Accessing a file that doesn't exist\n",
    "with open(\"missing_file.txt\") as f:\n",
    "    content = f.read()  # Raises FileNotFoundError\n"
   ]
  },
  {
   "cell_type": "markdown",
   "id": "581877d2",
   "metadata": {},
   "source": [
    "\n",
    "\n",
    "Using `try-except`, we can handle **runtime errors** to prevent program crashes and display helpful error messages.\n",
    "\n",
    "However, **syntax errors** (like missing parentheses) must be fixed before the program can even run—they cannot be caught using `try-except`.\n",
    "\n",
    "---\n",
    "\n",
    "### 🧱 Example: Syntax Error\n",
    "\n",
    "```python\n",
    "# ❌ Syntax Error: Missing closing parenthesis\n",
    "print(\"Hello\"  \n"
   ]
  },
  {
   "cell_type": "code",
   "execution_count": 1,
   "id": "bf4e8f4e",
   "metadata": {},
   "outputs": [
    {
     "name": "stdout",
     "output_type": "stream",
     "text": [
      "10.0\n"
     ]
    }
   ],
   "source": [
    "try:\n",
    "    # Prompt the user to enter a number\n",
    "    num = int(input(\"Enter a number: \"))\n",
    "    \n",
    "    # Attempt to divide 10 by the entered number\n",
    "    print(10 / num)\n",
    "\n",
    "except ZeroDivisionError:\n",
    "    # Handle the case where the user enters zero\n",
    "    print(\"Error! You cannot divide by zero.\")\n"
   ]
  },
  {
   "cell_type": "markdown",
   "id": "a74c4e3c",
   "metadata": {},
   "source": [
    "#### 5. Handling Multiple Exceptions\n",
    "\n",
    "When different types of errors can occur, we can handle each separately using multiple `except` blocks."
   ]
  },
  {
   "cell_type": "code",
   "execution_count": 3,
   "id": "5f883377",
   "metadata": {},
   "outputs": [
    {
     "name": "stdout",
     "output_type": "stream",
     "text": [
      "Error: Invalid input. Please enter numeric values only.\n"
     ]
    }
   ],
   "source": [
    "try:\n",
    "    # Prompt the user to enter the first number\n",
    "    num1 = int(input('Enter first number: '))\n",
    "    \n",
    "    # Prompt the user to enter the second number\n",
    "    num2 = int(input('Enter second number: '))\n",
    "    \n",
    "    # Attempt to divide the first number by the second number\n",
    "    result = num1 / num2\n",
    "    \n",
    "    # Print the result of the division\n",
    "    print('Result:', result)\n",
    "\n",
    "except ZeroDivisionError:\n",
    "    # Handle division by zero\n",
    "    print(\"Error: Cannot divide by zero.\")\n",
    "\n",
    "except ValueError:\n",
    "    # Handle invalid input (e.g., entering text instead of a number)\n",
    "    print(\"Error: Invalid input. Please enter numeric values only.\")\n"
   ]
  },
  {
   "cell_type": "markdown",
   "id": "2c1d8c2e",
   "metadata": {},
   "source": [
    "### 6. Handling Generic Exceptions\n",
    "\n",
    "### Catching Any Exception\n",
    "\n",
    "Sometimes, we don't know which error might occur. In such cases, we can catch any exception using:\n",
    "\n",
    "```python\n",
    "except Exception as e:\n"
   ]
  },
  {
   "cell_type": "code",
   "execution_count": 4,
   "id": "f895b20b",
   "metadata": {},
   "outputs": [
    {
     "name": "stdout",
     "output_type": "stream",
     "text": [
      "An error occurred: invalid literal for int() with base 10: 'k'\n"
     ]
    }
   ],
   "source": [
    "try:\n",
    "    # Code that may raise an exception\n",
    "    num = int(input(\"Enter a number: \"))\n",
    "    \n",
    "    result = 10 / num\n",
    "    print(\"Result:\", result)\n",
    "\n",
    "except Exception as e:\n",
    "    # Handle any kind of exception and print the error message\n",
    "    print(\"An error occurred:\", e)\n"
   ]
  },
  {
   "cell_type": "markdown",
   "id": "6df9d0ed",
   "metadata": {},
   "source": [
    "#### 7. Using the `finally` Block\n",
    "\n",
    "The `finally` block is also a part of exception handling in Python. When we handle exceptions using the `try` and `except` blocks, we can include a `finally` block at the end.\n",
    "\n",
    "The code inside the `finally` block is **always executed**, whether an exception occurs or not. This makes it ideal for performing **cleanup tasks**, such as:\n",
    "- Closing file resources\n",
    "- Closing database connections\n",
    "- Displaying a final message\n",
    "\n",
    "### Example:\n",
    "\n",
    "```python\n",
    "try:\n",
    "    # Attempt to open the file in read mode\n",
    "    file = open(\"example\n"
   ]
  },
  {
   "cell_type": "code",
   "execution_count": 5,
   "id": "4dc4d319",
   "metadata": {},
   "outputs": [
    {
     "name": "stdout",
     "output_type": "stream",
     "text": [
      "File content: Overwritten content.\n",
      "New line added.\n",
      "Adding more content with r+ mode.\n",
      "Closing file...\n"
     ]
    }
   ],
   "source": [
    "try:\n",
    "    # Attempt to open the file in read mode\n",
    "    file = open(\"example.txt\", \"r\")\n",
    "    \n",
    "    # Read the content of the file\n",
    "    content = file.read()\n",
    "    print(\"File content:\", content)\n",
    "\n",
    "except FileNotFoundError:\n",
    "    # Handle the case where the file does not exist\n",
    "    print(\"File not found!\")\n",
    "\n",
    "finally:\n",
    "    # This block runs no matter what\n",
    "    print(\"Closing file...\")\n",
    "    try:\n",
    "        file.close()\n",
    "    except NameError:\n",
    "        pass  # File was never opened, so nothing to close\n"
   ]
  },
  {
   "cell_type": "markdown",
   "id": "062d2d3b",
   "metadata": {},
   "source": [
    "## 8. Raising Custom Exceptions\n",
    "\n",
    "### Creating Custom Exceptions\n",
    "\n",
    "We can define and raise our own exceptions using the `raise` keyword when specific conditions are not met.\n",
    "\n",
    "This is helpful for validating input or enforcing custom business logic.\n",
    "\n",
    "### Example:\n",
    "\n",
    "The following function raises a `ValueError` if a negative amount is entered:\n"
   ]
  },
  {
   "cell_type": "code",
   "execution_count": 7,
   "id": "4b05f22f",
   "metadata": {},
   "outputs": [
    {
     "name": "stdout",
     "output_type": "stream",
     "text": [
      "Error: Amount cannot be negative.\n"
     ]
    }
   ],
   "source": [
    "def withdraw(amount):\n",
    "    # Check if the amount is negative\n",
    "    if amount < 0:\n",
    "        # Raise a ValueError if the amount is negative\n",
    "        raise ValueError(\"Amount cannot be negative.\")\n",
    "    \n",
    "    # Print the withdrawal amount\n",
    "    print(f\"Withdrawing ${amount}\")\n",
    "try:\n",
    "    withdraw(-100)\n",
    "except ValueError as e:\n",
    "    # Handle the ValueError raised in the withdraw function\n",
    "    print(\"Error:\", e)\n"
   ]
  },
  {
   "cell_type": "markdown",
   "id": "d9d25bfc",
   "metadata": {},
   "source": [
    "## 9. Best Practices in Exception Handling\n",
    "\n",
    "Following best practices in exception handling helps create more robust, readable, and maintainable code.\n",
    "\n",
    "### ✅ Do's:\n",
    "- **Catch specific exceptions**  \n",
    "  Use exceptions like `ZeroDivisionError`, `ValueError`, etc., instead of using a generic `Exception`.\n",
    "\n",
    "- **Use `finally` for cleanup**  \n",
    "  Always use the `finally` block to release resources like files, database connections, or sockets.\n",
    "\n",
    "- **Keep `try` blocks small**  \n",
    "  Only include the code that might actually raise an exception inside the `try` block.\n",
    "\n",
    "- **Log errors instead of printing**  \n",
    "  Use the `logging` module instead of `print()` to record errors, especially in production environments.\n",
    "\n",
    "- **Create custom exceptions**  \n",
    "  Define your own exception classes when you need more specific error reporting.\n",
    "\n",
    "---\n",
    "\n",
    "### ❌ Don'ts:\n",
    "- **Avoid using `except:` without specifying an error type**  \n",
    "  This catches *all* exceptions, including system-exiting ones like `KeyboardInterrupt`, which can make debugging difficult.\n",
    "\n",
    "- **Don’t use empty `except` blocks**  \n",
    "  They silently swallow errors, making it hard to know what went wrong.\n",
    "\n",
    "- **Avoid putting too much code inside `try` blocks**  \n",
    "  It makes it harder to tell what line caused the exception.\n",
    "\n",
    "---\n",
    "\n",
    "### Example of a Good Exception Handling Pattern:\n",
    "\n",
    "```python\n",
    "import logging\n",
    "\n",
    "try:\n",
    "    value = int(input(\"Enter a number: \"))\n",
    "    result = 10 / value\n",
    "except ZeroDivisionError:\n",
    "    logging.error(\"Cannot divide by zero.\")\n",
    "except ValueError:\n",
    "    logging.error(\"Invalid input. Please enter a number.\")\n",
    "finally:\n",
    "    print(\"Operation complete.\")\n"
   ]
  }
 ],
 "metadata": {
  "kernelspec": {
   "display_name": "Python 3",
   "language": "python",
   "name": "python3"
  },
  "language_info": {
   "codemirror_mode": {
    "name": "ipython",
    "version": 3
   },
   "file_extension": ".py",
   "mimetype": "text/x-python",
   "name": "python",
   "nbconvert_exporter": "python",
   "pygments_lexer": "ipython3",
   "version": "3.10.16"
  }
 },
 "nbformat": 4,
 "nbformat_minor": 5
}
