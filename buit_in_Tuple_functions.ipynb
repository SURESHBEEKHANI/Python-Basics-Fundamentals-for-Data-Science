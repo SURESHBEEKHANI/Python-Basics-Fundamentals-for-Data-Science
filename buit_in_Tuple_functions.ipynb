{
  "nbformat": 4,
  "nbformat_minor": 0,
  "metadata": {
    "colab": {
      "private_outputs": true,
      "provenance": [],
      "name": "Python buit-in Tuple Methods .ipynb",
      "toc_visible": true
    },
    "kernelspec": {
      "name": "python3",
      "display_name": "Python 3"
    },
    "language_info": {
      "name": "python"
    }
  },
  "cells": [
    {
      "cell_type": "markdown",
      "source": [
        "Python buit-in Tuple Methods"
      ],
      "metadata": {
        "id": "B-C8wOE2UkD8"
      }
    },
    {
      "cell_type": "markdown",
      "source": [],
      "metadata": {
        "id": "U-Tn-Np8Uhlz"
      }
    },
    {
      "cell_type": "code",
      "execution_count": null,
      "metadata": {
        "id": "UUf1YGyxT3xo"
      },
      "outputs": [],
      "source": [
        "# Define a tuple named tuple1 with a sequence of integers\n",
        "tuple1 = (1, 3, 7, 8, 7, 5, 4, 6, 8, 5,5)\n",
        "tuple2 = (\"suresh kumar \")\n",
        "# Use the count() method to count the occurrences of the value 5 in the tuple\n",
        "x = tuple1.count(5)\n",
        "x2 = tuple2.count(\"s\")\n",
        "# Print the count of occurrences of the value 5 in the tuple\n",
        "print(x)\n",
        "print(x2)\n",
        "\n"
      ]
    },
    {
      "cell_type": "code",
      "source": [
        "# Define a tuple named thistuple with a sequence of integers\n",
        "thistuple = (1, 3, 7, 8, 7, 5, 4, 6, 8, 5)\n",
        "\n",
        "# Use the index() method to find the first occurrence of the value 8 in the tuple\n",
        "x = thistuple.index(8)\n",
        "\n",
        "# Print the index of the first occurrence of the value 8 in the tuple\n",
        "print(x)\n",
        "\n"
      ],
      "metadata": {
        "id": "Q9Pf_OolW3Y2"
      },
      "execution_count": null,
      "outputs": []
    }
  ]
}