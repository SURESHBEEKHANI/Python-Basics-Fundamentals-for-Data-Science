{
  "nbformat": 4,
  "nbformat_minor": 0,
  "metadata": {
    "colab": {
      "private_outputs": true,
      "provenance": [],
      "toc_visible": true,
      "authorship_tag": "ABX9TyPBpFjJdJgLN6DwltauPsc6",
      "include_colab_link": true
    },
    "kernelspec": {
      "name": "python3",
      "display_name": "Python 3"
    },
    "language_info": {
      "name": "python"
    }
  },
  "cells": [
    {
      "cell_type": "markdown",
      "metadata": {
        "id": "view-in-github",
        "colab_type": "text"
      },
      "source": [
        "<a href=\"https://colab.research.google.com/github/SURESHBEEKHANI/Python_Basic-/blob/main/Conditions_%26_Loops_in_Python.ipynb\" target=\"_parent\"><img src=\"https://colab.research.google.com/assets/colab-badge.svg\" alt=\"Open In Colab\"/></a>"
      ]
    },
    {
      "cell_type": "markdown",
      "source": [
        "**If Conditions & Loops in Python**\n",
        "\n",
        "Python Conditions and IF Statements\n",
        "Loops in python\n",
        "User defined Functions in python\n",
        "Python if statement\n",
        "In control statements, The if statement is the simplest form. It takes a condition and evaluates to either True or False.\n",
        "\n",
        "\n",
        "If the condition is True, then the True block of code will be executed, and if the condition is False, then the block of code is skipped, and The controller moves to the next line."
      ],
      "metadata": {
        "id": "5nApf0HyU1f1"
      }
    },
    {
      "cell_type": "markdown",
      "source": [
        "### Syntax:\n",
        "\n",
        "```python\n",
        "if(condition):\n",
        "    statement 1\n",
        "    statement 2\n",
        "    statement n\n",
        "```\n",
        "\n",
        "* An **`if`** statement should be preceded by the keyword **`if`** and ended with a colon **`:`**. The condition of an if statement can be written with or without round brackets **`()`**.\n",
        "\n",
        "* In Python, the body of the **`if`** statement is indicated by the indentation. The body starts with an indentation and the first unindented line marks the end.\n",
        "\n",
        "* Python interprets non-zero values as **`True`**. **`None`** and **`0`** are interpreted as **`False`**."
      ],
      "metadata": {
        "id": "UUJSwPTLVPxA"
      }
    },
    {
      "cell_type": "code",
      "execution_count": null,
      "metadata": {
        "id": "VYZyh6lnj7t7"
      },
      "outputs": [],
      "source": [
        "# Example 01: Using if Condition to Check Passing Marks\n",
        "\n",
        "# Taking input from the user for their exam marks\n",
        "user_input = int(input(\"Enter Your Marks: \"))\n",
        "\n",
        "# Using a single condition to check if the marks are greater than or equal to 40\n",
        "if user_input >= 40:\n",
        "    # Displaying a message indicating that the user has passed with a B grade\n",
        "    print(\"Congratulations! You scored\", user_input, \"marks and passed with a B grade.\")\n",
        "print(\"Code is Run\")\n"
      ]
    },
    {
      "cell_type": "code",
      "source": [
        "#Eammple 02  : Using If condition to check Paassing Marks\n",
        "#Taking input from the user for their exam marks\n",
        "user_input = int(input (\"Enter Your Marks: \"))\n",
        "\n",
        "#Using a single condition to Check if the marks are less then or equal to 39\n",
        "if user_input <=39:\n",
        "    print(\"Sorry Your Faile Try Next Your Marks is \",user_input)\n",
        "print(\"code is Run \")"
      ],
      "metadata": {
        "id": "5qiNXXW9XqFH"
      },
      "execution_count": null,
      "outputs": []
    }
  ]
}