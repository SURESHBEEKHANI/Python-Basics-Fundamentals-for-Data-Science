{
  "cells": [
    {
      "cell_type": "markdown",
      "metadata": {
        "id": "qDhriSb1FU1Z"
      },
      "source": [
        "#### **Introduction to Functions**\n",
        "\n",
        "To understand functions, let’s use an analogy. Imagine a chef in a restaurant who receives repeated orders for the same recipes. He has two choices:\n",
        "\n",
        "- **Option 1:** Each time he gets an order, he pulls out his recipe book, copies the steps, and starts cooking.  \n",
        "- **Option 2:** He writes the recipe once on a card and hangs it in the kitchen. Whenever he gets that order again, he simply follows the posted steps.\n",
        "\n",
        "Similarly, in Python, whenever you find yourself writing the same lines of code over and over to achieve the same result, you can define a **function**. You write it once, and then **call** it whenever you need it.\n",
        "\n",
        "---\n",
        "\n",
        "#### **Benefits of Functions**\n",
        "\n",
        "1. **Code Reusability**  \n",
        "   You don’t have to rewrite the same logic multiple times. Just call your function wherever it’s needed.\n",
        "\n",
        "2. **Concise, Clean, and Modular Code**  \n",
        "   Break complex tasks into smaller, named functions. Your main program becomes easier to read and maintain.\n",
        "\n",
        "3. **Error Reduction**  \n",
        "   Fewer repetitions mean fewer opportunities for typos or logic mistakes. Fix a bug once inside the function, and all calls benefit.\n",
        "\n",
        "---\n",
        "\n",
        "\n"
      ]
    },
    {
      "cell_type": "markdown",
      "metadata": {},
      "source": [
        "#### Types of Functions \n",
        "\n",
        " functions fall into two broad categories:\n",
        "\n",
        "1. **Built‑in Functions**  \n",
        "   These are provided by Python out of the box and cover many common tasks. You can use them without any import.  \n",
        "   **Examples:**  \n",
        "   - `print()` – display output to the console  \n",
        "   - `input()` – read a line of text from the user  \n",
        "   - `len()` – get the length of a sequence (string, list, tuple, etc.)  \n",
        "   - `max()` / `min()` – find the largest or smallest item in an iterable  \n",
        "   - `sorted()` – return a new, sorted list from an iterable  \n",
        "   - `range()` – generate a sequence of integers  \n",
        "\n",
        "   ```python\n",
        "   data = [3, 1, 4, 1, 5]\n",
        "   print(\"Max:\", max(data))           # Max: 5\n",
        "   print(\"Sorted:\", sorted(data))     # Sorted: [1, 1, 3, 4, 5]\n",
        "\n",
        "2.**User‑defined Functions**\n",
        "\n",
        "These are functions you create to encapsulate logic specific to your program. Defining your own functions helps keep your code DRY (Don’t Repeat Yourself) and organized.\n",
        "\n",
        "```python\n",
        "def greet(name):\n",
        "    \"\"\"Prints a personalized greeting.\"\"\"\n",
        "    print(f\"Hello, {name}! Welcome aboard.\")\n",
        "\n",
        "def calculate_area(radius):\n",
        "    \"\"\"Returns the area of a circle given its radius.\"\"\"\n",
        "    import math\n",
        "    return math.pi * radius ** 2\n",
        "\n",
        "# Calling the functions:\n",
        "greet(\"Alice\")                      # Hello, Alice! Welcome aboard.\n",
        "area = calculate_area(3)\n",
        "print(\"Area:\", area)                # Area: 28.274333882308138\n"
      ]
    },
    {
      "cell_type": "code",
      "execution_count": 1,
      "metadata": {
        "id": "XNmHD71AsYFg"
      },
      "outputs": [
        {
          "name": "stdout",
          "output_type": "stream",
          "text": [
            "Number 1:  1\n",
            "Number 2:  3\n",
            "Result:  4\n"
          ]
        }
      ],
      "source": [
        "# Define a function named 'add' with two parameters 'num1' and 'num2'\n",
        "def add(num1, num2):\n",
        "    # Use print method to display the values of 'num1' and 'num2'\n",
        "    print(\"Number 1: \", num1)\n",
        "    print(\"Number 2: \", num2)\n",
        "\n",
        "    # Assign a variable 'addition' and calculate the sum of 'num1' and 'num2'\n",
        "    addition = num1 + num2\n",
        "\n",
        "    # Use the 'return' statement to return the result of the addition\n",
        "    return addition\n",
        "\n",
        "# Call the 'add' function with parameter values 1 and 3\n",
        "res = add(1, 3)\n",
        "\n",
        "# Use print method to display the result\n",
        "print(\"Result: \", res)\n",
        "\n"
      ]
    },
    {
      "cell_type": "code",
      "execution_count": 2,
      "metadata": {
        "id": "AM-DIs_o8Dpe"
      },
      "outputs": [
        {
          "name": "stdout",
          "output_type": "stream",
          "text": [
            "Hello, how are you?\n"
          ]
        }
      ],
      "source": [
        "# Define a function named 'geet' with no parameters\n",
        "def geet():\n",
        "    # Add a statement to print a greeting message\n",
        "    print('Hello, how are you?')\n",
        "\n",
        "# Assign a variable 'result' and call the 'geet' function\n",
        "output = geet()\n"
      ]
    },
    {
      "cell_type": "code",
      "execution_count": 3,
      "metadata": {
        "id": "bmV0wQ7mBnAc"
      },
      "outputs": [
        {
          "name": "stdout",
          "output_type": "stream",
          "text": [
            "70\n"
          ]
        }
      ],
      "source": [
        "# Define a function named 'add_numbers' with no parameters\n",
        "def add_numbers():\n",
        "    # Set the first number to 20\n",
        "    first_number = 20\n",
        "    # Set the second number to 40\n",
        "    second_number = 40\n",
        "    # Add the two numbers and save the result\n",
        "    addition_result = first_number + second_number\n",
        "    # Add 10 to the result\n",
        "    addition_result += 10\n",
        "    # Return the final result\n",
        "    return addition_result\n",
        "\n",
        "# Call the function and store the result in the 'result' variable\n",
        "result = add_numbers()\n",
        "# Print the final result\n",
        "print(result)"
      ]
    },
    {
      "cell_type": "code",
      "execution_count": 4,
      "metadata": {
        "id": "_iRSItymFo_m"
      },
      "outputs": [
        {
          "name": "stdout",
          "output_type": "stream",
          "text": [
            "74\n"
          ]
        }
      ],
      "source": [
        "#Function is you cell any loction in Whole code\n",
        "# Add the results of both functions together\n",
        "output = res + result\n",
        "\n",
        "# Print the combined result\n",
        "print(output)"
      ]
    },
    {
      "cell_type": "code",
      "execution_count": 5,
      "metadata": {
        "id": "elqXajwVFo8m"
      },
      "outputs": [
        {
          "name": "stdout",
          "output_type": "stream",
          "text": [
            "55\n",
            "1275\n"
          ]
        }
      ],
      "source": [
        "# Example 2: Calculate the sum of numbers up to the specified limit or range\n",
        "\n",
        "# Define a function with one parameter named 'limit'\n",
        "def calculate_sum_up_to_limit(limit):\n",
        "    # Initialize a variable named 'total_sum' with a value of 0\n",
        "    total_sum = 0\n",
        "\n",
        "    # Use a for loop to iterate through values from 0 to the 'limit' parameter (inclusive)\n",
        "    for i in range(limit + 1):\n",
        "        # Add the current value of 'i' to the 'total_sum' variable\n",
        "        total_sum += i\n",
        "\n",
        "    # Return the final calculated sum\n",
        "    return total_sum\n",
        "\n",
        "# Call the function with a limit of 10 and store the result in 'result1'\n",
        "result1 = calculate_sum_up_to_limit(10)\n",
        "\n",
        "# Call the function with a limit of 50 and store the result in 'result2'\n",
        "result2 = calculate_sum_up_to_limit(50)\n",
        "\n",
        "# Display the results\n",
        "print(result1)\n",
        "print(result2)\n"
      ]
    },
    {
      "cell_type": "markdown",
      "metadata": {
        "id": "70DI5EWN-_UT"
      },
      "source": [
        "Define a Python function named calculate_area that takes two parameters, length and width, and calculates the area of a rectangle. The function should return the calculated area. After defining the function, call it with length=5 and width=8, and print the result.\n",
        "\n",
        "Feel free to modify the question based on your sp"
      ]
    },
    {
      "cell_type": "code",
      "execution_count": 6,
      "metadata": {
        "id": "Nm6kolqI-K3m"
      },
      "outputs": [
        {
          "name": "stdout",
          "output_type": "stream",
          "text": [
            "The area of the rectangle is: 2500\n"
          ]
        }
      ],
      "source": [
        "# Define a function named calculate_area with two parameters: length and width\n",
        "def calculate_area(length, width):\n",
        "    # Assign a variable named area and use the multiplication operator to calculate area by multiplying length and width\n",
        "    area = length * width\n",
        "    # Use the return statement to send the calculated area value back from the function\n",
        "    return area\n",
        "\n",
        "# Call the calculate_area function with length 50 and width 50, and assign the result to a variable named result\n",
        "result = calculate_area(50, 50)\n",
        "\n",
        "# Use the print statement to display the result with a message\n",
        "print(f\"The area of the rectangle is: {result}\")\n"
      ]
    },
    {
      "cell_type": "code",
      "execution_count": 7,
      "metadata": {
        "id": "IZ_LCUheHyzr"
      },
      "outputs": [
        {
          "name": "stdout",
          "output_type": "stream",
          "text": [
            "SURESHKumar\n"
          ]
        }
      ],
      "source": [
        "#Define the cell Function and generate  full name\n",
        "#Define function name is generate full name\n",
        "def generate_the_full_name():\n",
        "  #Assing string value to first_name varible\n",
        "    first_name=\"SURESH\"\n",
        "  #Assing staring value to List name Virble\n",
        "    list_name =\"Kumar\"\n",
        "  #Assing space varible value Assing staring\n",
        "    space = ''\n",
        "  #add the the string two value\n",
        "    full_name = first_name + space + list_name\n",
        "    #Define return function and collect  Out Put\n",
        "    return full_name\n",
        "#Cell the function give the Out\n",
        "result=generate_the_full_name()\n",
        "print(result)"
      ]
    },
    {
      "cell_type": "code",
      "execution_count": 8,
      "metadata": {
        "id": "c2rSQ2uqDs9X"
      },
      "outputs": [
        {
          "name": "stdout",
          "output_type": "stream",
          "text": [
            "Hello Suresh, Welcome to Python for Artificial Intelligence \n",
            "Your Course Name Is Python Basics \n"
          ]
        }
      ],
      "source": [
        "# Define a function with parameters\n",
        "def welcome_participant(student, course_title):\n",
        "    \"\"\"\n",
        "    This function generates a welcome message for a participant in a Python Data Science course.\n",
        "    \"\"\"\n",
        "    print(\"Hello\", student + \", Welcome to Python for Artificial Intelligence \")\n",
        "    print(\"Your Course Name Is\", course_title)\n",
        "\n",
        "# Call the function with specific arguments\n",
        "Result = welcome_participant('Suresh', 'Python Basics ')\n"
      ]
    }
  ],
  "metadata": {
    "colab": {
      "authorship_tag": "ABX9TyOfAAQGRgeQmb2y+yx1SX3n",
      "include_colab_link": true,
      "private_outputs": true,
      "provenance": [],
      "toc_visible": true
    },
    "kernelspec": {
      "display_name": "Python 3",
      "name": "python3"
    },
    "language_info": {
      "codemirror_mode": {
        "name": "ipython",
        "version": 3
      },
      "file_extension": ".py",
      "mimetype": "text/x-python",
      "name": "python",
      "nbconvert_exporter": "python",
      "pygments_lexer": "ipython3",
      "version": "3.10.16"
    }
  },
  "nbformat": 4,
  "nbformat_minor": 0
}
