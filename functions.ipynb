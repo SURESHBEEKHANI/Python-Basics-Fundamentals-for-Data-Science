{
  "cells": [
    {
      "cell_type": "markdown",
      "metadata": {
        "id": "qDhriSb1FU1Z"
      },
      "source": [
        "#### **What is a Function in Python?**\n",
        "\n",
        "A **function** is a block of reusable code that performs a specific task. Instead of writing the same instructions multiple times, we define a function once and call it whenever needed.\n",
        "\n",
        "---\n",
        "\n",
        "##### **Key Components of a Function Definition:**\n",
        "\n",
        "1. **`def`** – A keyword that marks the beginning of the function definition.  \n",
        "2. **`function_name`** – A unique name to identify the function.  \n",
        "3. **Parameters (optional)** – Values passed to the function for processing.  \n",
        "4. **Colon (`:`)** – Indicates the end of the function header.  \n",
        "5. **Function Body** – The block of code containing the logic or instructions the function executes.  \n",
        "6. **Docstring (`\"\"\" \"\"\"`)** – A descriptive string that explains what the function does (optional but recommended).  \n",
        "7. **`return` (optional)** – Sends a result back to the caller of the function.\n",
        "\n",
        "---\n",
        "\n",
        "\n",
        "To understand functions, let’s use an analogy. Imagine a chef in a restaurant who receives repeated orders for the same recipes. He has two choices:\n",
        "\n",
        "- **Option 1:** Each time he gets an order, he pulls out his recipe book, copies the steps, and starts cooking.  \n",
        "- **Option 2:** He writes the recipe once on a card and hangs it in the kitchen. Whenever he gets that order again, he simply follows the posted steps.\n",
        "\n",
        "Similarly, in Python, whenever you find yourself writing the same lines of code over and over to achieve the same result, you can define a **function**. You write it once, and then **call** it whenever you need it.\n",
        "\n",
        "---\n",
        "\n",
        "#### **Benefits of Functions**\n",
        "\n",
        "1. **Code Reusability**  \n",
        "   You don’t have to rewrite the same logic multiple times. Just call your function wherever it’s needed.\n",
        "\n",
        "2. **Concise, Clean, and Modular Code**  \n",
        "   Break complex tasks into smaller, named functions. Your main program becomes easier to read and maintain.\n",
        "\n",
        "3. **Error Reduction**  \n",
        "   Fewer repetitions mean fewer opportunities for typos or logic mistakes. Fix a bug once inside the function, and all calls benefit.\n",
        "\n",
        "---\n",
        "\n",
        "### ✅ **Quick Summary of a Python Function**\n",
        "\n",
        "- **Definition starts with**: `def`  \n",
        "- **Has a name**, optionally takes **parameters**  \n",
        "- **Contains logic/code** in the **body**  \n",
        "- Can optionally include a **docstring** and/or **return** a value  \n",
        "- Is **called** whenever needed to reuse the logic\n",
        "\n",
        "---"
      ]
    },
    {
      "cell_type": "markdown",
      "metadata": {},
      "source": [
        "#### **Types of Functions**\n",
        "\n",
        "Functions fall into two broad categories:\n",
        "\n",
        "1. **Built‑in Functions**  \n",
        "   These are provided by Python out of the box and cover many common tasks. You can use them without any import.  \n",
        "   **Examples:**  \n",
        "   - `print()` – display output to the console  \n",
        "   - `input()` – read a line of text from the user  \n",
        "   - `len()` – get the length of a sequence (string, list, tuple, etc.)  \n",
        "   - `max()` / `min()` – find the largest or smallest item in an iterable  \n",
        "   - `sorted()` – return a new, sorted list from an iterable  \n",
        "   - `range()` – generate a sequence of integers  \n",
        "\n",
        "2. **User Defined Functions**  \n",
        "   These are functions that you create to perform specific tasks that are not covered by built-in functions.  \n",
        "   You define them using the `def` keyword.  \n",
        "   \n",
        "   **Example:**\n",
        "   ```python\n",
        "   def greet(name):\n",
        "       \"\"\"Greets the user with their name.\"\"\"\n",
        "       print(f\"Hello, {name}!\")"
      ]
    },
    {
      "cell_type": "code",
      "execution_count": 1,
      "metadata": {
        "id": "XNmHD71AsYFg"
      },
      "outputs": [
        {
          "name": "stdout",
          "output_type": "stream",
          "text": [
            "Number 1:  1\n",
            "Number 2:  3\n",
            "Result:  4\n"
          ]
        }
      ],
      "source": [
        "# Define a function named 'add' with two parameters 'num1' and 'num2'\n",
        "def add(num1, num2):\n",
        "    \"\"\" This function adds two numbers and returns the result \"\"\"\n",
        "    # Use print method to display the values of 'num1' and 'num2'\n",
        "    print(\"Number 1: \", num1)\n",
        "    print(\"Number 2: \", num2)\n",
        "\n",
        "    # Assign a variable 'addition' and calculate the sum of 'num1' and 'num2'\n",
        "    addition = num1 + num2\n",
        "\n",
        "    # Use the 'return' statement to return the result of the addition\n",
        "    return addition\n",
        "\n",
        "# Call the 'add' function with parameter values 1 and 3\n",
        "res = add(1, 3)\n",
        "\n",
        "# Use print method to display the result\n",
        "print(\"Result: \", res)\n",
        "\n"
      ]
    },
    {
      "cell_type": "code",
      "execution_count": 2,
      "metadata": {
        "id": "AM-DIs_o8Dpe"
      },
      "outputs": [
        {
          "name": "stdout",
          "output_type": "stream",
          "text": [
            "Hello, how are you?\n"
          ]
        }
      ],
      "source": [
        "# Define a function named 'geet' with no parameters\n",
        "def geet():\n",
        "    # Add a statement to print a greeting message\n",
        "    print('Hello, how are you?')\n",
        "\n",
        "# Assign a variable 'result' and call the 'geet' function\n",
        "output = geet()\n"
      ]
    },
    {
      "cell_type": "code",
      "execution_count": 3,
      "metadata": {
        "id": "bmV0wQ7mBnAc"
      },
      "outputs": [
        {
          "name": "stdout",
          "output_type": "stream",
          "text": [
            "70\n"
          ]
        }
      ],
      "source": [
        "# Define a function named 'add_numbers' with no parameters\n",
        "def add_numbers():\n",
        "    # Set the first number to 20\n",
        "    first_number = 20\n",
        "    # Set the second number to 40\n",
        "    second_number = 40\n",
        "    # Add the two numbers and save the result\n",
        "    addition_result = first_number + second_number\n",
        "    # Add 10 to the result\n",
        "    addition_result += 10\n",
        "    # Return the final result\n",
        "    return addition_result\n",
        "\n",
        "# Call the function and store the result in the 'result' variable\n",
        "result = add_numbers()\n",
        "# Print the final result\n",
        "print(result)"
      ]
    },
    {
      "cell_type": "code",
      "execution_count": 4,
      "metadata": {
        "id": "elqXajwVFo8m"
      },
      "outputs": [
        {
          "name": "stdout",
          "output_type": "stream",
          "text": [
            "55\n",
            "1275\n"
          ]
        }
      ],
      "source": [
        "# Example 2: Calculate the sum of numbers up to the specified limit or range\n",
        "\n",
        "# Define a function with one parameter named 'limit'\n",
        "def calculate_sum_up_to_limit(limit):\n",
        "    # Initialize a variable named 'total_sum' with a value of 0\n",
        "    total_sum = 0\n",
        "\n",
        "    # Use a for loop to iterate through values from 0 to the 'limit' parameter (inclusive)\n",
        "    for i in range(limit + 1):\n",
        "        # Add the current value of 'i' to the 'total_sum' variable\n",
        "        total_sum += i\n",
        "\n",
        "    # Return the final calculated sum\n",
        "    return total_sum\n",
        "\n",
        "# Call the function with a limit of 10 and store the result in 'result1'\n",
        "result1 = calculate_sum_up_to_limit(10)\n",
        "\n",
        "# Call the function with a limit of 50 and store the result in 'result2'\n",
        "result2 = calculate_sum_up_to_limit(50)\n",
        "\n",
        "# Display the results\n",
        "print(result1)\n",
        "print(result2)\n"
      ]
    },
    {
      "cell_type": "code",
      "execution_count": 5,
      "metadata": {
        "id": "Nm6kolqI-K3m"
      },
      "outputs": [
        {
          "name": "stdout",
          "output_type": "stream",
          "text": [
            "The area of the rectangle is: 2500\n"
          ]
        }
      ],
      "source": [
        "# Define a function named calculate_area with two parameters: length and width\n",
        "def calculate_area(length, width):\n",
        "    # Assign a variable named area and use the multiplication operator to calculate area by multiplying length and width\n",
        "    area = length * width\n",
        "    # Use the return statement to send the calculated area value back from the function\n",
        "    return area\n",
        "\n",
        "# Call the calculate_area function with length 50 and width 50, and assign the result to a variable named result\n",
        "result = calculate_area(50, 50)\n",
        "\n",
        "# Use the print statement to display the result with a message\n",
        "print(f\"The area of the rectangle is: {result}\")\n"
      ]
    },
    {
      "cell_type": "code",
      "execution_count": 6,
      "metadata": {
        "id": "IZ_LCUheHyzr"
      },
      "outputs": [
        {
          "name": "stdout",
          "output_type": "stream",
          "text": [
            "SURESHKumar\n"
          ]
        }
      ],
      "source": [
        "#Define the cell Function and generate  full name\n",
        "#Define function name is generate full name\n",
        "def generate_the_full_name():\n",
        "  #Assing string value to first_name varible\n",
        "    first_name=\"SURESH\"\n",
        "  #Assing staring value to List name Virble\n",
        "    list_name =\"Kumar\"\n",
        "  #Assing space varible value Assing staring\n",
        "    space = ''\n",
        "  #add the the string two value\n",
        "    full_name = first_name + space + list_name\n",
        "    #Define return function and collect  Out Put\n",
        "    return full_name\n",
        "#Cell the function give the Out\n",
        "result=generate_the_full_name()\n",
        "print(result)"
      ]
    },
    {
      "cell_type": "code",
      "execution_count": 7,
      "metadata": {
        "id": "c2rSQ2uqDs9X"
      },
      "outputs": [
        {
          "name": "stdout",
          "output_type": "stream",
          "text": [
            "Hello Suresh, Welcome to Python for Artificial Intelligence \n",
            "Your Course Name Is Python Basics \n"
          ]
        }
      ],
      "source": [
        "# Define a function with parameters\n",
        "def welcome_participant(student, course_title):\n",
        "    \"\"\"\n",
        "    This function generates a welcome message for a participant in a Python Data Science course.\n",
        "    \"\"\"\n",
        "    print(\"Hello\", student + \", Welcome to Python for Artificial Intelligence \")\n",
        "    print(\"Your Course Name Is\", course_title)\n",
        "\n",
        "# Call the function with specific arguments\n",
        "Result = welcome_participant('Suresh', 'Python Basics ')\n"
      ]
    },
    {
      "cell_type": "markdown",
      "metadata": {},
      "source": [
        "#### **Function Arguments and Return Statement**\n",
        "\n",
        "Function arguments allow us to pass values into a function, making it more flexible and reusable. There are four types of arguments:\n",
        "\n",
        "1. **Default Arguments**: These are arguments that take a default value if no argument value is passed during the function call.\n",
        "   \n",
        "2. **Keyword Arguments**: These are identified by the parameter names during the function call, allowing arguments to be passed in any order.\n",
        "\n",
        "3. **Required Arguments**: These arguments must be passed during the function call because they have no default values.\n",
        "\n",
        "4. **Variable-Length Arguments**: These allow us to pass a variable number of arguments to a function. There are two types:\n",
        "   - *Non-keyword variable-length arguments* (e.g., `*args`): These are used when the number of arguments is not known in advance.\n",
        "   - *Keyword variable-length arguments* (e.g., `**kwargs`): These allow us to handle named arguments that are not explicitly defined in the function signature.\n",
        "\n"
      ]
    },
    {
      "cell_type": "code",
      "execution_count": 12,
      "metadata": {},
      "outputs": [
        {
          "name": "stdout",
          "output_type": "stream",
          "text": [
            "Hello any Suresh Kumar\n"
          ]
        }
      ],
      "source": [
        "# Function definition with default arguments for mname and lname\n",
        "def name(fname, mname=\"Suresh\", lname=\"Kumar\"):\n",
        "    \"\"\"\n",
        "    This function generates a welcome message for a participant in a Python Data Science course.\n",
        "    \n",
        "    Parameters:\n",
        "    fname (str): First name of the participant (required).\n",
        "    mname (str): Middle name of the participant (default is \"Suresh\").\n",
        "    lname (str): Last name of the participant (default is \"Kumar\").\n",
        "    \"\"\"\n",
        "    # Printing the full welcome message\n",
        "    print(\"Hello\", fname, mname, lname)\n",
        "\n",
        "# Function call using only the required argument (fname)\n",
        "# Since mname and lname are not provided, default values will be used\n",
        "name(\"any\")"
      ]
    },
    {
      "cell_type": "code",
      "execution_count": 11,
      "metadata": {},
      "outputs": [
        {
          "name": "stdout",
          "output_type": "stream",
          "text": [
            "Hello Suresh Kumar Beekhani\n"
          ]
        }
      ],
      "source": [
        "def name(fname, mname, lname):\n",
        "    \"\"\"\n",
        "    This function generates a welcome message for a participant in a Python Data Science course.\n",
        "    \n",
        "    Parameters:\n",
        "    fname (str): First name of the participant.\n",
        "    mname (str): Middle name of the participant.\n",
        "    lname (str): Last name of the participant.\n",
        "    \"\"\"\n",
        "    print(\"Hello\", fname, mname, lname)\n",
        "    \n",
        "# Example usage:\n",
        "name(\"Suresh\", \"Kumar\", \"Beekhani\")"
      ]
    },
    {
      "cell_type": "code",
      "execution_count": 13,
      "metadata": {},
      "outputs": [
        {
          "name": "stdout",
          "output_type": "stream",
          "text": [
            "Hello Ramu Sohan John\n"
          ]
        }
      ],
      "source": [
        "# Function with *args (Tuple of Arguments)\n",
        "def name(*args):\n",
        "    print(\"Hello\", args[0], args[1], args[2])\n",
        "\n",
        "name(\"Ramu\", \"Sohan\", \"John\")"
      ]
    },
    {
      "cell_type": "code",
      "execution_count": 14,
      "metadata": {},
      "outputs": [
        {
          "name": "stdout",
          "output_type": "stream",
          "text": [
            "Hello, Ravi Suresh Kumar\n"
          ]
        }
      ],
      "source": [
        "# A function for using full name\n",
        "def name(fname, mname, lname):\n",
        "    return \"Hello, \" + fname + \" \" + mname + \" \" + lname\n",
        "\n",
        "# Calling the function and printing result\n",
        "print(name(\"Ravi\", \"Suresh\", \"Kumar\"))\n",
        "# Function with **kwargs (Dictionary of Arguments)"
      ]
    }
  ],
  "metadata": {
    "colab": {
      "authorship_tag": "ABX9TyOfAAQGRgeQmb2y+yx1SX3n",
      "include_colab_link": true,
      "private_outputs": true,
      "provenance": [],
      "toc_visible": true
    },
    "kernelspec": {
      "display_name": "Python 3",
      "name": "python3"
    },
    "language_info": {
      "codemirror_mode": {
        "name": "ipython",
        "version": 3
      },
      "file_extension": ".py",
      "mimetype": "text/x-python",
      "name": "python",
      "nbconvert_exporter": "python",
      "pygments_lexer": "ipython3",
      "version": "3.10.16"
    }
  },
  "nbformat": 4,
  "nbformat_minor": 0
}
