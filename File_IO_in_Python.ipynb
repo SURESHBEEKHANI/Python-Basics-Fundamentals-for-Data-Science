{
 "cells": [
  {
   "cell_type": "markdown",
   "id": "602c3bd6",
   "metadata": {},
   "source": [
    "#### **3. Opening and Closing Files in Python**\n",
    "\n",
    "To work with files in Python, we use the `open()` function.\n",
    "\n",
    "### 🔤 Syntax:\n",
    "```python\n",
    "file = open('filename.txt', 'mode')\n",
    "# Perform operations on the file\n",
    "file.close()\n"
   ]
  },
  {
   "cell_type": "markdown",
   "id": "80cd34e1",
   "metadata": {},
   "source": [
    "### **✅ Always close the file after opening it to free up system resources!**"
   ]
  },
  {
   "cell_type": "code",
   "execution_count": 2,
   "id": "f4af7a7c",
   "metadata": {},
   "outputs": [],
   "source": [
    "# Open the file 'example.txt' in write mode ('w')\n",
    "# If the file doesn't exist, it will be created.\n",
    "# If it does exist, its contents will be overwritten.\n",
    "file = open('example.txt', 'w')\n",
    "\n",
    "# Write a line of text into the file\n",
    "file.write('Hello, this is a sample file sk beekhani!')\n",
    "\n",
    "# Close the file to ensure data is saved and resources are released\n",
    "file.close()"
   ]
  },
  {
   "cell_type": "markdown",
   "id": "7a7c8024",
   "metadata": {},
   "source": [
    "### **4. Reading from and Writing to Files**\n",
    "\n",
    "We can use different **modes** while working with files:\n",
    "\n",
    "- `'r'` → **Read mode** (default)\n",
    "- `'w'` → **Write mode** (creates a new file or overwrites an existing one)\n",
    "- `'a'` → **Append mode** (adds data without deleting existing content)\n",
    "- `'r+'` → **Read and write mode**\n",
    "\n",
    "---\n",
    "\n",
    "### **✍️ Example: Writing and Reading a File in Python**"
   ]
  },
  {
   "cell_type": "markdown",
   "id": "6d05dd33",
   "metadata": {},
   "source": [
    "#### 📘 Example: Read Mode (`'r'`)\n",
    "\n",
    "**Read Mode** (`'r'`) opens a file for reading.  \n",
    "⚠️ The file **must exist**, otherwise a `FileNotFoundError` will be raised.\n"
   ]
  },
  {
   "cell_type": "code",
   "execution_count": 4,
   "id": "b4c45857",
   "metadata": {},
   "outputs": [
    {
     "name": "stdout",
     "output_type": "stream",
     "text": [
      "File Content: Hello, this is a sample file sk beekhani!\n"
     ]
    }
   ],
   "source": [
    "# Now, let's open the file in read mode ('r') to read its contents\n",
    "try:\n",
    "    with open('example.txt', 'r') as file:\n",
    "        content = file.read()\n",
    "        print('File Content:', content)\n",
    "except FileNotFoundError:\n",
    "    print('Error: The file does not exist!')\n"
   ]
  },
  {
   "cell_type": "markdown",
   "id": "c13c7e7d",
   "metadata": {},
   "source": [
    "#### ✍️ Example: Write Mode (`'w'`)\n",
    "\n",
    "**Write Mode** (`'w'`) opens a file for writing.  \n",
    "- If the file exists, it **overwrites** the content.  \n",
    "- If it doesn't exist, a **new file is created**."
   ]
  },
  {
   "cell_type": "code",
   "execution_count": 5,
   "id": "54c36dbc",
   "metadata": {},
   "outputs": [
    {
     "name": "stdout",
     "output_type": "stream",
     "text": [
      "File written successfully.\n"
     ]
    }
   ],
   "source": [
    "\n",
    "try:\n",
    "    with open('example.txt', 'w') as file:\n",
    "        file.write(\"This content will overwrite any existing text.\")\n",
    "        print(\"File written successfully.\")\n",
    "except IOError:\n",
    "    print(\"Error: Unable to write to the file.\")\n"
   ]
  },
  {
   "cell_type": "markdown",
   "id": "dd41625d",
   "metadata": {},
   "source": [
    "####  ➕ Example: Append Mode (`'a'`)\n",
    "\n",
    "**Append Mode** (`'a'`) opens a file for appending.  \n",
    "- If the file exists, new content is **added to the end** without deleting existing content.  \n",
    "- If the file doesn't exist, it will be **created**."
   ]
  },
  {
   "cell_type": "code",
   "execution_count": 6,
   "id": "868816b2",
   "metadata": {},
   "outputs": [
    {
     "name": "stdout",
     "output_type": "stream",
     "text": [
      "Content appended successfully.\n"
     ]
    }
   ],
   "source": [
    "try:\n",
    "    with open('example.txt', 'a') as file:\n",
    "        file.write(\"\\nThis line is added using append mode.\")\n",
    "        print(\"Content appended successfully.\")\n",
    "except IOError:\n",
    "    print(\"Error: Unable to append to the file.\")\n"
   ]
  },
  {
   "cell_type": "code",
   "execution_count": 8,
   "id": "995588eb",
   "metadata": {},
   "outputs": [
    {
     "name": "stdout",
     "output_type": "stream",
     "text": [
      "This content will overwrite any existing text.\n",
      "This line is added using append mode.\n",
      "Overwritten content.\n",
      "New line added.\n"
     ]
    }
   ],
   "source": [
    "# Read mode\n",
    "with open('example.txt', 'r') as f:\n",
    "    print(f.read())\n",
    "\n",
    "# Write mode\n",
    "with open('example.txt', 'w') as f:\n",
    "    f.write(\"Overwritten content.\")\n",
    "\n",
    "# Append mode\n",
    "with open('example.txt', 'a') as f:\n",
    "    f.write(\"\\nNew line added.\")\n",
    "\n",
    "# Read and Write mode\n",
    "with open('example.txt', 'r+') as f:\n",
    "    print(f.read())\n",
    "    f.write(\"\\nAdding more content with r+ mode.\")\n"
   ]
  },
  {
   "cell_type": "markdown",
   "id": "03283591",
   "metadata": {},
   "source": [
    "#### 5. Working with JSON Files in Python\n",
    "\n",
    "JSON (JavaScript Object Notation) is a popular format for storing and exchanging data. Python provides a built-in `json` module to handle JSON files easily.\n",
    "\n",
    "### Example: Storing and Loading Data Using JSON Files\n"
   ]
  },
  {
   "cell_type": "code",
   "execution_count": 11,
   "id": "40ae465e",
   "metadata": {},
   "outputs": [
    {
     "name": "stdout",
     "output_type": "stream",
     "text": [
      "Data has been written to 'data.json'.\n",
      "Data loaded from 'data.json': {'name': 'Suresh', 'age': 25, 'city': 'Lahore'}\n"
     ]
    }
   ],
   "source": [
    "\n",
    "import json\n",
    "\n",
    "# Sample dictionary\n",
    "data = {'name': 'Suresh', 'age': 25, 'city': 'Lahore'}\n",
    "\n",
    "# Writing data to a JSON file\n",
    "with open('data.json', 'w') as file:\n",
    "    json.dump(data, file)  # Convert dictionary to JSON and write to file\n",
    "\n",
    "print(\"Data has been written to 'data.json'.\")\n",
    "\n",
    "# Reading data from a JSON file\n",
    "with open('data.json', 'r') as file:\n",
    "    loaded_data = json.load(file)  # Read JSON data from file and convert to dictionary\n",
    "    print(\"Data loaded from 'data.json':\", loaded_data)"
   ]
  },
  {
   "cell_type": "markdown",
   "id": "6b4a1fbe",
   "metadata": {},
   "source": [
    "#### 6. Handling File Exceptions\n",
    "\n",
    "Sometimes, errors occur while working with files. For example:\n",
    "- The file does not exist.\n",
    "- The program lacks permission to read/write.\n",
    "- The file is already in use by another program.\n",
    "\n",
    "To handle these issues, we can use the `try-except` block to catch and handle file-related exceptions.\n",
    "\n",
    "##### Example: Handling File Not Found and Permission Errors\n"
   ]
  },
  {
   "cell_type": "code",
   "execution_count": 12,
   "id": "98796842",
   "metadata": {},
   "outputs": [
    {
     "name": "stdout",
     "output_type": "stream",
     "text": [
      "Error: The file does not exist!\n"
     ]
    }
   ],
   "source": [
    "try:\n",
    "    with open('non_existent_file.txt', 'r') as file:\n",
    "        content = file.read()\n",
    "        print(content)\n",
    "\n",
    "except FileNotFoundError:\n",
    "    print(\"Error: The file does not exist!\")\n"
   ]
  }
 ],
 "metadata": {
  "kernelspec": {
   "display_name": "Python 3",
   "language": "python",
   "name": "python3"
  },
  "language_info": {
   "codemirror_mode": {
    "name": "ipython",
    "version": 3
   },
   "file_extension": ".py",
   "mimetype": "text/x-python",
   "name": "python",
   "nbconvert_exporter": "python",
   "pygments_lexer": "ipython3",
   "version": "3.10.16"
  }
 },
 "nbformat": 4,
 "nbformat_minor": 5
}
