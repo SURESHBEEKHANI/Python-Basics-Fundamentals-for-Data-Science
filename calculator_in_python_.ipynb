{
  "nbformat": 4,
  "nbformat_minor": 0,
  "metadata": {
    "colab": {
      "private_outputs": true,
      "provenance": [],
      "name": "calculator_in python .ipynb",
      "authorship_tag": "ABX9TyOOa7vUYOa1/fJDZPBCaVpZ",
      "include_colab_link": true
    },
    "kernelspec": {
      "name": "python3",
      "display_name": "Python 3"
    },
    "language_info": {
      "name": "python"
    }
  },
  "cells": [
    {
      "cell_type": "markdown",
      "metadata": {
        "id": "view-in-github",
        "colab_type": "text"
      },
      "source": [
        "<a href=\"https://colab.research.google.com/github/SURESHBEEKHANI/Python_Basic-/blob/main/calculator_in_python_.ipynb\" target=\"_parent\"><img src=\"https://colab.research.google.com/assets/colab-badge.svg\" alt=\"Open In Colab\"/></a>"
      ]
    },
    {
      "cell_type": "code",
      "execution_count": null,
      "metadata": {
        "id": "AulxbTlbln53"
      },
      "outputs": [],
      "source": [
        "# Define functions for basic arithmetic operations\n",
        "def add(x, y):\n",
        "    return x + y\n",
        "\n",
        "def subtract(x, y):\n",
        "    return x - y\n",
        "\n",
        "def multiply(x, y):\n",
        "    return x * y\n",
        "\n",
        "def divide(x, y):\n",
        "    # Check if the second number is not zero to avoid division by zero error\n",
        "    if y != 0:\n",
        "        return x / y\n",
        "    else:\n",
        "        return \"Cannot divide by zero.\"\n",
        "\n",
        "def exponentiate(x, y):\n",
        "    return x ** y\n",
        "\n",
        "# Take input from the user\n",
        "num1 = float(input(\"Enter the first number: \"))\n",
        "num2 = float(input(\"Enter the second number: \"))\n",
        "\n",
        "# Menu for the user to choose the operation\n",
        "print(\"Select operation:\")\n",
        "print(\"1. Addition\")\n",
        "print(\"2. Subtraction\")\n",
        "print(\"3. Multiplication\")\n",
        "print(\"4. Division\")\n",
        "print(\"5. Exponentiation\")\n",
        "\n",
        "# Get user's choice\n",
        "choice = input(\"Enter choice (1, 2, 3, 4, or 5): \")\n",
        "\n",
        "# Perform the selected operation\n",
        "if choice in ('1', '2', '3', '4', '5'):\n",
        "    if choice == '1':\n",
        "        result = add(num1, num2)\n",
        "        operation = \"Addition\"\n",
        "    elif choice == '2':\n",
        "        result = subtract(num1, num2)\n",
        "        operation = \"Subtraction\"\n",
        "    elif choice == '3':\n",
        "        result = multiply(num1, num2)\n",
        "        operation = \"Multiplication\"\n",
        "    elif choice == '4':\n",
        "        result = divide(num1, num2)\n",
        "        operation = \"Division\"\n",
        "    else:\n",
        "        result = exponentiate(num1, num2)\n",
        "        operation = \"Exponentiation\"\n",
        "\n",
        "    # Display the result of the selected operation\n",
        "    print(f\"{operation}: {result}\")\n",
        "else:\n",
        "    # Inform the user if an invalid choice is entered\n",
        "    print(\"Invalid input. Please enter a valid choice (1, 2, 3, 4, or 5).\")\n"
      ]
    }
  ]
}