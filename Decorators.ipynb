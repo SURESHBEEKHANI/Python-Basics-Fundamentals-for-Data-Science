{
 "cells": [
  {
   "cell_type": "markdown",
   "id": "57d57c9e",
   "metadata": {},
   "source": [
    "#### 🧩 Python Decorators & First-Class Functions\n",
    "\n",
    "---\n",
    "\n",
    "#### 1. What are Decorators?\n",
    "\n",
    "Decorators in Python are **functions that modify the behavior of other functions** without changing their code. They allow us to extend or enhance functions in a clean and reusable way.\n",
    "\n",
    "##### 🔑 Key Features:\n",
    "- Allow code reusability.\n",
    "- Improve code readability.\n",
    "- Commonly used for:\n",
    "  - Logging\n",
    "  - Authentication\n",
    "  - Measuring execution time\n",
    "  - Access control\n",
    "\n",
    "---\n",
    "\n",
    "#### 2. Why Do We Use Decorators?\n",
    "\n",
    "Decorators help us **avoid code duplication** by adding extra functionality **without modifying the core function logic**.\n",
    "\n",
    "#### 💡 Common Use Cases:\n",
    "- Logging function execution\n",
    "- Measuring execution time\n",
    "- Checking user authentication before executing a function\n",
    "\n",
    "---\n",
    "\n",
    "#### 3. Functions as First-Class Citizens\n",
    "\n",
    "In Python, functions are treated like **first-class citizens**, meaning they can:\n",
    "- Be **assigned** to a variable\n",
    "- Be **passed** as an argument to another function\n",
    "- Be **returned** from another function\n",
    "\n",
    "#### 🧪 Example: Passing a Function as an Argument"
   ]
  },
  {
   "cell_type": "code",
   "execution_count": 5,
   "id": "1eb196a4",
   "metadata": {},
   "outputs": [
    {
     "name": "stdout",
     "output_type": "stream",
     "text": [
      "Hello\n"
     ]
    }
   ],
   "source": [
    "def greet():\n",
    "    return \"Hello\"\n",
    "\n",
    "def call_function(func):\n",
    "    return func()  # Provide the required argument\n",
    "# Pass the greet function as an argument\n",
    "result = call_function(greet)\n",
    "print(result)  # Output: Hello, Alice!"
   ]
  },
  {
   "cell_type": "markdown",
   "id": "708a9a5e",
   "metadata": {},
   "source": [
    "#### 4. 🧱 Basic Structure of a Decorator\n",
    "\n",
    "A **decorator** is a function that wraps another function to modify or extend its behavior without permanently changing it.\n",
    "\n",
    "### 📝 Syntax:\n",
    "\n",
    "```python\n",
    "def decorator_function(original_function):\n",
    "    def wrapper_function():\n",
    "        # Add extra functionality\n",
    "        return original_function()\n",
    "    return wrapper_function\n"
   ]
  },
  {
   "cell_type": "code",
   "execution_count": 13,
   "id": "8debd928",
   "metadata": {},
   "outputs": [
    {
     "name": "stdout",
     "output_type": "stream",
     "text": [
      "Calling function: say_hello\n",
      "Hello!\n"
     ]
    }
   ],
   "source": [
    "## 💡 Example: A Simple Decorator That Logs Function Calls\n",
    "# This example demonstrates how to create a simple decorator that logs function calls.\n",
    "\n",
    "\n",
    "# Define a decorator function that takes another function as an argument\n",
    "def log_decorator(func):\n",
    "    # Define a wrapper function that will modify the behavior of the original function\n",
    "    def wrapper():\n",
    "        print(f'Calling function: {func.__name__}')  # Print the name of the function being called\n",
    "        return func()  # Call the original function\n",
    "    return wrapper  # Return the modified function\n",
    "\n",
    "# Apply the decorator to the 'say_hello' function using @log_decorator\n",
    "@log_decorator\n",
    "def say_hello():\n",
    "    print(\"Hello!\")  # This function simply prints \"Hello!\"\n",
    "\n",
    "# Call the decorated function\n",
    "say_hello()\n",
    "# Decorator to measure consultation time\n",
    "def timer_decorator(func):\n",
    "    def wrapper(patient_name):\n",
    "        start = time.time()  # Record start time\n",
    "        result = func(patient_name)  # Call the original function\n",
    "        end = time.time()  # Record end time\n",
    "        print(f\"Consultation time: {end - start:.4f} seconds\")\n",
    "        return result\n",
    "    return wrapper"
   ]
  },
  {
   "cell_type": "markdown",
   "id": "6cd4d24d",
   "metadata": {},
   "source": [
    "##### 5. Using Multiple Decorators\n",
    "\n",
    "Multiple decorators can be applied by **stacking them on top of a function**.\n",
    "\n",
    "##### 💡 Example Use Case: Checking Consultation Time  \n",
    "*(Timing how long it takes)*\n",
    "\n",
    "Instead of making every doctor manually do these extra steps, a hospital can create a system that **automatically ensures every doctor follows these steps** — this is what a **decorator** does in programming!\n",
    "\n",
    "Decorators help wrap extra functionality around functions in a clean and reusable way.\n"
   ]
  },
  {
   "cell_type": "code",
   "execution_count": 14,
   "id": "ac742f91",
   "metadata": {},
   "outputs": [
    {
     "name": "stdout",
     "output_type": "stream",
     "text": [
      "Patient details logged for Alice\n",
      "Doctor is consulting Alice\n",
      "Prescription given to Alice\n",
      "Consultation time: 1.0117 seconds\n"
     ]
    }
   ],
   "source": [
    "import time\n",
    "\n",
    "# Decorator to log patient details\n",
    "def log_decorator(func):\n",
    "    def wrapper(patient_name):\n",
    "        print(f\"Patient details logged for {patient_name}\")\n",
    "        return func(patient_name)\n",
    "    return wrapper\n",
    "\n",
    "# Decorator to measure consultation time\n",
    "def timer_decorator(func):\n",
    "    def wrapper(patient_name):\n",
    "        start = time.time()  # Record start time\n",
    "        result = func(patient_name)  # Call the original function\n",
    "        end = time.time()  # Record end time\n",
    "        print(f\"Consultation time: {end - start:.4f} seconds\")\n",
    "        return result\n",
    "    return wrapper\n",
    "\n",
    "# Applying decorators to the doctor's consultation function\n",
    "@log_decorator  # Log patient details\n",
    "@timer_decorator  # Measure consultation time\n",
    "def doctor_consultation(patient_name):\n",
    "    print(f\"Doctor is consulting {patient_name}\")\n",
    "    time.sleep(1)  # Simulate consultation time\n",
    "    print(f\"Prescription given to {patient_name}\")\n",
    "\n",
    "# Simulating a patient visiting the doctor\n",
    "doctor_consultation(\"Alice\")\n"
   ]
  },
  {
   "cell_type": "markdown",
   "id": "61771d2f",
   "metadata": {},
   "source": [
    "#### 6. Passing Arguments to Decorators:\n",
    "\n",
    "Extra Function for Argument Passing:\n",
    "\n",
    "A decorator can take arguments, for example, to repeat a function multiple times:"
   ]
  },
  {
   "cell_type": "code",
   "execution_count": 15,
   "id": "753e6eba",
   "metadata": {},
   "outputs": [
    {
     "name": "stdout",
     "output_type": "stream",
     "text": [
      "Hello!\n",
      "Hello!\n",
      "Hello!\n"
     ]
    }
   ],
   "source": [
    "\n",
    "\n",
    "### 🎯 Goal: Repeat a function multiple times using a decorator\n",
    "\n",
    "\n",
    "# Outer function that takes a parameter 'times' (how many times to repeat)\n",
    "def repeat(times):\n",
    "    # Inner function that acts as the actual decorator\n",
    "    def decorator(func):\n",
    "        # Wrapper function that modifies the behavior of 'func'\n",
    "        def wrapper(*args, **kwargs):\n",
    "            for _ in range(times):  # Loop 'times' number of times\n",
    "                func(*args, **kwargs)  # Call the original function\n",
    "        return wrapper  # Return the modified function\n",
    "    return decorator  # Return the decorator function\n",
    "\n",
    "# Applying the 'repeat' decorator with 'times = 3'\n",
    "@repeat(3)\n",
    "def greet():\n",
    "    print(\"Hello!\")\n",
    "\n",
    "# Calling 'greet()' will now run 3 times due to the decorator\n",
    "greet()\n"
   ]
  },
  {
   "cell_type": "markdown",
   "id": "b237b8a6",
   "metadata": {},
   "source": [
    "## ✅ Best Practices for Decorators\n",
    "\n",
    "- Use decorators to **extend functionality** without modifying the original code.\n",
    "- Preserve function metadata using `functools.wraps()`.\n",
    "- Avoid unnecessary nesting of decorators to keep the code **readable and maintainable**.\n",
    "\n",
    "---\n",
    "\n",
    "## 🧠 Conclusion\n",
    "\n",
    "Decorators provide a **clean, reusable** way to add additional functionality to functions, such as **logging** or **timing**, without changing the core function.\n",
    "\n",
    "They are an essential concept for writing **cleaner**, more **modular** code in Python — especially when the same functionality needs to be applied to **multiple functions**.\n"
   ]
  }
 ],
 "metadata": {
  "kernelspec": {
   "display_name": "Python 3",
   "language": "python",
   "name": "python3"
  },
  "language_info": {
   "codemirror_mode": {
    "name": "ipython",
    "version": 3
   },
   "file_extension": ".py",
   "mimetype": "text/x-python",
   "name": "python",
   "nbconvert_exporter": "python",
   "pygments_lexer": "ipython3",
   "version": "3.10.16"
  }
 },
 "nbformat": 4,
 "nbformat_minor": 5
}
