{
  "nbformat": 4,
  "nbformat_minor": 0,
  "metadata": {
    "colab": {
      "private_outputs": true,
      "provenance": [],
      "name": "Python buit-in Sets Methods.ipynb",
      "toc_visible": true
    },
    "kernelspec": {
      "name": "python3",
      "display_name": "Python 3"
    },
    "language_info": {
      "name": "python"
    }
  },
  "cells": [
    {
      "cell_type": "markdown",
      "source": [
        "Python buit-in Sets Methods with examples"
      ],
      "metadata": {
        "id": "lRxqdX-8zoUl"
      }
    },
    {
      "cell_type": "code",
      "source": [
        "# Assign a collection of names to a set\n",
        "set1 = {'suresh', 'kumar', 'beekhani'}\n",
        "\n",
        "# Use the 'add' method to include the string 'Umerkot' in the set\n",
        "# Sets are useful for storing unordered and unique data\n",
        "set1.add('umerkot')\n",
        "\n",
        "# Print the updated set to see the changes\n",
        "print(set1)\n"
      ],
      "metadata": {
        "id": "_Ty4Q_doznvw"
      },
      "execution_count": null,
      "outputs": []
    },
    {
      "cell_type": "code",
      "execution_count": null,
      "metadata": {
        "id": "nDnkIqcxyuZ5"
      },
      "outputs": [],
      "source": [
        "# Remove the string 'Umerkot' from the set1 using the 'remove' method\n",
        "# Sets allow you to manage and manipulate unique, unordered data\n",
        "set1.remove('umerkot')\n",
        "\n",
        "# Print the set after removing the specified string to see the updated content\n",
        "print(set1)\n"
      ]
    },
    {
      "cell_type": "code",
      "source": [
        "# Remove the string 'kumar' from set1 using the 'discard' function\n",
        "# Sets are helpful for handling unique and unordered data, allowing easy manipulation\n",
        "set1.discard('kumar')\n",
        "\n",
        "# Print the set after removing the specified string to observe the updated content\n",
        "print(set1)\n"
      ],
      "metadata": {
        "id": "TVqS0Trp3JDh"
      },
      "execution_count": null,
      "outputs": []
    },
    {
      "cell_type": "code",
      "source": [
        "# Initialize a set named set3 with string values representing unordered data collection\n",
        "set3 = {'karachi', 'umerkot', 'Suresh', 'Beeekhni'}\n",
        "\n",
        "# Utilize the 'pop' method to remove and return a random element from the set\n",
        "# Note: The order of removal is not guaranteed in sets as they are unordered\n",
        "set3.pop()\n",
        "\n",
        "# Print the updated set after the pop operation\n",
        "print(set3)\n"
      ],
      "metadata": {
        "id": "GkApd_a74o_b"
      },
      "execution_count": null,
      "outputs": []
    },
    {
      "cell_type": "code",
      "source": [
        "# Use the 'clear' method to remove all elements from the set named set3\n",
        "set3.clear()\n",
        "\n",
        "# Print the empty set after clearing all elements\n",
        "print(set3)\n"
      ],
      "metadata": {
        "id": "mrBE63EA6JM6"
      },
      "execution_count": null,
      "outputs": []
    },
    {
      "cell_type": "code",
      "source": [
        "# Assign int values to \"set1\" and \"set2\"\n",
        "set1 = {1, 2, 3}\n",
        "set2 = {3, 4, 5}\n",
        "\n",
        "# Using union() method to combine sets and assigning the result to \"union_set\"\n",
        "# and Set not allow to duplicate value\n",
        "union_set = set1.union(set2)\n",
        "\n",
        "# Displaying the result using the print function\n",
        "print(\"Union using union() method:\", union_set)\n"
      ],
      "metadata": {
        "id": "JVTpwnZr9BHJ"
      },
      "execution_count": null,
      "outputs": []
    },
    {
      "cell_type": "code",
      "source": [
        "# Assigning values to set1 and set2\n",
        "set1 = {1, 2, 3, 4, 5}\n",
        "set2 = {1, 2, 10, 10}\n",
        "# Using the intersection method to find  similarity elements between set1 and set2\n",
        "inter_set = set1.intersection(set2)\n",
        "# Displaying the result of the intersection\n",
        "print(inter_set)  # Output will show the common elements between set1 and set2\n"
      ],
      "metadata": {
        "id": "1oMgHX4BCdej"
      },
      "execution_count": null,
      "outputs": []
    },
    {
      "cell_type": "code",
      "source": [
        "# Creating a set named set1 with some elements\n",
        "set1 = {1, 2, 3, 5, 6}\n",
        "\n",
        "# Updating set1 with the common elements with another set {1, 3}\n",
        "set1.intersection_update({1, 3})\n",
        "\n",
        "# Printing the modified set1\n",
        "print(set1)\n",
        "\n"
      ],
      "metadata": {
        "id": "N02mhZyQLocC"
      },
      "execution_count": null,
      "outputs": []
    },
    {
      "cell_type": "code",
      "source": [
        "# Creating two groups of numbers in Set\n",
        "group1 = {1, 2, 3, 4, 5}\n",
        "group2 = {3, 4, 5, 6, 7}\n",
        "\n",
        "# Use Difference methed and Finding the unique numbers in each group\n",
        "unique_in_group1 = group1.difference(group2)\n",
        "unique_in_group2 = group2.difference(group1)\n",
        "\n",
        "# Printing the unique numbers in each group\n",
        "print(\"Unique numbers in the first group:\", unique_in_group1)\n",
        "print(\"Unique numbers in the second group:\", unique_in_group2)\n",
        "\n"
      ],
      "metadata": {
        "id": "s59DgSxRM5A5"
      },
      "execution_count": null,
      "outputs": []
    },
    {
      "cell_type": "code",
      "source": [
        "#Assing value in set \"Group1\", \"Group2\"\n",
        "group1={1,2,3,5,}\n",
        "group2={1,2,5,7}\n",
        "#use difference_update and\n",
        "difference_update=group2.difference_update(group1)\n",
        "print(difference_update)\n",
        "\n"
      ],
      "metadata": {
        "id": "puhKMFuYN_XA"
      },
      "execution_count": null,
      "outputs": []
    },
    {
      "cell_type": "code",
      "source": [
        "# Creating two sets (similar to bags of toys)\n",
        "bag1 = {'A', 'B', 'C', 'D'}\n",
        "bag2 = {'C', 'D', 'E', 'F'}\n",
        "\n",
        "# Using difference_update to keep only unique items in bag1\n",
        "bag1.difference_update(bag2)\n",
        "\n",
        "# Printing the updated bag1\n",
        "print(\"Updated bag1 after removing common items:\", bag1)\n"
      ],
      "metadata": {
        "id": "Mzi1wQsxQiDY"
      },
      "execution_count": null,
      "outputs": []
    },
    {
      "cell_type": "code",
      "source": [
        "# Assign a set of values to the original_set\n",
        "original_set = {1, 2, 3}\n",
        "\n",
        "# Use the copy method to create a copy of the original_set and assign it to copied_set\n",
        "copied_set = original_set.copy()\n",
        "\n",
        "# Print the original set\n",
        "print(\"Original Set:\", original_set)\n",
        "\n",
        "# Print the copied set\n",
        "print(\"Copied Set:\", copied_set)\n",
        "\n"
      ],
      "metadata": {
        "id": "pAGQ-vTFSYLr"
      },
      "execution_count": null,
      "outputs": []
    },
    {
      "cell_type": "code",
      "source": [
        "# Creating two sets\n",
        "set1 = {1, 2, 3, 4, 5}\n",
        "set2 = {4, 5, 6, 7, 8}\n",
        "\n",
        "# Using symmetric_difference()Methed  to find the symmetric difference blw set1 and set2\n",
        "result_set = set1.symmetric_difference(set2)\n",
        "\n",
        "# Displaying the result\n",
        "print(\"Symmetric Difference:\", result_set)\n"
      ],
      "metadata": {
        "id": "z--rsLn_XnK4"
      },
      "execution_count": null,
      "outputs": []
    },
    {
      "cell_type": "code",
      "source": [
        "# Creating two sets\n",
        "set1 = {1, 2, 3, 4, 5}\n",
        "set2 = {4, 5, 6, 7, 8}\n",
        "\n",
        "# Using symmetric_difference_update() to update set1 with the symmetric difference\n",
        "set1.symmetric_difference_update(set2)\n",
        "\n",
        "# Displaying the updated set1\n",
        "print(\"Updated set1:\", set1)\n"
      ],
      "metadata": {
        "id": "tzk51iulYbvP"
      },
      "execution_count": null,
      "outputs": []
    },
    {
      "cell_type": "code",
      "source": [
        "# Creating two sets\n",
        "set1 = {1, 2, 3, 4, 5}\n",
        "set2 = {2, 4}\n",
        "\n",
        "# Using issuperset() to check if set1 is a superset of set2\n",
        "result = set1.issuperset(set2)\n",
        "\n",
        "# Displaying the result\n",
        "print(result)\n"
      ],
      "metadata": {
        "id": "0t0x6nXiY09j"
      },
      "execution_count": null,
      "outputs": []
    },
    {
      "cell_type": "code",
      "source": [
        "# Creating two sets\n",
        "set1 = {1, 2}\n",
        "set2 = {1, 2, 3}\n",
        "\n",
        "# Using issubset() to check if set1 is a subset of set2\n",
        "result = set1.issubset(set2)\n",
        "\n",
        "# Displaying the result\n",
        "print(result)\n"
      ],
      "metadata": {
        "id": "McETK3FwY01H"
      },
      "execution_count": null,
      "outputs": []
    },
    {
      "cell_type": "code",
      "source": [
        "# Creating two sets\n",
        "set1 = {1, 2}\n",
        "set2 = {3, 4}\n",
        "\n",
        "# Using isdisjoint() to check if set1 and set2 have a null intersection\n",
        "result = set1.isdisjoint(set2)\n",
        "\n",
        "# Displaying the result\n",
        "print(result)\n"
      ],
      "metadata": {
        "id": "KZsnhyHnZctC"
      },
      "execution_count": null,
      "outputs": []
    }
  ]
}