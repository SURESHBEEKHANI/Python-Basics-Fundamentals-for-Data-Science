{
 "cells": [
  {
   "cell_type": "markdown",
   "metadata": {},
   "source": [
    "#### 🔐 Encapsulation in Python\n",
    "\n",
    "**Encapsulation** is a fundamental principle in **Object-Oriented Programming (OOP)**. In Python, encapsulation helps to:\n",
    "\n",
    "- Protect class data from unintended or unauthorized access.\n",
    "- Prevent accidental changes or deletions of important attributes.\n",
    "- Promote **code reusability**, **modularity**, and **maintainability**.\n",
    "\n",
    "---\n",
    "\n",
    "#### ✅ What is Encapsulation?\n",
    "\n",
    "Encapsulation means **hiding the internal state** of an object and requiring all interactions to be performed through well-defined interfaces (methods). This is often done by:\n",
    "\n",
    "- Marking variables as **private** using `__` (double underscores).\n",
    "- Using **getter and setter** methods to access and update private variables.\n",
    "\n",
    "---"
   ]
  },
  {
   "cell_type": "code",
   "execution_count": 2,
   "metadata": {},
   "outputs": [],
   "source": [
    "class Atm:\n",
    "\n",
    "  #constructor(special function) - superpower\n",
    "  def __init__(self):\n",
    "    self.pin = \"\"\n",
    "    self.balance = 0\n",
    "    # self.menu()\n",
    "\n",
    "\n",
    "  def menu(self):\n",
    "    user_input = input(\n",
    "        \"\"\"\n",
    "        Hi how can i help you?\n",
    "\n",
    "        1. Press 1 to create pin\n",
    "        2. Press 2 to change pin\n",
    "        3. Press 3 to check balence\n",
    "        4. Press 4 to withdraw\n",
    "        5. Anything to exit\n",
    "        \"\"\"\n",
    "    )\n",
    "\n",
    "    if user_input == '1':\n",
    "      #create a pin\n",
    "      self.create_pin()\n",
    "\n",
    "    elif user_input == '2':\n",
    "      #change pin\n",
    "      self.change_pin()\n",
    "\n",
    "    elif user_input == '3':\n",
    "      #check balnce\n",
    "      self.check_balance()\n",
    "\n",
    "    elif user_input == '4':\n",
    "      #withdraw\n",
    "      self.withdraw()\n",
    "\n",
    "    else:\n",
    "      exit()\n",
    "\n",
    "\n",
    "  def create_pin(self):\n",
    "    user_pin = input(\"Enter your pin: \")\n",
    "    self.pin = user_pin\n",
    "\n",
    "    user_balance = int(input(\"Enter Balance: \"))\n",
    "    self.balance = user_balance\n",
    "\n",
    "    print(\"Pin Created Successfully!\")\n",
    "    # self.menu()\n",
    "\n",
    "\n",
    "  def change_pin(self):\n",
    "    old_pin = input(\"Enter old pin: \")\n",
    "\n",
    "    if old_pin == self.pin:\n",
    "      #Let change the pin\n",
    "      new_pin = input(\"Enter new pin: \")\n",
    "      self.pin = new_pin\n",
    "      print(\"Pin changed Successfully!\")\n",
    "      # self.menu()\n",
    "\n",
    "    else:\n",
    "      print(\"Sorry you entered wrong pin.\")\n",
    "      # self.menu()\n",
    "\n",
    "\n",
    "\n",
    "\n",
    "  def check_balance(self):\n",
    "    user_pin = input(\"Enter your pin: \")\n",
    "    if user_pin == self.pin:\n",
    "      print(f\"Your balance is {self.balance}\")\n",
    "    else:\n",
    "      print(\"Your pin is correct, please try again\")\n",
    "    # self.menu()\n",
    "\n",
    "\n",
    "\n",
    "  def withdraw(self):\n",
    "    user_pin = input(\"Enter your pin: \")\n",
    "    if user_pin == self.pin:\n",
    "      # Allow to withdraw\n",
    "      amount = int(input(\"Enter the amount: \"))\n",
    "      if amount <= self.balance:\n",
    "        self.balance = self.balance - amount\n",
    "        print(f\"withdraw successfull and the current balance is {self.balance}\")\n",
    "\n",
    "      else:\n",
    "        print(\"You have insufficient balance\")\n",
    "\n",
    "\n",
    "    else:\n",
    "      print(\"Your pin is wrong!\")\n",
    "    # self.menu()\n"
   ]
  },
  {
   "cell_type": "code",
   "execution_count": 3,
   "metadata": {},
   "outputs": [],
   "source": [
    "obj = Atm()"
   ]
  },
  {
   "cell_type": "code",
   "execution_count": 4,
   "metadata": {},
   "outputs": [],
   "source": [
    "obj.balance = \"hello\""
   ]
  },
  {
   "cell_type": "code",
   "execution_count": 5,
   "metadata": {},
   "outputs": [
    {
     "name": "stdout",
     "output_type": "stream",
     "text": [
      "Your balance is hello\n"
     ]
    }
   ],
   "source": [
    "obj.check_balance()"
   ]
  },
  {
   "cell_type": "code",
   "execution_count": 6,
   "metadata": {},
   "outputs": [
    {
     "name": "stdout",
     "output_type": "stream",
     "text": [
      "Your pin is wrong!\n"
     ]
    }
   ],
   "source": [
    "obj.withdraw()"
   ]
  },
  {
   "cell_type": "code",
   "execution_count": 7,
   "metadata": {},
   "outputs": [],
   "source": [
    "class Atm:\n",
    "\n",
    "  #constructor(special function) - superpower\n",
    "  def __init__(self):\n",
    "    self.pin = \"\"\n",
    "    self.__balance = 0 #private variable\n",
    "    # self.menu()\n",
    "\n",
    "\n",
    "  def __menu(self):\n",
    "    user_input = input(\n",
    "        \"\"\"\n",
    "        Hi how can i help you?\n",
    "\n",
    "        1. Press 1 to create pin\n",
    "        2. Press 2 to change pin\n",
    "        3. Press 3 to check balence\n",
    "        4. Press 4 to withdraw\n",
    "        5. Anything to exit\n",
    "        \"\"\"\n",
    "    )\n",
    "\n",
    "    if user_input == '1':\n",
    "      #create a pin\n",
    "      self.create_pin()\n",
    "\n",
    "    elif user_input == '2':\n",
    "      #change pin\n",
    "      self.change_pin()\n",
    "\n",
    "    elif user_input == '3':\n",
    "      #check balnce\n",
    "      self.check_balance()\n",
    "\n",
    "    elif user_input == '4':\n",
    "      #withdraw\n",
    "      self.withdraw()\n",
    "\n",
    "    else:\n",
    "      exit()\n",
    "\n",
    "\n",
    "  def create_pin(self):\n",
    "    user_pin = input(\"Enter your pin: \")\n",
    "    self.pin = user_pin\n",
    "\n",
    "    user_balance = int(input(\"Enter Balance: \"))\n",
    "    self.__balance = user_balance\n",
    "\n",
    "    print(\"Pin Created Successfully!\")\n",
    "    # self.menu()\n",
    "\n",
    "\n",
    "  def change_pin(self):\n",
    "    old_pin = input(\"Enter old pin: \")\n",
    "\n",
    "    if old_pin == self.pin:\n",
    "      #Let change the pin\n",
    "      new_pin = input(\"Enter new pin: \")\n",
    "      self.pin = new_pin\n",
    "      print(\"Pin changed Successfully!\")\n",
    "      # self.menu()\n",
    "\n",
    "    else:\n",
    "      print(\"Sorry you entered wrong pin.\")\n",
    "      # self.menu()\n",
    "\n",
    "\n",
    "\n",
    "\n",
    "  def check_balance(self):\n",
    "    user_pin = input(\"Enter your pin: \")\n",
    "    if user_pin == self.pin:\n",
    "      print(f\"Your balance is {self.__balance}\")\n",
    "    else:\n",
    "      print(\"Your pin is correct, please try again\")\n",
    "    # self.menu()\n",
    "\n",
    "\n",
    "\n",
    "  def withdraw(self):\n",
    "    user_pin = input(\"Enter your pin: \")\n",
    "    if user_pin == self.pin:\n",
    "      # Allow to withdraw\n",
    "      amount = int(input(\"Enter the amount: \"))\n",
    "      if amount <= self.__balance:\n",
    "        self.__balance = self.__balance - amount\n",
    "        print(f\"withdraw successfull and the current balance is {self.__balance}\")\n",
    "\n",
    "      else:\n",
    "        print(\"You have insufficient balance\")\n",
    "\n",
    "\n",
    "    else:\n",
    "      print(\"Your pin is wrong!\")\n",
    "    # self.menu()\n"
   ]
  },
  {
   "cell_type": "code",
   "execution_count": 8,
   "metadata": {},
   "outputs": [],
   "source": [
    "obj = Atm()"
   ]
  },
  {
   "cell_type": "code",
   "execution_count": 9,
   "metadata": {},
   "outputs": [
    {
     "name": "stdout",
     "output_type": "stream",
     "text": [
      "Pin Created Successfully!\n"
     ]
    }
   ],
   "source": [
    "obj.create_pin()"
   ]
  },
  {
   "cell_type": "code",
   "execution_count": 10,
   "metadata": {},
   "outputs": [],
   "source": [
    "obj.__balance = \"Hello\""
   ]
  },
  {
   "cell_type": "code",
   "execution_count": 11,
   "metadata": {},
   "outputs": [
    {
     "name": "stdout",
     "output_type": "stream",
     "text": [
      "Your balance is 10000\n"
     ]
    }
   ],
   "source": [
    "obj.check_balance()"
   ]
  },
  {
   "cell_type": "code",
   "execution_count": 12,
   "metadata": {},
   "outputs": [
    {
     "data": {
      "text/plain": [
       "'Hello'"
      ]
     },
     "execution_count": 12,
     "metadata": {},
     "output_type": "execute_result"
    }
   ],
   "source": [
    "obj.__balance"
   ]
  },
  {
   "cell_type": "code",
   "execution_count": 13,
   "metadata": {},
   "outputs": [
    {
     "data": {
      "text/plain": [
       "10000"
      ]
     },
     "execution_count": 13,
     "metadata": {},
     "output_type": "execute_result"
    }
   ],
   "source": [
    "obj._Atm__balance"
   ]
  },
  {
   "cell_type": "code",
   "execution_count": 14,
   "metadata": {},
   "outputs": [
    {
     "name": "stdout",
     "output_type": "stream",
     "text": [
      "Your pin is wrong!\n"
     ]
    }
   ],
   "source": [
    "obj.withdraw()"
   ]
  },
  {
   "cell_type": "code",
   "execution_count": 15,
   "metadata": {},
   "outputs": [],
   "source": [
    "obj._Atm__balance = \"Hello\""
   ]
  },
  {
   "cell_type": "code",
   "execution_count": 16,
   "metadata": {},
   "outputs": [
    {
     "name": "stdout",
     "output_type": "stream",
     "text": [
      "Your pin is correct, please try again\n"
     ]
    }
   ],
   "source": [
    "obj.check_balance()"
   ]
  },
  {
   "cell_type": "code",
   "execution_count": 17,
   "metadata": {},
   "outputs": [
    {
     "name": "stdout",
     "output_type": "stream",
     "text": [
      "Your pin is wrong!\n"
     ]
    }
   ],
   "source": [
    "obj.withdraw()"
   ]
  },
  {
   "cell_type": "code",
   "execution_count": 18,
   "metadata": {},
   "outputs": [],
   "source": [
    "## In Python nothing is too private\n",
    "# it is made for adults"
   ]
  }
 ],
 "metadata": {
  "kernelspec": {
   "display_name": "Python 3",
   "language": "python",
   "name": "python3"
  },
  "language_info": {
   "codemirror_mode": {
    "name": "ipython",
    "version": 3
   },
   "file_extension": ".py",
   "mimetype": "text/x-python",
   "name": "python",
   "nbconvert_exporter": "python",
   "pygments_lexer": "ipython3",
   "version": "3.10.16"
  }
 },
 "nbformat": 4,
 "nbformat_minor": 2
}
