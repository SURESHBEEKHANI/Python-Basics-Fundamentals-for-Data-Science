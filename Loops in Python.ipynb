{
 "cells": [
  {
   "cell_type": "markdown",
   "id": "41df0df4",
   "metadata": {},
   "source": [
    "#### **1. Loops in Python**\n",
    "\n",
    "Loops are used to perform repetitive tasks efficiently. Python provides two types of loops:\n",
    "\n",
    "- **For Loop**: Iterates over a sequence (e.g., list, tuple, dictionary).\n",
    "- **While Loop**: Executes a block of code as long as a condition is true.\n"
   ]
  },
  {
   "cell_type": "markdown",
   "id": "01cf7e22",
   "metadata": {},
   "source": [
    "#### **2. For Loops**\n",
    "\n",
    "The **for loop** in Python is used for iterating over a sequence (like lists, strings, tuples, dictionaries, etc.). It allows you to process each element one at a time in a very readable format.\n",
    "\n",
    "### Basic Syntax:\n",
    "```python\n",
    "for item in sequence:\n",
    "    # process item\n"
   ]
  },
  {
   "cell_type": "code",
   "execution_count": 4,
   "id": "acdcb9a7",
   "metadata": {},
   "outputs": [
    {
     "name": "stdout",
     "output_type": "stream",
     "text": [
      "1\n",
      "2\n",
      "2\n",
      "1\n",
      "5\n"
     ]
    }
   ],
   "source": [
    "# A simple list of numbers\n",
    "numbers = [1, 2, 2, 1, 5]\n",
    "\n",
    "# Loop through each number in the list\n",
    "for num in numbers:\n",
    "    # Print the current number\n",
    "    print(num)\n"
   ]
  },
  {
   "cell_type": "markdown",
   "id": "e4fd6f6a",
   "metadata": {},
   "source": [
    "#### **Using `enumerate()` in For Loops**\n",
    "\n",
    "Sometimes, you need both the item and its index when iterating over a sequence. Python's built-in `enumerate()` function makes this easy.\n"
   ]
  },
  {
   "cell_type": "code",
   "execution_count": 5,
   "id": "9e655e82",
   "metadata": {},
   "outputs": [
    {
     "name": "stdout",
     "output_type": "stream",
     "text": [
      "Index: 0, Fruit: apple\n",
      "Index: 1, Fruit: banana\n",
      "Index: 2, Fruit: cherry\n",
      "Index: 3, Fruit: date\n"
     ]
    }
   ],
   "source": [
    "\n",
    "# List of fruit \n",
    "fruits = [\"apple\", \"banana\", \"cherry\", \"date\"]\n",
    "\n",
    "# Using enumerate to get both index and fruit\n",
    "for index, fruit in enumerate(fruits):\n",
    "    print(f\"Index: {index}, Fruit: {fruit}\")\n"
   ]
  },
  {
   "cell_type": "code",
   "execution_count": 2,
   "id": "26e4bfdf",
   "metadata": {},
   "outputs": [
    {
     "name": "stdout",
     "output_type": "stream",
     "text": [
      "Index: 0, Fruit: apple\n",
      "Index: 1, Fruit: banana\n",
      "Index: 2, Fruit: cherry\n",
      "Index: 3, Fruit: date\n"
     ]
    }
   ],
   "source": [
    "# Create a list of fruits\n",
    "fruits = [\"apple\", \"banana\", \"cherry\", \"date\"]\n",
    "\n",
    "# Loop through the list using enumerate to get both index and fruit\n",
    "for index, fruit in enumerate(fruits):\n",
    "    # Print the current index and fruit\n",
    "    print(f\"Index: {index}, Fruit: {fruit}\")\n",
    "    \n",
    "    # This line tries to increment the index, \n",
    "    # but it's unnecessary because 'enumerate' already handles the index\n",
    "    index += 1  # This has no effect on the loop\n"
   ]
  },
  {
   "cell_type": "markdown",
   "id": "c9528923",
   "metadata": {},
   "source": [
    "### **4. Iterating Over Dictionaries**\n",
    "\n",
    "Dictionaries store data in key-value pairs. You can iterate over just the keys, or both keys and values.\n"
   ]
  },
  {
   "cell_type": "code",
   "execution_count": 5,
   "id": "175644ca",
   "metadata": {},
   "outputs": [
    {
     "name": "stdout",
     "output_type": "stream",
     "text": [
      "name: John\n",
      "age: 30\n",
      "city: New York\n"
     ]
    }
   ],
   "source": [
    "# Define a dictionary with some personal information\n",
    "person = {\"name\": \"John\", \"age\": 30, \"city\": \"New York\"}\n",
    "\n",
    "# Loop through the dictionary to access each key and print its corresponding value\n",
    "for key in person:\n",
    "    print(f\"{key}: {person[key]}\")\n",
    "# Define a list of numbers"
   ]
  },
  {
   "cell_type": "code",
   "execution_count": 6,
   "id": "3f6568a6",
   "metadata": {},
   "outputs": [
    {
     "name": "stdout",
     "output_type": "stream",
     "text": [
      "name: John\n",
      "age: 30\n",
      "city: New York\n"
     ]
    }
   ],
   "source": [
    "# Loop through the dictionary to access both keys and their corresponding values\n",
    "for key, value in person.items():\n",
    "    print(f\"{key}: {value}\")\n",
    "# Define a list of numbers"
   ]
  },
  {
   "cell_type": "markdown",
   "id": "bc7fb7ba",
   "metadata": {},
   "source": [
    "### **3. While Loops**\n",
    "\n",
    "#### **While Loops Overview**\n",
    "A `while` loop runs **as long as a specified condition is `True`**. It repeatedly executes a block of code until the condition becomes `False`.\n",
    "\n"
   ]
  },
  {
   "cell_type": "code",
   "execution_count": 12,
   "id": "1775d820",
   "metadata": {},
   "outputs": [
    {
     "name": "stdout",
     "output_type": "stream",
     "text": [
      "Count is: 0\n",
      "Count is: 1\n",
      "Count is: 2\n",
      "Count is: 3\n",
      "Count is: 4\n"
     ]
    }
   ],
   "source": [
    "# Initialize the variable 'count' with 0\n",
    "count = 0\n",
    "\n",
    "# Use a while loop that runs as long as 'count' is less than 5\n",
    "while count < 5:\n",
    "    # Print the current value of 'count'\n",
    "    print(\"Count is:\", count)\n",
    "    \n",
    "    # Increment 'count' by 1 to avoid an infinite loop\n",
    "    count += 1\n",
    "# Define a list of numbers"
   ]
  },
  {
   "cell_type": "markdown",
   "id": "4f936159",
   "metadata": {},
   "source": [
    "### **4. Control Statements in Loops**\n",
    "\n",
    "Control statements are used to manage the flow of loops in Python.\n",
    "\n",
    "---\n",
    "\n",
    "#### 🔁 **Continue Statement**\n",
    "\n",
    "- **Purpose**: Skips the current iteration and moves to the next one.\n",
    "- **Use Case**: Ideal for bypassing specific conditions without stopping the loop.\n"
   ]
  },
  {
   "cell_type": "markdown",
   "id": "27cee593",
   "metadata": {},
   "source": [
    "#### **Loop Control Statements: `break`, `continue`, and `else`**\n",
    "\n",
    "Loop control statements allow you to alter the normal flow of your loop. These statements are especially useful for managing complex looping conditions.  \n",
    "They include:\n",
    "\n",
    "- `break` — to exit the loop early  \n",
    "- `continue` — to skip to the next iteration  \n",
    "- `else` — to run code after the loop finishes naturally\n",
    "\n",
    "---\n"
   ]
  },
  {
   "cell_type": "code",
   "execution_count": 15,
   "id": "19a7f40a",
   "metadata": {},
   "outputs": [
    {
     "name": "stdout",
     "output_type": "stream",
     "text": [
      "Processing: 0\n",
      "Processing: 1\n",
      "Skipping 2\n",
      "Processing: 3\n",
      "Processing: 4\n",
      "Breaking at 5\n"
     ]
    }
   ],
   "source": [
    "# Loop through a range of numbers from 0 to 6\n",
    "for i in range(7):\n",
    "    \n",
    "    # If the value of 'i' is 2, print a message and skip the rest of this iteration\n",
    "    if i == 2:\n",
    "        print(\"Skipping 2\")  # Inform that we're skipping this iteration\n",
    "        continue  # Skip the remaining code and proceed to the next iteration\n",
    "    \n",
    "    # If the value of 'i' is 5, print a message and break the loop\n",
    "    if i == 5:\n",
    "        print(\"Breaking at 5\")  # Inform that we're breaking the loop\n",
    "        break  # Exit the loop completely\n",
    "    \n",
    "    # For other values of 'i', print a message showing the current number being processed\n",
    "    print(f\"Processing: {i}\")\n",
    "\n",
    "# If the loop finishes without being broken (i.e., it runs through all iterations naturally),\n",
    "# this block will execute\n",
    "else:\n",
    "    print(\"Loop completed successfully\")  # Inform that the loop has finished without interruption\n"
   ]
  },
  {
   "cell_type": "markdown",
   "id": "658ebb66",
   "metadata": {},
   "source": [
    "### **5. Best Practices for Using Loops**\n",
    "\n",
    "- **Avoid Infinite Loops**: Ensure the loop condition will eventually become `False`.\n",
    "- **Use `enumerate()` for Indexing**: Simplifies accessing both index and item in loops.\n",
    "- **Leverage Control Statements**: Use `continue`, `break`, and `else` to manage loop flow effectively.\n",
    "- **Practice with Different Scenarios**: Experiment with loops in various situations to build strong logic-building skills.\n",
    "\n",
    "---\n",
    "\n",
    "### **Final Thoughts**\n",
    "\n",
    "Loops and control statements are fundamental to Python programming, enabling developers to perform repetitive tasks efficiently and manage program flow effectively. \n",
    "\n",
    "By mastering `for` loops, `while` loops, and control statements like `continue`, `break`, and `else`, you can write cleaner and more efficient code. Additionally, understanding how to work with lists and dictionaries using loops is crucial for handling collections of data.\n",
    "\n",
    "---\n",
    "\n",
    "### **🔑 Key Takeaways:**\n",
    "\n",
    "- Use `continue` to skip specific iterations.\n",
    "- Use `break` to exit a loop early.\n",
    "- Use `else` to execute code after a loop ends naturally.\n",
    "- Leverage `enumerate()` for easy access to indices and items in lists.\n",
    "- Practice loops with different scenarios to strengthen your programming skills.\n"
   ]
  }
 ],
 "metadata": {
  "kernelspec": {
   "display_name": "Python 3",
   "language": "python",
   "name": "python3"
  },
  "language_info": {
   "codemirror_mode": {
    "name": "ipython",
    "version": 3
   },
   "file_extension": ".py",
   "mimetype": "text/x-python",
   "name": "python",
   "nbconvert_exporter": "python",
   "pygments_lexer": "ipython3",
   "version": "3.10.16"
  }
 },
 "nbformat": 4,
 "nbformat_minor": 5
}
