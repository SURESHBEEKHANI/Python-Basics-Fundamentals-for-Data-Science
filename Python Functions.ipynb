{
  "nbformat": 4,
  "nbformat_minor": 0,
  "metadata": {
    "colab": {
      "private_outputs": true,
      "provenance": [],
      "toc_visible": true,
      "authorship_tag": "ABX9TyMtU8LpINmgKEUGOq08CHFk",
      "include_colab_link": true
    },
    "kernelspec": {
      "name": "python3",
      "display_name": "Python 3"
    },
    "language_info": {
      "name": "python"
    }
  },
  "cells": [
    {
      "cell_type": "markdown",
      "metadata": {
        "id": "view-in-github",
        "colab_type": "text"
      },
      "source": [
        "<a href=\"https://colab.research.google.com/github/SURESHBEEKHANI/Python-Basics-Fundamentals-for-Data-Science/blob/main/Python%20Functions.ipynb\" target=\"_parent\"><img src=\"https://colab.research.google.com/assets/colab-badge.svg\" alt=\"Open In Colab\"/></a>"
      ]
    },
    {
      "cell_type": "markdown",
      "source": [
        "# Python Functions\n",
        "In this class, you'll learn about functions, what a function is, the syntax, components, and types of functions. Also, you'll learn to create a function in Python.\n",
        "\n",
        "# What is a function in Python?\n",
        "In Python, a function is a block of organized, reusable (DRY- Don’t Repeat Yourself) code with a name that is used to perform a single, specific task. It can take arguments and returns the value.\n",
        "\n",
        "Functions help break our program into smaller and modular chunks. As our program grows larger and larger, functions make it more organized and manageable.\n",
        "\n",
        "Furthermore, it improves efficiency and reduces errors because of the reusability of a code.\n",
        "\n",
        "# Types of Functions\n",
        "Python support two types of functions\n",
        "\n",
        "[Built-in]function\n",
        "[User-defined] function\n",
        "1.Built-in function\n",
        "\n",
        "The functions which are come along with Python itself are called a built-in function or predefined function. Some of them are: range(), print(), input(), type(), id(), eval() etc.\n",
        "\n",
        "Example: Python range() function generates the immutable sequence of numbers starting from the given start integer to the stop integer."
      ],
      "metadata": {
        "id": "qDhriSb1FU1Z"
      }
    },
    {
      "cell_type": "code",
      "execution_count": null,
      "metadata": {
        "id": "XNmHD71AsYFg"
      },
      "outputs": [],
      "source": [
        "# Define a function named 'add' with two parameters 'num1' and 'num2'\n",
        "def add(num1, num2):\n",
        "    # Use print method to display the values of 'num1' and 'num2'\n",
        "    print(\"Number 1: \", num1)\n",
        "    print(\"Number 2: \", num2)\n",
        "\n",
        "    # Assign a variable 'addition' and calculate the sum of 'num1' and 'num2'\n",
        "    addition = num1 + num2\n",
        "\n",
        "    # Use the 'return' statement to return the result of the addition\n",
        "    return addition\n",
        "\n",
        "# Call the 'add' function with parameter values 1 and 3\n",
        "res = add(1, 3)\n",
        "\n",
        "# Use print method to display the result\n",
        "print(\"Result: \", res)\n",
        "\n"
      ]
    },
    {
      "cell_type": "code",
      "source": [
        "# Define a function named 'geet' with no parameters\n",
        "def geet():\n",
        "    # Add a statement to print a greeting message\n",
        "    print('Hello, how are you?')\n",
        "\n",
        "# Assign a variable 'result' and call the 'geet' function\n",
        "output = geet()\n"
      ],
      "metadata": {
        "id": "AM-DIs_o8Dpe"
      },
      "execution_count": null,
      "outputs": []
    },
    {
      "cell_type": "code",
      "source": [
        "# Define a function named 'add_numbers' with no parameters\n",
        "def add_numbers():\n",
        "    # Set the first number to 20\n",
        "    first_number = 20\n",
        "    # Set the second number to 40\n",
        "    second_number = 40\n",
        "    # Add the two numbers and save the result\n",
        "    addition_result = first_number + second_number\n",
        "    # Add 10 to the result\n",
        "    addition_result += 10\n",
        "    # Return the final result\n",
        "    return addition_result\n",
        "\n",
        "# Call the function and store the result in the 'result' variable\n",
        "result = add_numbers()\n",
        "# Print the final result\n",
        "print(result)\n",
        "\n",
        "\n"
      ],
      "metadata": {
        "id": "bmV0wQ7mBnAc"
      },
      "execution_count": null,
      "outputs": []
    },
    {
      "cell_type": "code",
      "source": [
        "#Function is you cell any loction in Whole code\n",
        "# Add the results of both functions together\n",
        "output = res + result\n",
        "\n",
        "# Print the combined result\n",
        "print(output)"
      ],
      "metadata": {
        "id": "_iRSItymFo_m"
      },
      "execution_count": null,
      "outputs": []
    },
    {
      "cell_type": "code",
      "source": [],
      "metadata": {
        "id": "elqXajwVFo8m"
      },
      "execution_count": null,
      "outputs": []
    }
  ]
}