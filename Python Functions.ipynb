{
  "nbformat": 4,
  "nbformat_minor": 0,
  "metadata": {
    "colab": {
      "private_outputs": true,
      "provenance": [],
      "toc_visible": true,
      "authorship_tag": "ABX9TyOfAAQGRgeQmb2y+yx1SX3n",
      "include_colab_link": true
    },
    "kernelspec": {
      "name": "python3",
      "display_name": "Python 3"
    },
    "language_info": {
      "name": "python"
    }
  },
  "cells": [
    {
      "cell_type": "markdown",
      "metadata": {
        "id": "view-in-github",
        "colab_type": "text"
      },
      "source": [
        "<a href=\"https://colab.research.google.com/github/SURESHBEEKHANI/Python-Basics-Fundamentals-for-Data-Science/blob/main/Python%20Functions.ipynb\" target=\"_parent\"><img src=\"https://colab.research.google.com/assets/colab-badge.svg\" alt=\"Open In Colab\"/></a>"
      ]
    },
    {
      "cell_type": "markdown",
      "source": [
        "# Python Functions\n",
        "In this class, you'll learn about functions, what a function is, the syntax, components, and types of functions. Also, you'll learn to create a function in Python.\n",
        "\n",
        "# What is a function in Python?\n",
        "In Python, a function is a block of organized, reusable (DRY- Don’t Repeat Yourself) code with a name that is used to perform a single, specific task. It can take arguments and returns the value.\n",
        "\n",
        "Functions help break our program into smaller and modular chunks. As our program grows larger and larger, functions make it more organized and manageable.\n",
        "\n",
        "Furthermore, it improves efficiency and reduces errors because of the reusability of a code.\n",
        "\n",
        "# Types of Functions\n",
        "Python support two types of functions\n",
        "\n",
        "[Built-in]function\n",
        "[User-defined] function\n",
        "1.Built-in function\n",
        "\n",
        "The functions which are come along with Python itself are called a built-in function or predefined function. Some of them are: range(), print(), input(), type(), id(), eval() etc.\n",
        "\n",
        "Example: Python range() function generates the immutable sequence of numbers starting from the given start integer to the stop integer."
      ],
      "metadata": {
        "id": "qDhriSb1FU1Z"
      }
    },
    {
      "cell_type": "code",
      "execution_count": null,
      "metadata": {
        "id": "XNmHD71AsYFg"
      },
      "outputs": [],
      "source": [
        "# Define a function named 'add' with two parameters 'num1' and 'num2'\n",
        "def add(num1, num2):\n",
        "    # Use print method to display the values of 'num1' and 'num2'\n",
        "    print(\"Number 1: \", num1)\n",
        "    print(\"Number 2: \", num2)\n",
        "\n",
        "    # Assign a variable 'addition' and calculate the sum of 'num1' and 'num2'\n",
        "    addition = num1 + num2\n",
        "\n",
        "    # Use the 'return' statement to return the result of the addition\n",
        "    return addition\n",
        "\n",
        "# Call the 'add' function with parameter values 1 and 3\n",
        "res = add(1, 3)\n",
        "\n",
        "# Use print method to display the result\n",
        "print(\"Result: \", res)\n",
        "\n"
      ]
    },
    {
      "cell_type": "code",
      "source": [
        "# Define a function named 'geet' with no parameters\n",
        "def geet():\n",
        "    # Add a statement to print a greeting message\n",
        "    print('Hello, how are you?')\n",
        "\n",
        "# Assign a variable 'result' and call the 'geet' function\n",
        "output = geet()\n"
      ],
      "metadata": {
        "id": "AM-DIs_o8Dpe"
      },
      "execution_count": null,
      "outputs": []
    },
    {
      "cell_type": "code",
      "source": [
        "# Define a function named 'add_numbers' with no parameters\n",
        "def add_numbers():\n",
        "    # Set the first number to 20\n",
        "    first_number = 20\n",
        "    # Set the second number to 40\n",
        "    second_number = 40\n",
        "    # Add the two numbers and save the result\n",
        "    addition_result = first_number + second_number\n",
        "    # Add 10 to the result\n",
        "    addition_result += 10\n",
        "    # Return the final result\n",
        "    return addition_result\n",
        "\n",
        "# Call the function and store the result in the 'result' variable\n",
        "result = add_numbers()\n",
        "# Print the final result\n",
        "print(result)\n",
        "\n",
        "\n"
      ],
      "metadata": {
        "id": "bmV0wQ7mBnAc"
      },
      "execution_count": null,
      "outputs": []
    },
    {
      "cell_type": "code",
      "source": [
        "#Function is you cell any loction in Whole code\n",
        "# Add the results of both functions together\n",
        "output = res + result\n",
        "\n",
        "# Print the combined result\n",
        "print(output)"
      ],
      "metadata": {
        "id": "_iRSItymFo_m"
      },
      "execution_count": null,
      "outputs": []
    },
    {
      "cell_type": "code",
      "source": [
        "# Example 2: Calculate the sum of numbers up to the specified limit or range\n",
        "\n",
        "# Define a function with one parameter named 'limit'\n",
        "def calculate_sum_up_to_limit(limit):\n",
        "    # Initialize a variable named 'total_sum' with a value of 0\n",
        "    total_sum = 0\n",
        "\n",
        "    # Use a for loop to iterate through values from 0 to the 'limit' parameter (inclusive)\n",
        "    for i in range(limit + 1):\n",
        "        # Add the current value of 'i' to the 'total_sum' variable\n",
        "        total_sum += i\n",
        "\n",
        "    # Return the final calculated sum\n",
        "    return total_sum\n",
        "\n",
        "# Call the function with a limit of 10 and store the result in 'result1'\n",
        "result1 = calculate_sum_up_to_limit(10)\n",
        "\n",
        "# Call the function with a limit of 50 and store the result in 'result2'\n",
        "result2 = calculate_sum_up_to_limit(50)\n",
        "\n",
        "# Display the results\n",
        "print(result1)\n",
        "print(result2)\n"
      ],
      "metadata": {
        "id": "elqXajwVFo8m"
      },
      "execution_count": null,
      "outputs": []
    },
    {
      "cell_type": "markdown",
      "source": [
        "Define a Python function named calculate_area that takes two parameters, length and width, and calculates the area of a rectangle. The function should return the calculated area. After defining the function, call it with length=5 and width=8, and print the result.\n",
        "\n",
        "Feel free to modify the question based on your sp"
      ],
      "metadata": {
        "id": "70DI5EWN-_UT"
      }
    },
    {
      "cell_type": "code",
      "source": [
        "# Define a function named calculate_area with two parameters: length and width\n",
        "def calculate_area(length, width):\n",
        "    # Assign a variable named area and use the multiplication operator to calculate area by multiplying length and width\n",
        "    area = length * width\n",
        "    # Use the return statement to send the calculated area value back from the function\n",
        "    return area\n",
        "\n",
        "# Call the calculate_area function with length 50 and width 50, and assign the result to a variable named result\n",
        "result = calculate_area(50, 50)\n",
        "\n",
        "# Use the print statement to display the result with a message\n",
        "print(f\"The area of the rectangle is: {result}\")\n"
      ],
      "metadata": {
        "id": "Nm6kolqI-K3m"
      },
      "execution_count": null,
      "outputs": []
    },
    {
      "cell_type": "code",
      "source": [
        "#Define the cell Function and generate  full name\n",
        "#Define function name is generate full name\n",
        "def generate_the_full_name():\n",
        "  #Assing string value to first_name varible\n",
        "    first_name=\"SURESH\"\n",
        "  #Assing staring value to List name Virble\n",
        "    list_name =\"Kumar\"\n",
        "  #Assing space varible value Assing staring\n",
        "    space = ''\n",
        "  #add the the string two value\n",
        "    full_name = first_name + space + list_name\n",
        "    #Define return function and collect  Out Put\n",
        "    return full_name\n",
        "#Cell the function give the Out\n",
        "result=generate_the_full_name()\n",
        "print(result)"
      ],
      "metadata": {
        "id": "IZ_LCUheHyzr"
      },
      "execution_count": null,
      "outputs": []
    },
    {
      "cell_type": "code",
      "source": [
        "# Define a function with parameters\n",
        "def welcome_participant(student, course_title):\n",
        "    \"\"\"\n",
        "    This function generates a welcome message for a participant in a Python Data Science course.\n",
        "    \"\"\"\n",
        "    print(\"Hello\", student + \", Welcome to Python for Artificial Intelligence \")\n",
        "    print(\"Your Course Name Is\", course_title)\n",
        "\n",
        "# Call the function with specific arguments\n",
        "Result = welcome_participant('Suresh', 'Python Basics ')\n"
      ],
      "metadata": {
        "id": "c2rSQ2uqDs9X"
      },
      "execution_count": null,
      "outputs": []
    }
  ]
}