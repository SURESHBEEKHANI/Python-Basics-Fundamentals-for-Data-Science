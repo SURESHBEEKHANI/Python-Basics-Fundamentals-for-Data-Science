{
  "nbformat": 4,
  "nbformat_minor": 0,
  "metadata": {
    "colab": {
      "private_outputs": true,
      "provenance": [],
      "toc_visible": true,
      "authorship_tag": "ABX9TyOauL0zcFvVFpND0CoqSEEv",
      "include_colab_link": true
    },
    "kernelspec": {
      "name": "python3",
      "display_name": "Python 3"
    },
    "language_info": {
      "name": "python"
    }
  },
  "cells": [
    {
      "cell_type": "markdown",
      "metadata": {
        "id": "view-in-github",
        "colab_type": "text"
      },
      "source": [
        "<a href=\"https://colab.research.google.com/github/SURESHBEEKHANI/Python_Basic-/blob/main/Python%20Functions.ipynb\" target=\"_parent\"><img src=\"https://colab.research.google.com/assets/colab-badge.svg\" alt=\"Open In Colab\"/></a>"
      ]
    },
    {
      "cell_type": "markdown",
      "source": [
        "# Python Functions\n",
        "In this class, you'll learn about functions, what a function is, the syntax, components, and types of functions. Also, you'll learn to create a function in Python.\n",
        "\n",
        "# What is a function in Python?\n",
        "In Python, a function is a block of organized, reusable (DRY- Don’t Repeat Yourself) code with a name that is used to perform a single, specific task. It can take arguments and returns the value.\n",
        "\n",
        "Functions help break our program into smaller and modular chunks. As our program grows larger and larger, functions make it more organized and manageable.\n",
        "\n",
        "Furthermore, it improves efficiency and reduces errors because of the reusability of a code.\n",
        "\n",
        "# Types of Functions\n",
        "Python support two types of functions\n",
        "\n",
        "[Built-in]function\n",
        "[User-defined] function\n",
        "1.Built-in function\n",
        "\n",
        "The functions which are come along with Python itself are called a built-in function or predefined function. Some of them are: range(), print(), input(), type(), id(), eval() etc.\n",
        "\n",
        "Example: Python range() function generates the immutable sequence of numbers starting from the given start integer to the stop integer."
      ],
      "metadata": {
        "id": "qDhriSb1FU1Z"
      }
    },
    {
      "cell_type": "code",
      "execution_count": null,
      "metadata": {
        "id": "XNmHD71AsYFg"
      },
      "outputs": [],
      "source": []
    }
  ]
}