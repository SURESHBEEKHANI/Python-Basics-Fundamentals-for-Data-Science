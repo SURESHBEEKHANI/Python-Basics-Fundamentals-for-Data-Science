{
 "cells": [
  {
   "cell_type": "markdown",
   "id": "f60ae161",
   "metadata": {},
   "source": [
    "#### **📘 Global vs Local Variables**\n",
    "\n",
    "---\n",
    "\n",
    "#### **🔹 1. What is a Variable Scope?**\n",
    "\n",
    "In Python, the **scope** of a variable refers to the part of the code where the variable is accessible. There are two main types:\n",
    "\n",
    "- **Local Variable**: Defined inside a function and accessible only within that function.\n",
    "- **Global Variable**: Defined outside all functions and accessible throughout the program.\n"
   ]
  },
  {
   "cell_type": "markdown",
   "id": "4b9611d4",
   "metadata": {},
   "source": [
    "#### **Global Variables**\n",
    "Global variables are defined outside of any function and can be accessed anywhere in the code."
   ]
  },
  {
   "cell_type": "code",
   "execution_count": 2,
   "id": "471cab6b",
   "metadata": {},
   "outputs": [
    {
     "name": "stdout",
     "output_type": "stream",
     "text": [
      "Inside function: x=10, y=20\n",
      "Outside function: 10\n"
     ]
    }
   ],
   "source": [
    "x = 10  # global variable\n",
    "\n",
    "def my_function():\n",
    "    y = 20  # local variable\n",
    "    print(f\"Inside function: x={x}, y={y}\")  # Accessing global variable and using f-string correctly\n",
    "\n",
    "my_function()\n",
    "print(\"Outside function:\", x)\n",
    "##print(\"inside function:\", y)\n",
    "#  cannnot access local variable y outside its scope will raise an error"
   ]
  },
  {
   "cell_type": "markdown",
   "id": "43558f77",
   "metadata": {},
   "source": [
    "####  **2. How Python Handles Variable Scope?**\n",
    "\n",
    "Python follows the **LEGB** (Local, Enclosing, Global, Built-in) rule to determine variable scope:\n",
    "\n",
    "1. **Local (L)** - Variables declared inside a function.\n",
    "2. **Enclosing (E)** - Variables in enclosing functions (nested functions).\n",
    "3. **Global (G)** - Variables declared at the top level of a script.\n",
    "4. **Built-in (B)** - Predefined variables in Python (e.g., `print`, `len`).\n",
    "\n",
    "**Example:** LEGB Rule in Action\n"
   ]
  },
  {
   "cell_type": "code",
   "execution_count": 3,
   "id": "5e89d7f8",
   "metadata": {},
   "outputs": [
    {
     "name": "stdout",
     "output_type": "stream",
     "text": [
      "Inside Inner Function: local\n",
      "Inside Outer Function: enclosing\n",
      "Outside All Functions: global\n"
     ]
    }
   ],
   "source": [
    "x = 'global'  # Global variable\n",
    "\n",
    "def outer_function():\n",
    "    x = 'enclosing'  # Enclosing variable\n",
    "\n",
    "    def inner_function():\n",
    "        x = 'local'  # Local variable\n",
    "        print('Inside Inner Function:', x)  # Prints local variable\n",
    "\n",
    "    inner_function()\n",
    "    print('Inside Outer Function:', x)  # Prints enclosing variable\n",
    "\n",
    "outer_function()\n",
    "print('Outside All Functions:', x)  # Prints global variable\n"
   ]
  },
  {
   "cell_type": "markdown",
   "id": "1bf4b40e",
   "metadata": {},
   "source": [
    "### **3. Modifying Global Variables Inside Functions**\n",
    "\n",
    "To modify a global variable inside a function, we must use the `global` keyword\n"
   ]
  },
  {
   "cell_type": "code",
   "execution_count": 4,
   "id": "caae6d85",
   "metadata": {},
   "outputs": [
    {
     "name": "stdout",
     "output_type": "stream",
     "text": [
      "Updated counter: SURESH\n"
     ]
    }
   ],
   "source": [
    "# Declare a global variable named 'counter' and assign a string value\n",
    "counter = \"suresh\"  # Global variable\n",
    "\n",
    "# Define a function to modify the global string variable\n",
    "def  uppercase():\n",
    "    global counter  # Tell Python we want to use the global 'counter' variable\n",
    "    counter = counter.upper()  # Convert string to uppercase and assign it back to 'counter'\n",
    "\n",
    "# Call the function to update the counter\n",
    "uppercase()\n",
    "\n",
    "# Print the updated value of the global counter\n",
    "print('Updated counter:', counter)  # Output: 'SURESH'"
   ]
  },
  {
   "cell_type": "code",
   "execution_count": 5,
   "id": "1b810340",
   "metadata": {},
   "outputs": [
    {
     "name": "stdout",
     "output_type": "stream",
     "text": [
      "Updated counter: 1\n"
     ]
    }
   ],
   "source": [
    "# Declare a global variable named 'counter' and initialize it to 0\n",
    "counter = 0  # Global variable\n",
    "\n",
    "# Define a function to increment the global counter\n",
    "def increment():\n",
    "    global counter  # Tell Python we want to use the global 'counter' variable\n",
    "    counter += 1  # Increase the global counter by 1\n",
    "\n",
    "# Call the function to increment the counter\n",
    "increment()\n",
    "\n",
    "# Print the updated value of the global counter\n",
    "print('Updated counter:', counter)\n"
   ]
  },
  {
   "cell_type": "markdown",
   "id": "b2c9e94b",
   "metadata": {},
   "source": [
    "#### **4. Best Practices for Using Global and Local Variables**\n",
    "\n",
    "- ✔ **Prefer local variables** whenever possible to avoid unintended side effects.\n",
    "- ✓ **Minimize the use of global variables** to keep code modular and maintainable.\n",
    "- ✓ **Use function arguments** to pass values instead of relying on global state.\n"
   ]
  },
  {
   "cell_type": "markdown",
   "id": "e7fe0f4c",
   "metadata": {},
   "source": [
    "### **5. Understanding `is` (Identity Comparison)**\n",
    "\n",
    "The `is` operator checks if two variables refer to the same object in memory."
   ]
  },
  {
   "cell_type": "code",
   "execution_count": 6,
   "id": "92922396",
   "metadata": {},
   "outputs": [
    {
     "name": "stdout",
     "output_type": "stream",
     "text": [
      "True\n",
      "False\n"
     ]
    }
   ],
   "source": [
    "# Understanding Identity Comparison (Using the `is` Operator)\n",
    "\n",
    "# The `is` operator checks if two variables refer to the same object in memory.\n",
    "# it two memory addresses are same or not\n",
    "# Example: Checking Object Identity\n",
    "a = [1, 2, 3]\n",
    "b = a  # `b` refers to the same object as `a`\n",
    "c = [1, 2, 3]\n",
    "\n",
    "print(a is b)  # Output: True (a and b point to the same object)\n",
    "print(a is c)  # Output: False (a and c are different objects with the same values)\n"
   ]
  },
  {
   "cell_type": "markdown",
   "id": "66dfd549",
   "metadata": {},
   "source": [
    "### **6. Understanding `==` (Value Comparison)**\n",
    "\n",
    "The `==` operator compares the **values** of two objects, not their identity in memory.\n"
   ]
  },
  {
   "cell_type": "code",
   "execution_count": 7,
   "id": "ef65d538",
   "metadata": {},
   "outputs": [
    {
     "name": "stdout",
     "output_type": "stream",
     "text": [
      "True\n",
      "False\n",
      "True\n",
      "True\n"
     ]
    }
   ],
   "source": [
    "a = [1, 2, 3]\n",
    "b = [1, 2, 3]\n",
    "c = a  # c points to the same object as a\n",
    "\n",
    "print(a == b)  # Output: True (a and b have the same values)\n",
    "print(a is b)  # Output: False (a and b are different objects in memory)\n",
    "\n",
    "print(c == a)  # Output: True (same values, because c is a reference to a)\n",
    "print(c is a)  # Output: True (c and a are the same object)\n"
   ]
  },
  {
   "cell_type": "markdown",
   "id": "2ecc6fd2",
   "metadata": {},
   "source": [
    "\n",
    "### **7. Key Differences Between `is` and `==`:**\n",
    "\n",
    "| Operator | Purpose |\n",
    "|----------|---------|\n",
    "| `is`     | Checks if two objects are the same object in memory (i.e., they occupy the same memory location). |\n",
    "| `==`     | Checks if two objects have the same value (i.e., they are equal in content, regardless of whether they are the same object). |\n"
   ]
  },
  {
   "cell_type": "markdown",
   "id": "ea647ad3",
   "metadata": {},
   "source": [
    "#### **8. Real-World Scenarios Where `is` and `==` Matter**\n",
    "\n",
    "### **Scenario 1: Comparing Immutable Objects**\n"
   ]
  },
  {
   "cell_type": "code",
   "execution_count": 8,
   "id": "5a57a286",
   "metadata": {},
   "outputs": [
    {
     "name": "stdout",
     "output_type": "stream",
     "text": [
      "False\n",
      "True\n",
      "False\n",
      "True\n"
     ]
    }
   ],
   "source": [
    "# Assigning 1000 to variable 'a' and 'b'\n",
    "a = 1000\n",
    "b = 1000\n",
    "\n",
    "# Using the 'is' operator to compare if both 'a' and 'b' refer to the same object in memory.\n",
    "# Output: False because integers greater than 256 are stored in different memory locations in Python.\n",
    "print(a is b)   # Output: False (different memory locations)\n",
    "\n",
    "# Assigning 250 to variable 'a' and 'b'\n",
    "a = 250\n",
    "b = 250\n",
    "\n",
    "# The value 250 is within the range of small integers (-5 to 256), which are cached by Python.\n",
    "# Therefore, 'a' and 'b' point to the same memory location, so the result is True.\n",
    "print(a is b)   # Output: True (same value)\n",
    "\n",
    "# Assigning 257 to variable 'a' and 'b'\n",
    "a = 257\n",
    "b = 257\n",
    "\n",
    "# Even though 257 is outside the small integer cache range, Python still optimizes memory usage.\n",
    "# However, the result is True because of an internal optimization that shares objects in certain cases.\n",
    "print(a is b)   # Output: True (same value)\n",
    "\n",
    "# Assigning 10 to variable 'c' and 'd'\n",
    "c = 10\n",
    "d = 10\n",
    "\n",
    "# 10 is a small integer (within the small integer cache range), so Python uses the same memory location.\n",
    "# The 'is' operator returns True because both 'c' and 'd' reference the same object in memory.\n",
    "print(c is d)   # Output: True (same memory location)\n"
   ]
  },
  {
   "cell_type": "code",
   "execution_count": 9,
   "id": "53794e7c",
   "metadata": {},
   "outputs": [
    {
     "name": "stdout",
     "output_type": "stream",
     "text": [
      "x is None\n"
     ]
    }
   ],
   "source": [
    "x= None\n",
    "if x is None:\n",
    "    print(\"x is None\")"
   ]
  }
 ],
 "metadata": {
  "kernelspec": {
   "display_name": "Python 3",
   "language": "python",
   "name": "python3"
  },
  "language_info": {
   "codemirror_mode": {
    "name": "ipython",
    "version": 3
   },
   "file_extension": ".py",
   "mimetype": "text/x-python",
   "name": "python",
   "nbconvert_exporter": "python",
   "pygments_lexer": "ipython3",
   "version": "3.10.16"
  }
 },
 "nbformat": 4,
 "nbformat_minor": 5
}
