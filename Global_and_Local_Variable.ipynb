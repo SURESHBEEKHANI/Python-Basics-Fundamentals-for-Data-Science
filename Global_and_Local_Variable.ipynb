{
 "cells": [
  {
   "cell_type": "markdown",
   "id": "f60ae161",
   "metadata": {},
   "source": [
    "#### **📘 Global vs Local Variables**\n",
    "\n",
    "---\n",
    "\n",
    "#### **🔹 1. What is a Variable Scope?**\n",
    "\n",
    "In Python, the **scope** of a variable refers to the part of the code where the variable is accessible. There are two main types:\n",
    "\n",
    "- **Local Variable**: Defined inside a function and accessible only within that function.\n",
    "- **Global Variable**: Defined outside all functions and accessible throughout the program.\n"
   ]
  },
  {
   "cell_type": "markdown",
   "id": "4b9611d4",
   "metadata": {},
   "source": [
    "#### **Global Variables**\n",
    "Global variables are defined outside of any function and can be accessed anywhere in the code."
   ]
  },
  {
   "cell_type": "code",
   "execution_count": 6,
   "id": "471cab6b",
   "metadata": {},
   "outputs": [
    {
     "name": "stdout",
     "output_type": "stream",
     "text": [
      "Inside function: x=10, y=20\n",
      "Outside function: 10\n"
     ]
    }
   ],
   "source": [
    "x = 10  # global variable\n",
    "\n",
    "def my_function():\n",
    "    y = 20  # local variable\n",
    "    print(f\"Inside function: x={x}, y={y}\")  # Accessing global variable and using f-string correctly\n",
    "\n",
    "my_function()\n",
    "print(\"Outside function:\", x)\n",
    "##print(\"inside function:\", y)\n",
    "#  cannnot access local variable y outside its scope will raise an error"
   ]
  },
  {
   "cell_type": "markdown",
   "id": "43558f77",
   "metadata": {},
   "source": [
    "####  **2. How Python Handles Variable Scope?**\n",
    "\n",
    "Python follows the **LEGB** (Local, Enclosing, Global, Built-in) rule to determine variable scope:\n",
    "\n",
    "1. **Local (L)** - Variables declared inside a function.\n",
    "2. **Enclosing (E)** - Variables in enclosing functions (nested functions).\n",
    "3. **Global (G)** - Variables declared at the top level of a script.\n",
    "4. **Built-in (B)** - Predefined variables in Python (e.g., `print`, `len`).\n",
    "\n",
    "**Example:** LEGB Rule in Action\n"
   ]
  },
  {
   "cell_type": "code",
   "execution_count": 7,
   "id": "5e89d7f8",
   "metadata": {},
   "outputs": [
    {
     "name": "stdout",
     "output_type": "stream",
     "text": [
      "Inside Inner Function: local\n",
      "Inside Outer Function: enclosing\n",
      "Outside All Functions: global\n"
     ]
    }
   ],
   "source": [
    "x = 'global'  # Global variable\n",
    "\n",
    "def outer_function():\n",
    "    x = 'enclosing'  # Enclosing variable\n",
    "\n",
    "    def inner_function():\n",
    "        x = 'local'  # Local variable\n",
    "        print('Inside Inner Function:', x)  # Prints local variable\n",
    "\n",
    "    inner_function()\n",
    "    print('Inside Outer Function:', x)  # Prints enclosing variable\n",
    "\n",
    "outer_function()\n",
    "print('Outside All Functions:', x)  # Prints global variable\n"
   ]
  },
  {
   "cell_type": "markdown",
   "id": "1bf4b40e",
   "metadata": {},
   "source": [
    "### **3. Modifying Global Variables Inside Functions**\n",
    "\n",
    "To modify a global variable inside a function, we must use the `global` keyword\n"
   ]
  },
  {
   "cell_type": "code",
   "execution_count": 14,
   "id": "caae6d85",
   "metadata": {},
   "outputs": [
    {
     "name": "stdout",
     "output_type": "stream",
     "text": [
      "Updated counter: SURESH\n"
     ]
    }
   ],
   "source": [
    "# Declare a global variable named 'counter' and assign a string value\n",
    "counter = \"suresh\"  # Global variable\n",
    "\n",
    "# Define a function to modify the global string variable\n",
    "def  uppercase():\n",
    "    global counter  # Tell Python we want to use the global 'counter' variable\n",
    "    counter = counter.upper()  # Convert string to uppercase and assign it back to 'counter'\n",
    "\n",
    "# Call the function to update the counter\n",
    "uppercase()\n",
    "\n",
    "# Print the updated value of the global counter\n",
    "print('Updated counter:', counter)  # Output: 'SURESH'"
   ]
  },
  {
   "cell_type": "code",
   "execution_count": 15,
   "id": "1b810340",
   "metadata": {},
   "outputs": [
    {
     "name": "stdout",
     "output_type": "stream",
     "text": [
      "Updated counter: 1\n"
     ]
    }
   ],
   "source": [
    "# Declare a global variable named 'counter' and initialize it to 0\n",
    "counter = 0  # Global variable\n",
    "\n",
    "# Define a function to increment the global counter\n",
    "def increment():\n",
    "    global counter  # Tell Python we want to use the global 'counter' variable\n",
    "    counter += 1  # Increase the global counter by 1\n",
    "\n",
    "# Call the function to increment the counter\n",
    "increment()\n",
    "\n",
    "# Print the updated value of the global counter\n",
    "print('Updated counter:', counter)\n"
   ]
  },
  {
   "cell_type": "markdown",
   "id": "b2c9e94b",
   "metadata": {},
   "source": [
    "#### **4. Best Practices for Using Global and Local Variables**\n",
    "\n",
    "- ✔ **Prefer local variables** whenever possible to avoid unintended side effects.\n",
    "- ✓ **Minimize the use of global variables** to keep code modular and maintainable.\n",
    "- ✓ **Use function arguments** to pass values instead of relying on global state.\n"
   ]
  }
 ],
 "metadata": {
  "kernelspec": {
   "display_name": "Python 3",
   "language": "python",
   "name": "python3"
  },
  "language_info": {
   "codemirror_mode": {
    "name": "ipython",
    "version": 3
   },
   "file_extension": ".py",
   "mimetype": "text/x-python",
   "name": "python",
   "nbconvert_exporter": "python",
   "pygments_lexer": "ipython3",
   "version": "3.10.16"
  }
 },
 "nbformat": 4,
 "nbformat_minor": 5
}
